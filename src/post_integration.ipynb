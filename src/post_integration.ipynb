{
 "cells": [
  {
   "cell_type": "code",
   "execution_count": 153,
   "id": "46cb1bba-c504-4425-9d4c-4f0c8af01654",
   "metadata": {},
   "outputs": [],
   "source": [
    "suppressMessages({library(Seurat)\n",
    "                  library(Matrix)\n",
    "                  library(dplyr)\n",
    "                  library(ggplot2)\n",
    "                  library(data.table)\n",
    "                 library(stringr)\n",
    "                 library(tibble)\n",
    "                 library(tidyr)\n",
    "                 library(data.table)\n",
    "                 library(scales)})"
   ]
  },
  {
   "cell_type": "markdown",
   "id": "390941d1-a0a6-4ab9-bf12-4340e0385805",
   "metadata": {},
   "source": [
    "### Add Sample Information\n",
    "1. all.cells.annotation.txt\n",
    "2. nCoV_mine_integrated_celltype_final_marker.rds (size 3.2GB) --> This will be sent to an email over cloud. "
   ]
  },
  {
   "cell_type": "code",
   "execution_count": 32,
   "id": "0359425b-85a9-4ba2-84a9-c593339209f2",
   "metadata": {},
   "outputs": [],
   "source": [
    "nCoV.integrated <- readRDS(file = 'nCoV_mine_integrated_celltype_final_marker.rds') #from covid_project.ipynb\n",
    "to_be_deleted <- c('ID','sample','sample_new', 'group', 'disease', 'hasnCoV', 'cluster','celltype')\n",
    "nCoV.integrated@meta.data <- nCoV.integrated@meta.data[, !(colnames(nCoV.integrated@meta.data) %in% to_be_deleted)]"
   ]
  },
  {
   "cell_type": "code",
   "execution_count": 33,
   "id": "466c2441-c353-43a5-b117-bfdf91292cf3",
   "metadata": {},
   "outputs": [],
   "source": [
    "annotated_df <- read.table('covid_balf/singlecellstudy/data/all.cell.annotation.meta.txt',\n",
    "                          header = TRUE)\n",
    "annotated_df <- annotated_df %>%\n",
    "    dplyr::filter(sample != 'GSM3660650')"
   ]
  },
  {
   "cell_type": "code",
   "execution_count": 34,
   "id": "3ce67037-f5bc-4c14-8e33-b6e1a9aac16c",
   "metadata": {},
   "outputs": [
    {
     "data": {
      "text/html": [
       "<table class=\"dataframe\">\n",
       "<caption>A data.frame: 6 × 8</caption>\n",
       "<thead>\n",
       "\t<tr><th></th><th scope=col>ID</th><th scope=col>sample</th><th scope=col>sample_new</th><th scope=col>group</th><th scope=col>disease</th><th scope=col>hasnCoV</th><th scope=col>cluster</th><th scope=col>celltype</th></tr>\n",
       "\t<tr><th></th><th scope=col>&lt;chr&gt;</th><th scope=col>&lt;chr&gt;</th><th scope=col>&lt;chr&gt;</th><th scope=col>&lt;chr&gt;</th><th scope=col>&lt;chr&gt;</th><th scope=col>&lt;chr&gt;</th><th scope=col>&lt;int&gt;</th><th scope=col>&lt;chr&gt;</th></tr>\n",
       "</thead>\n",
       "<tbody>\n",
       "\t<tr><th scope=row>1</th><td>AAACCTGAGACACTAA_1</td><td>C51</td><td>HC1</td><td>HC</td><td>N</td><td>N</td><td>3</td><td>Macrophages</td></tr>\n",
       "\t<tr><th scope=row>2</th><td>AAACCTGAGGAGTACC_1</td><td>C51</td><td>HC1</td><td>HC</td><td>N</td><td>N</td><td>3</td><td>Macrophages</td></tr>\n",
       "\t<tr><th scope=row>3</th><td>AAACCTGAGGATATAC_1</td><td>C51</td><td>HC1</td><td>HC</td><td>N</td><td>N</td><td>3</td><td>Macrophages</td></tr>\n",
       "\t<tr><th scope=row>4</th><td>AAACCTGAGGTCATCT_1</td><td>C51</td><td>HC1</td><td>HC</td><td>N</td><td>N</td><td>3</td><td>Macrophages</td></tr>\n",
       "\t<tr><th scope=row>5</th><td>AAACCTGCACGGATAG_1</td><td>C51</td><td>HC1</td><td>HC</td><td>N</td><td>N</td><td>5</td><td>Macrophages</td></tr>\n",
       "\t<tr><th scope=row>6</th><td>AAACCTGCAGGGAGAG_1</td><td>C51</td><td>HC1</td><td>HC</td><td>N</td><td>N</td><td>2</td><td>Macrophages</td></tr>\n",
       "</tbody>\n",
       "</table>\n"
      ],
      "text/latex": [
       "A data.frame: 6 × 8\n",
       "\\begin{tabular}{r|llllllll}\n",
       "  & ID & sample & sample\\_new & group & disease & hasnCoV & cluster & celltype\\\\\n",
       "  & <chr> & <chr> & <chr> & <chr> & <chr> & <chr> & <int> & <chr>\\\\\n",
       "\\hline\n",
       "\t1 & AAACCTGAGACACTAA\\_1 & C51 & HC1 & HC & N & N & 3 & Macrophages\\\\\n",
       "\t2 & AAACCTGAGGAGTACC\\_1 & C51 & HC1 & HC & N & N & 3 & Macrophages\\\\\n",
       "\t3 & AAACCTGAGGATATAC\\_1 & C51 & HC1 & HC & N & N & 3 & Macrophages\\\\\n",
       "\t4 & AAACCTGAGGTCATCT\\_1 & C51 & HC1 & HC & N & N & 3 & Macrophages\\\\\n",
       "\t5 & AAACCTGCACGGATAG\\_1 & C51 & HC1 & HC & N & N & 5 & Macrophages\\\\\n",
       "\t6 & AAACCTGCAGGGAGAG\\_1 & C51 & HC1 & HC & N & N & 2 & Macrophages\\\\\n",
       "\\end{tabular}\n"
      ],
      "text/markdown": [
       "\n",
       "A data.frame: 6 × 8\n",
       "\n",
       "| <!--/--> | ID &lt;chr&gt; | sample &lt;chr&gt; | sample_new &lt;chr&gt; | group &lt;chr&gt; | disease &lt;chr&gt; | hasnCoV &lt;chr&gt; | cluster &lt;int&gt; | celltype &lt;chr&gt; |\n",
       "|---|---|---|---|---|---|---|---|---|\n",
       "| 1 | AAACCTGAGACACTAA_1 | C51 | HC1 | HC | N | N | 3 | Macrophages |\n",
       "| 2 | AAACCTGAGGAGTACC_1 | C51 | HC1 | HC | N | N | 3 | Macrophages |\n",
       "| 3 | AAACCTGAGGATATAC_1 | C51 | HC1 | HC | N | N | 3 | Macrophages |\n",
       "| 4 | AAACCTGAGGTCATCT_1 | C51 | HC1 | HC | N | N | 3 | Macrophages |\n",
       "| 5 | AAACCTGCACGGATAG_1 | C51 | HC1 | HC | N | N | 5 | Macrophages |\n",
       "| 6 | AAACCTGCAGGGAGAG_1 | C51 | HC1 | HC | N | N | 2 | Macrophages |\n",
       "\n"
      ],
      "text/plain": [
       "  ID                 sample sample_new group disease hasnCoV cluster\n",
       "1 AAACCTGAGACACTAA_1 C51    HC1        HC    N       N       3      \n",
       "2 AAACCTGAGGAGTACC_1 C51    HC1        HC    N       N       3      \n",
       "3 AAACCTGAGGATATAC_1 C51    HC1        HC    N       N       3      \n",
       "4 AAACCTGAGGTCATCT_1 C51    HC1        HC    N       N       3      \n",
       "5 AAACCTGCACGGATAG_1 C51    HC1        HC    N       N       5      \n",
       "6 AAACCTGCAGGGAGAG_1 C51    HC1        HC    N       N       2      \n",
       "  celltype   \n",
       "1 Macrophages\n",
       "2 Macrophages\n",
       "3 Macrophages\n",
       "4 Macrophages\n",
       "5 Macrophages\n",
       "6 Macrophages"
      ]
     },
     "metadata": {},
     "output_type": "display_data"
    }
   ],
   "source": [
    "head(annotated_df)"
   ]
  },
  {
   "cell_type": "code",
   "execution_count": 35,
   "id": "6680d403-5f65-4922-bdd9-15b5fd7b656c",
   "metadata": {},
   "outputs": [
    {
     "data": {
      "text/html": [
       "<table class=\"dataframe\">\n",
       "<caption>A data.frame: 6 × 6</caption>\n",
       "<thead>\n",
       "\t<tr><th></th><th scope=col>orig.ident</th><th scope=col>nCount_RNA</th><th scope=col>nFeature_RNA</th><th scope=col>percent.mito</th><th scope=col>integrated_snn_res.1.2</th><th scope=col>seurat_clusters</th></tr>\n",
       "\t<tr><th></th><th scope=col>&lt;chr&gt;</th><th scope=col>&lt;dbl&gt;</th><th scope=col>&lt;int&gt;</th><th scope=col>&lt;dbl&gt;</th><th scope=col>&lt;fct&gt;</th><th scope=col>&lt;fct&gt;</th></tr>\n",
       "</thead>\n",
       "<tbody>\n",
       "\t<tr><th scope=row>AAACCTGAGACACTAA-1_1</th><td>C51</td><td>5228</td><td>1635</td><td>1.549350</td><td>2 </td><td>2 </td></tr>\n",
       "\t<tr><th scope=row>AAACCTGAGGAGTACC-1_1</th><td>C51</td><td>5071</td><td>1385</td><td>1.794518</td><td>12</td><td>12</td></tr>\n",
       "\t<tr><th scope=row>AAACCTGAGGATATAC-1_1</th><td>C51</td><td>5531</td><td>1729</td><td>1.627192</td><td>2 </td><td>2 </td></tr>\n",
       "\t<tr><th scope=row>AAACCTGAGGTCATCT-1_1</th><td>C51</td><td>5630</td><td>1639</td><td>1.953819</td><td>2 </td><td>2 </td></tr>\n",
       "\t<tr><th scope=row>AAACCTGCACGGATAG-1_1</th><td>C51</td><td>7358</td><td>1722</td><td>2.772493</td><td>6 </td><td>6 </td></tr>\n",
       "\t<tr><th scope=row>AAACCTGCAGGGAGAG-1_1</th><td>C51</td><td>4615</td><td>1312</td><td>1.473456</td><td>2 </td><td>2 </td></tr>\n",
       "</tbody>\n",
       "</table>\n"
      ],
      "text/latex": [
       "A data.frame: 6 × 6\n",
       "\\begin{tabular}{r|llllll}\n",
       "  & orig.ident & nCount\\_RNA & nFeature\\_RNA & percent.mito & integrated\\_snn\\_res.1.2 & seurat\\_clusters\\\\\n",
       "  & <chr> & <dbl> & <int> & <dbl> & <fct> & <fct>\\\\\n",
       "\\hline\n",
       "\tAAACCTGAGACACTAA-1\\_1 & C51 & 5228 & 1635 & 1.549350 & 2  & 2 \\\\\n",
       "\tAAACCTGAGGAGTACC-1\\_1 & C51 & 5071 & 1385 & 1.794518 & 12 & 12\\\\\n",
       "\tAAACCTGAGGATATAC-1\\_1 & C51 & 5531 & 1729 & 1.627192 & 2  & 2 \\\\\n",
       "\tAAACCTGAGGTCATCT-1\\_1 & C51 & 5630 & 1639 & 1.953819 & 2  & 2 \\\\\n",
       "\tAAACCTGCACGGATAG-1\\_1 & C51 & 7358 & 1722 & 2.772493 & 6  & 6 \\\\\n",
       "\tAAACCTGCAGGGAGAG-1\\_1 & C51 & 4615 & 1312 & 1.473456 & 2  & 2 \\\\\n",
       "\\end{tabular}\n"
      ],
      "text/markdown": [
       "\n",
       "A data.frame: 6 × 6\n",
       "\n",
       "| <!--/--> | orig.ident &lt;chr&gt; | nCount_RNA &lt;dbl&gt; | nFeature_RNA &lt;int&gt; | percent.mito &lt;dbl&gt; | integrated_snn_res.1.2 &lt;fct&gt; | seurat_clusters &lt;fct&gt; |\n",
       "|---|---|---|---|---|---|---|\n",
       "| AAACCTGAGACACTAA-1_1 | C51 | 5228 | 1635 | 1.549350 | 2  | 2  |\n",
       "| AAACCTGAGGAGTACC-1_1 | C51 | 5071 | 1385 | 1.794518 | 12 | 12 |\n",
       "| AAACCTGAGGATATAC-1_1 | C51 | 5531 | 1729 | 1.627192 | 2  | 2  |\n",
       "| AAACCTGAGGTCATCT-1_1 | C51 | 5630 | 1639 | 1.953819 | 2  | 2  |\n",
       "| AAACCTGCACGGATAG-1_1 | C51 | 7358 | 1722 | 2.772493 | 6  | 6  |\n",
       "| AAACCTGCAGGGAGAG-1_1 | C51 | 4615 | 1312 | 1.473456 | 2  | 2  |\n",
       "\n"
      ],
      "text/plain": [
       "                     orig.ident nCount_RNA nFeature_RNA percent.mito\n",
       "AAACCTGAGACACTAA-1_1 C51        5228       1635         1.549350    \n",
       "AAACCTGAGGAGTACC-1_1 C51        5071       1385         1.794518    \n",
       "AAACCTGAGGATATAC-1_1 C51        5531       1729         1.627192    \n",
       "AAACCTGAGGTCATCT-1_1 C51        5630       1639         1.953819    \n",
       "AAACCTGCACGGATAG-1_1 C51        7358       1722         2.772493    \n",
       "AAACCTGCAGGGAGAG-1_1 C51        4615       1312         1.473456    \n",
       "                     integrated_snn_res.1.2 seurat_clusters\n",
       "AAACCTGAGACACTAA-1_1 2                      2              \n",
       "AAACCTGAGGAGTACC-1_1 12                     12             \n",
       "AAACCTGAGGATATAC-1_1 2                      2              \n",
       "AAACCTGAGGTCATCT-1_1 2                      2              \n",
       "AAACCTGCACGGATAG-1_1 6                      6              \n",
       "AAACCTGCAGGGAGAG-1_1 2                      2              "
      ]
     },
     "metadata": {},
     "output_type": "display_data"
    }
   ],
   "source": [
    "head(nCoV.integrated@meta.data)"
   ]
  },
  {
   "cell_type": "markdown",
   "id": "8054cb7f-e3c2-49d5-96a2-6b9fc9ee52b8",
   "metadata": {},
   "source": [
    "### Patient meta-data and available integrated dataframe have been compared against each other using various EDA methods"
   ]
  },
  {
   "cell_type": "code",
   "execution_count": 36,
   "id": "0819b4b9-6e7d-4959-bd1c-830018c8c382",
   "metadata": {},
   "outputs": [
    {
     "data": {
      "image/png": "[encoded data removed]",
      "text/plain": [
       "plot without title"
      ]
     },
     "metadata": {
      "image/png": {
       "height": 420,
       "width": 420
      }
     },
     "output_type": "display_data"
    }
   ],
   "source": [
    "p <- ggplot(annotated_df)\n",
    "p + aes(factor(sample)) + geom_bar()"
   ]
  },
  {
   "cell_type": "code",
   "execution_count": 37,
   "id": "7480dad8-b747-4e63-900f-b5a5d08c88d8",
   "metadata": {},
   "outputs": [
    {
     "data": {
      "image/png": "[encoded data removed]",
      "text/plain": [
       "plot without title"
      ]
     },
     "metadata": {
      "image/png": {
       "height": 420,
       "width": 420
      }
     },
     "output_type": "display_data"
    }
   ],
   "source": [
    "p <- ggplot(nCoV.integrated@meta.data)\n",
    "p + aes(factor(orig.ident)) + geom_bar()"
   ]
  },
  {
   "cell_type": "code",
   "execution_count": 38,
   "id": "f03878d0-af37-4241-9d60-5d0956fc2285",
   "metadata": {},
   "outputs": [
    {
     "name": "stdout",
     "output_type": "stream",
     "text": [
      "'data.frame':\t63103 obs. of  8 variables:\n",
      " $ ID        : chr  \"AAACCTGAGACACTAA_1\" \"AAACCTGAGGAGTACC_1\" \"AAACCTGAGGATATAC_1\" \"AAACCTGAGGTCATCT_1\" ...\n",
      " $ sample    : chr  \"C51\" \"C51\" \"C51\" \"C51\" ...\n",
      " $ sample_new: chr  \"HC1\" \"HC1\" \"HC1\" \"HC1\" ...\n",
      " $ group     : chr  \"HC\" \"HC\" \"HC\" \"HC\" ...\n",
      " $ disease   : chr  \"N\" \"N\" \"N\" \"N\" ...\n",
      " $ hasnCoV   : chr  \"N\" \"N\" \"N\" \"N\" ...\n",
      " $ cluster   : int  3 3 3 3 5 2 8 5 5 5 ...\n",
      " $ celltype  : chr  \"Macrophages\" \"Macrophages\" \"Macrophages\" \"Macrophages\" ...\n",
      "'data.frame':\t63734 obs. of  6 variables:\n",
      " $ orig.ident            : chr  \"C51\" \"C51\" \"C51\" \"C51\" ...\n",
      " $ nCount_RNA            : num  5228 5071 5531 5630 7358 ...\n",
      " $ nFeature_RNA          : int  1635 1385 1729 1639 1722 1312 1307 2211 1859 1835 ...\n",
      " $ percent.mito          : num  1.55 1.79 1.63 1.95 2.77 ...\n",
      " $ integrated_snn_res.1.2: Factor w/ 30 levels \"0\",\"1\",\"10\",\"11\",..: 13 5 13 13 27 13 25 6 6 6 ...\n",
      " $ seurat_clusters       : Factor w/ 30 levels \"0\",\"1\",\"2\",\"3\",..: 3 13 3 3 7 3 5 14 14 14 ...\n"
     ]
    },
    {
     "data": {
      "text/plain": [
       "NULL"
      ]
     },
     "metadata": {},
     "output_type": "display_data"
    }
   ],
   "source": [
    "c(str(annotated_df), str(nCoV.integrated@meta.data))"
   ]
  },
  {
   "cell_type": "markdown",
   "id": "0c5cb807-afc3-46bf-9376-68de7956072e",
   "metadata": {},
   "source": [
    "> 63103 cells have been annotated, but 63734 cells exist ready to be analyzed.\n",
    ">\n",
    "> Barcode distributions for both graphs seem really similar. "
   ]
  },
  {
   "cell_type": "markdown",
   "id": "377e6f9a-9330-4580-a6cb-664776735a11",
   "metadata": {},
   "source": [
    "### Can we compensate the differences??"
   ]
  },
  {
   "cell_type": "code",
   "execution_count": 39,
   "id": "79743984-c0cf-467c-9d00-b85fa67d2f40",
   "metadata": {},
   "outputs": [],
   "source": [
    "####add  sample info\n",
    "sample_info = as.data.frame(colnames(nCoV.integrated))\n",
    "colnames(sample_info) = c('ID')\n",
    "rownames(sample_info) = sample_info$ID\n",
    "sample_info$sample = nCoV.integrated@meta.data$orig.ident\n",
    "rownames(sample_info) <- sample_info$ID\n",
    "sample_info$ID <- NULL"
   ]
  },
  {
   "cell_type": "code",
   "execution_count": 40,
   "id": "78615d94-ae9a-4c70-9d08-accea477db42",
   "metadata": {},
   "outputs": [
    {
     "data": {
      "text/html": [
       "<table class=\"dataframe\">\n",
       "<caption>A data.frame: 6 × 8</caption>\n",
       "<thead>\n",
       "\t<tr><th></th><th scope=col>ID</th><th scope=col>sample</th><th scope=col>sample_new</th><th scope=col>group</th><th scope=col>disease</th><th scope=col>hasnCoV</th><th scope=col>cluster</th><th scope=col>celltype</th></tr>\n",
       "\t<tr><th></th><th scope=col>&lt;chr&gt;</th><th scope=col>&lt;chr&gt;</th><th scope=col>&lt;chr&gt;</th><th scope=col>&lt;chr&gt;</th><th scope=col>&lt;chr&gt;</th><th scope=col>&lt;chr&gt;</th><th scope=col>&lt;int&gt;</th><th scope=col>&lt;chr&gt;</th></tr>\n",
       "</thead>\n",
       "<tbody>\n",
       "\t<tr><th scope=row>63098</th><td>TTTGGTTTCAAACCAC_13</td><td>C152</td><td>S6</td><td>S</td><td>Y</td><td>N</td><td>13</td><td>Epithelial </td></tr>\n",
       "\t<tr><th scope=row>63099</th><td>TTTGGTTTCGCTTGTC_13</td><td>C152</td><td>S6</td><td>S</td><td>Y</td><td>N</td><td> 1</td><td>Macrophages</td></tr>\n",
       "\t<tr><th scope=row>63100</th><td>TTTGTCAAGAAACGCC_13</td><td>C152</td><td>S6</td><td>S</td><td>Y</td><td>N</td><td>14</td><td>T          </td></tr>\n",
       "\t<tr><th scope=row>63101</th><td>TTTGTCACAACACCCG_13</td><td>C152</td><td>S6</td><td>S</td><td>Y</td><td>N</td><td>19</td><td>Plasma     </td></tr>\n",
       "\t<tr><th scope=row>63102</th><td>TTTGTCAGTCTGCAAT_13</td><td>C152</td><td>S6</td><td>S</td><td>Y</td><td>N</td><td>19</td><td>Plasma     </td></tr>\n",
       "\t<tr><th scope=row>63103</th><td>TTTGTCAGTGTTGGGA_13</td><td>C152</td><td>S6</td><td>S</td><td>Y</td><td>N</td><td>10</td><td>Macrophages</td></tr>\n",
       "</tbody>\n",
       "</table>\n"
      ],
      "text/latex": [
       "A data.frame: 6 × 8\n",
       "\\begin{tabular}{r|llllllll}\n",
       "  & ID & sample & sample\\_new & group & disease & hasnCoV & cluster & celltype\\\\\n",
       "  & <chr> & <chr> & <chr> & <chr> & <chr> & <chr> & <int> & <chr>\\\\\n",
       "\\hline\n",
       "\t63098 & TTTGGTTTCAAACCAC\\_13 & C152 & S6 & S & Y & N & 13 & Epithelial \\\\\n",
       "\t63099 & TTTGGTTTCGCTTGTC\\_13 & C152 & S6 & S & Y & N &  1 & Macrophages\\\\\n",
       "\t63100 & TTTGTCAAGAAACGCC\\_13 & C152 & S6 & S & Y & N & 14 & T          \\\\\n",
       "\t63101 & TTTGTCACAACACCCG\\_13 & C152 & S6 & S & Y & N & 19 & Plasma     \\\\\n",
       "\t63102 & TTTGTCAGTCTGCAAT\\_13 & C152 & S6 & S & Y & N & 19 & Plasma     \\\\\n",
       "\t63103 & TTTGTCAGTGTTGGGA\\_13 & C152 & S6 & S & Y & N & 10 & Macrophages\\\\\n",
       "\\end{tabular}\n"
      ],
      "text/markdown": [
       "\n",
       "A data.frame: 6 × 8\n",
       "\n",
       "| <!--/--> | ID &lt;chr&gt; | sample &lt;chr&gt; | sample_new &lt;chr&gt; | group &lt;chr&gt; | disease &lt;chr&gt; | hasnCoV &lt;chr&gt; | cluster &lt;int&gt; | celltype &lt;chr&gt; |\n",
       "|---|---|---|---|---|---|---|---|---|\n",
       "| 63098 | TTTGGTTTCAAACCAC_13 | C152 | S6 | S | Y | N | 13 | Epithelial  |\n",
       "| 63099 | TTTGGTTTCGCTTGTC_13 | C152 | S6 | S | Y | N |  1 | Macrophages |\n",
       "| 63100 | TTTGTCAAGAAACGCC_13 | C152 | S6 | S | Y | N | 14 | T           |\n",
       "| 63101 | TTTGTCACAACACCCG_13 | C152 | S6 | S | Y | N | 19 | Plasma      |\n",
       "| 63102 | TTTGTCAGTCTGCAAT_13 | C152 | S6 | S | Y | N | 19 | Plasma      |\n",
       "| 63103 | TTTGTCAGTGTTGGGA_13 | C152 | S6 | S | Y | N | 10 | Macrophages |\n",
       "\n"
      ],
      "text/plain": [
       "      ID                  sample sample_new group disease hasnCoV cluster\n",
       "63098 TTTGGTTTCAAACCAC_13 C152   S6         S     Y       N       13     \n",
       "63099 TTTGGTTTCGCTTGTC_13 C152   S6         S     Y       N        1     \n",
       "63100 TTTGTCAAGAAACGCC_13 C152   S6         S     Y       N       14     \n",
       "63101 TTTGTCACAACACCCG_13 C152   S6         S     Y       N       19     \n",
       "63102 TTTGTCAGTCTGCAAT_13 C152   S6         S     Y       N       19     \n",
       "63103 TTTGTCAGTGTTGGGA_13 C152   S6         S     Y       N       10     \n",
       "      celltype   \n",
       "63098 Epithelial \n",
       "63099 Macrophages\n",
       "63100 T          \n",
       "63101 Plasma     \n",
       "63102 Plasma     \n",
       "63103 Macrophages"
      ]
     },
     "metadata": {},
     "output_type": "display_data"
    },
    {
     "data": {
      "text/html": [
       "<table class=\"dataframe\">\n",
       "<caption>A data.frame: 6 × 1</caption>\n",
       "<thead>\n",
       "\t<tr><th></th><th scope=col>sample</th></tr>\n",
       "\t<tr><th></th><th scope=col>&lt;chr&gt;</th></tr>\n",
       "</thead>\n",
       "<tbody>\n",
       "\t<tr><th scope=row>TTTGGTTTCAAACCAC-1_12</th><td>C152</td></tr>\n",
       "\t<tr><th scope=row>TTTGGTTTCGCTTGTC-1_12</th><td>C152</td></tr>\n",
       "\t<tr><th scope=row>TTTGTCAAGAAACGCC-1_12</th><td>C152</td></tr>\n",
       "\t<tr><th scope=row>TTTGTCACAACACCCG-1_12</th><td>C152</td></tr>\n",
       "\t<tr><th scope=row>TTTGTCAGTCTGCAAT-1_12</th><td>C152</td></tr>\n",
       "\t<tr><th scope=row>TTTGTCAGTGTTGGGA-1_12</th><td>C152</td></tr>\n",
       "</tbody>\n",
       "</table>\n"
      ],
      "text/latex": [
       "A data.frame: 6 × 1\n",
       "\\begin{tabular}{r|l}\n",
       "  & sample\\\\\n",
       "  & <chr>\\\\\n",
       "\\hline\n",
       "\tTTTGGTTTCAAACCAC-1\\_12 & C152\\\\\n",
       "\tTTTGGTTTCGCTTGTC-1\\_12 & C152\\\\\n",
       "\tTTTGTCAAGAAACGCC-1\\_12 & C152\\\\\n",
       "\tTTTGTCACAACACCCG-1\\_12 & C152\\\\\n",
       "\tTTTGTCAGTCTGCAAT-1\\_12 & C152\\\\\n",
       "\tTTTGTCAGTGTTGGGA-1\\_12 & C152\\\\\n",
       "\\end{tabular}\n"
      ],
      "text/markdown": [
       "\n",
       "A data.frame: 6 × 1\n",
       "\n",
       "| <!--/--> | sample &lt;chr&gt; |\n",
       "|---|---|\n",
       "| TTTGGTTTCAAACCAC-1_12 | C152 |\n",
       "| TTTGGTTTCGCTTGTC-1_12 | C152 |\n",
       "| TTTGTCAAGAAACGCC-1_12 | C152 |\n",
       "| TTTGTCACAACACCCG-1_12 | C152 |\n",
       "| TTTGTCAGTCTGCAAT-1_12 | C152 |\n",
       "| TTTGTCAGTGTTGGGA-1_12 | C152 |\n",
       "\n"
      ],
      "text/plain": [
       "                      sample\n",
       "TTTGGTTTCAAACCAC-1_12 C152  \n",
       "TTTGGTTTCGCTTGTC-1_12 C152  \n",
       "TTTGTCAAGAAACGCC-1_12 C152  \n",
       "TTTGTCACAACACCCG-1_12 C152  \n",
       "TTTGTCAGTCTGCAAT-1_12 C152  \n",
       "TTTGTCAGTGTTGGGA-1_12 C152  "
      ]
     },
     "metadata": {},
     "output_type": "display_data"
    }
   ],
   "source": [
    "tail(annotated_df)\n",
    "tail(sample_info)"
   ]
  },
  {
   "cell_type": "markdown",
   "id": "acaa5193-786f-45a8-b322-459a9df96ba2",
   "metadata": {},
   "source": [
    "### Barcode names change to match that of analysis-ready data"
   ]
  },
  {
   "cell_type": "code",
   "execution_count": 41,
   "id": "f7edb901-a3c6-4895-9e71-3e1903e1fcc7",
   "metadata": {},
   "outputs": [],
   "source": [
    "modify_names <- function(l){\n",
    "    paste0(strsplit(l, split = '_')[[1]][1],\n",
    "           '-1_',\n",
    "         strsplit(l, split = '_')[[1]][2])\n",
    "} \n",
    "annotated_df$ID <- as.character(lapply(annotated_df$ID,modify_names))\n",
    "rownames(annotated_df) = annotated_df$ID\n",
    "annotated_df$ID <- NULL"
   ]
  },
  {
   "cell_type": "markdown",
   "id": "13d3235f-0419-438e-995c-282a0e9b173b",
   "metadata": {},
   "source": [
    ">   Use semi_join function to match up the dimensions"
   ]
  },
  {
   "cell_type": "code",
   "execution_count": 42,
   "id": "020383c2-feab-4b57-b665-f58f47b30d00",
   "metadata": {},
   "outputs": [
    {
     "name": "stderr",
     "output_type": "stream",
     "text": [
      "Joining, by = \"sample\"\n",
      "\n"
     ]
    }
   ],
   "source": [
    "sample_info <- dplyr::semi_join(annotated_df, sample_info)"
   ]
  },
  {
   "cell_type": "code",
   "execution_count": 43,
   "id": "02ce3a15-5ae9-4151-8a66-ab04f2d0b5a2",
   "metadata": {},
   "outputs": [
    {
     "name": "stdout",
     "output_type": "stream",
     "text": [
      "'data.frame':\t63103 obs. of  7 variables:\n",
      " $ sample    : chr  \"C51\" \"C51\" \"C51\" \"C51\" ...\n",
      " $ sample_new: chr  \"HC1\" \"HC1\" \"HC1\" \"HC1\" ...\n",
      " $ group     : chr  \"HC\" \"HC\" \"HC\" \"HC\" ...\n",
      " $ disease   : chr  \"N\" \"N\" \"N\" \"N\" ...\n",
      " $ hasnCoV   : chr  \"N\" \"N\" \"N\" \"N\" ...\n",
      " $ cluster   : int  3 3 3 3 5 2 8 5 5 5 ...\n",
      " $ celltype  : chr  \"Macrophages\" \"Macrophages\" \"Macrophages\" \"Macrophages\" ...\n"
     ]
    }
   ],
   "source": [
    "str(sample_info)"
   ]
  },
  {
   "cell_type": "code",
   "execution_count": 44,
   "id": "7cdcad8c-db2c-4a88-aa7c-4d7b4801b20e",
   "metadata": {},
   "outputs": [
    {
     "data": {
      "text/html": [
       "<table class=\"dataframe\">\n",
       "<caption>A data.frame: 63103 × 7</caption>\n",
       "<thead>\n",
       "\t<tr><th></th><th scope=col>sample</th><th scope=col>sample_new</th><th scope=col>group</th><th scope=col>disease</th><th scope=col>hasnCoV</th><th scope=col>cluster</th><th scope=col>celltype</th></tr>\n",
       "\t<tr><th></th><th scope=col>&lt;chr&gt;</th><th scope=col>&lt;chr&gt;</th><th scope=col>&lt;chr&gt;</th><th scope=col>&lt;chr&gt;</th><th scope=col>&lt;chr&gt;</th><th scope=col>&lt;int&gt;</th><th scope=col>&lt;chr&gt;</th></tr>\n",
       "</thead>\n",
       "<tbody>\n",
       "\t<tr><th scope=row>AAACCTGAGACACTAA-1_1</th><td>C51</td><td>HC1</td><td>HC</td><td>N</td><td>N</td><td> 3</td><td>Macrophages</td></tr>\n",
       "\t<tr><th scope=row>AAACCTGAGGAGTACC-1_1</th><td>C51</td><td>HC1</td><td>HC</td><td>N</td><td>N</td><td> 3</td><td>Macrophages</td></tr>\n",
       "\t<tr><th scope=row>AAACCTGAGGATATAC-1_1</th><td>C51</td><td>HC1</td><td>HC</td><td>N</td><td>N</td><td> 3</td><td>Macrophages</td></tr>\n",
       "\t<tr><th scope=row>AAACCTGAGGTCATCT-1_1</th><td>C51</td><td>HC1</td><td>HC</td><td>N</td><td>N</td><td> 3</td><td>Macrophages</td></tr>\n",
       "\t<tr><th scope=row>AAACCTGCACGGATAG-1_1</th><td>C51</td><td>HC1</td><td>HC</td><td>N</td><td>N</td><td> 5</td><td>Macrophages</td></tr>\n",
       "\t<tr><th scope=row>AAACCTGCAGGGAGAG-1_1</th><td>C51</td><td>HC1</td><td>HC</td><td>N</td><td>N</td><td> 2</td><td>Macrophages</td></tr>\n",
       "\t<tr><th scope=row>AAACCTGGTCTAAACC-1_1</th><td>C51</td><td>HC1</td><td>HC</td><td>N</td><td>N</td><td> 8</td><td>Macrophages</td></tr>\n",
       "\t<tr><th scope=row>AAACCTGGTGCACCAC-1_1</th><td>C51</td><td>HC1</td><td>HC</td><td>N</td><td>N</td><td> 5</td><td>Macrophages</td></tr>\n",
       "\t<tr><th scope=row>AAACCTGGTTACGCGC-1_1</th><td>C51</td><td>HC1</td><td>HC</td><td>N</td><td>N</td><td> 5</td><td>Macrophages</td></tr>\n",
       "\t<tr><th scope=row>AAACCTGTCCGCATCT-1_1</th><td>C51</td><td>HC1</td><td>HC</td><td>N</td><td>N</td><td> 5</td><td>Macrophages</td></tr>\n",
       "\t<tr><th scope=row>AAACGGGAGCTACCTA-1_1</th><td>C51</td><td>HC1</td><td>HC</td><td>N</td><td>N</td><td> 3</td><td>Macrophages</td></tr>\n",
       "\t<tr><th scope=row>AAACGGGAGGAATTAC-1_1</th><td>C51</td><td>HC1</td><td>HC</td><td>N</td><td>N</td><td>18</td><td>Macrophages</td></tr>\n",
       "\t<tr><th scope=row>AAACGGGAGGACCACA-1_1</th><td>C51</td><td>HC1</td><td>HC</td><td>N</td><td>N</td><td> 4</td><td>Macrophages</td></tr>\n",
       "\t<tr><th scope=row>AAACGGGAGGCAAAGA-1_1</th><td>C51</td><td>HC1</td><td>HC</td><td>N</td><td>N</td><td> 1</td><td>Macrophages</td></tr>\n",
       "\t<tr><th scope=row>AAACGGGAGTCGTTTG-1_1</th><td>C51</td><td>HC1</td><td>HC</td><td>N</td><td>N</td><td> 5</td><td>Macrophages</td></tr>\n",
       "\t<tr><th scope=row>AAACGGGCAAGGACTG-1_1</th><td>C51</td><td>HC1</td><td>HC</td><td>N</td><td>N</td><td> 3</td><td>Macrophages</td></tr>\n",
       "\t<tr><th scope=row>AAACGGGCACCGAAAG-1_1</th><td>C51</td><td>HC1</td><td>HC</td><td>N</td><td>N</td><td> 3</td><td>Macrophages</td></tr>\n",
       "\t<tr><th scope=row>AAACGGGCAGCCAATT-1_1</th><td>C51</td><td>HC1</td><td>HC</td><td>N</td><td>N</td><td>20</td><td>mDC        </td></tr>\n",
       "\t<tr><th scope=row>AAACGGGCATCCGTGG-1_1</th><td>C51</td><td>HC1</td><td>HC</td><td>N</td><td>N</td><td> 2</td><td>Macrophages</td></tr>\n",
       "\t<tr><th scope=row>AAACGGGCATGCCTTC-1_1</th><td>C51</td><td>HC1</td><td>HC</td><td>N</td><td>N</td><td> 3</td><td>Macrophages</td></tr>\n",
       "\t<tr><th scope=row>AAACGGGGTACATGTC-1_1</th><td>C51</td><td>HC1</td><td>HC</td><td>N</td><td>N</td><td> 5</td><td>Macrophages</td></tr>\n",
       "\t<tr><th scope=row>AAACGGGGTCCATGAT-1_1</th><td>C51</td><td>HC1</td><td>HC</td><td>N</td><td>N</td><td> 8</td><td>Macrophages</td></tr>\n",
       "\t<tr><th scope=row>AAACGGGGTCTCTCTG-1_1</th><td>C51</td><td>HC1</td><td>HC</td><td>N</td><td>N</td><td>20</td><td>mDC        </td></tr>\n",
       "\t<tr><th scope=row>AAACGGGGTGCGAAAC-1_1</th><td>C51</td><td>HC1</td><td>HC</td><td>N</td><td>N</td><td> 4</td><td>Macrophages</td></tr>\n",
       "\t<tr><th scope=row>AAACGGGGTTCTGAAC-1_1</th><td>C51</td><td>HC1</td><td>HC</td><td>N</td><td>N</td><td> 8</td><td>Macrophages</td></tr>\n",
       "\t<tr><th scope=row>AAACGGGTCCAAACTG-1_1</th><td>C51</td><td>HC1</td><td>HC</td><td>N</td><td>N</td><td> 4</td><td>Macrophages</td></tr>\n",
       "\t<tr><th scope=row>AAACGGGTCCTTTACA-1_1</th><td>C51</td><td>HC1</td><td>HC</td><td>N</td><td>N</td><td>21</td><td>Macrophages</td></tr>\n",
       "\t<tr><th scope=row>AAACGGGTCGCAAACT-1_1</th><td>C51</td><td>HC1</td><td>HC</td><td>N</td><td>N</td><td> 5</td><td>Macrophages</td></tr>\n",
       "\t<tr><th scope=row>AAAGATGAGACAGAGA-1_1</th><td>C51</td><td>HC1</td><td>HC</td><td>N</td><td>N</td><td> 3</td><td>Macrophages</td></tr>\n",
       "\t<tr><th scope=row>AAAGATGAGAGGTTAT-1_1</th><td>C51</td><td>HC1</td><td>HC</td><td>N</td><td>N</td><td> 5</td><td>Macrophages</td></tr>\n",
       "\t<tr><th scope=row>⋮</th><td>⋮</td><td>⋮</td><td>⋮</td><td>⋮</td><td>⋮</td><td>⋮</td><td>⋮</td></tr>\n",
       "\t<tr><th scope=row>TTTATGCGTCGACTGC-1_13</th><td>C152</td><td>S6</td><td>S</td><td>Y</td><td>N</td><td>19</td><td>Plasma     </td></tr>\n",
       "\t<tr><th scope=row>TTTATGCGTTAAGATG-1_13</th><td>C152</td><td>S6</td><td>S</td><td>Y</td><td>N</td><td>13</td><td>Epithelial </td></tr>\n",
       "\t<tr><th scope=row>TTTATGCTCGCACTCT-1_13</th><td>C152</td><td>S6</td><td>S</td><td>Y</td><td>Y</td><td>19</td><td>Plasma     </td></tr>\n",
       "\t<tr><th scope=row>TTTCCTCAGAGACTTA-1_13</th><td>C152</td><td>S6</td><td>S</td><td>Y</td><td>N</td><td> 9</td><td>T          </td></tr>\n",
       "\t<tr><th scope=row>TTTCCTCAGATCTGAA-1_13</th><td>C152</td><td>S6</td><td>S</td><td>Y</td><td>N</td><td> 0</td><td>Macrophages</td></tr>\n",
       "\t<tr><th scope=row>TTTCCTCAGGATGGAA-1_13</th><td>C152</td><td>S6</td><td>S</td><td>Y</td><td>N</td><td> 1</td><td>Macrophages</td></tr>\n",
       "\t<tr><th scope=row>TTTCCTCCAAGTCATC-1_13</th><td>C152</td><td>S6</td><td>S</td><td>Y</td><td>N</td><td>13</td><td>Epithelial </td></tr>\n",
       "\t<tr><th scope=row>TTTCCTCCAGCTCCGA-1_13</th><td>C152</td><td>S6</td><td>S</td><td>Y</td><td>N</td><td>14</td><td>T          </td></tr>\n",
       "\t<tr><th scope=row>TTTCCTCCAGGTCTCG-1_13</th><td>C152</td><td>S6</td><td>S</td><td>Y</td><td>N</td><td>14</td><td>T          </td></tr>\n",
       "\t<tr><th scope=row>TTTCCTCGTTAAGATG-1_13</th><td>C152</td><td>S6</td><td>S</td><td>Y</td><td>N</td><td>19</td><td>Plasma     </td></tr>\n",
       "\t<tr><th scope=row>TTTCCTCTCTTGTTTG-1_13</th><td>C152</td><td>S6</td><td>S</td><td>Y</td><td>N</td><td>10</td><td>Macrophages</td></tr>\n",
       "\t<tr><th scope=row>TTTGCGCAGACTACAA-1_13</th><td>C152</td><td>S6</td><td>S</td><td>Y</td><td>N</td><td>10</td><td>Macrophages</td></tr>\n",
       "\t<tr><th scope=row>TTTGCGCAGGGTGTGT-1_13</th><td>C152</td><td>S6</td><td>S</td><td>Y</td><td>N</td><td>28</td><td>Epithelial </td></tr>\n",
       "\t<tr><th scope=row>TTTGCGCGTCGGCATC-1_13</th><td>C152</td><td>S6</td><td>S</td><td>Y</td><td>N</td><td>19</td><td>Plasma     </td></tr>\n",
       "\t<tr><th scope=row>TTTGCGCTCCAGGGCT-1_13</th><td>C152</td><td>S6</td><td>S</td><td>Y</td><td>N</td><td>19</td><td>Plasma     </td></tr>\n",
       "\t<tr><th scope=row>TTTGCGCTCTAACCGA-1_13</th><td>C152</td><td>S6</td><td>S</td><td>Y</td><td>N</td><td> 9</td><td>T          </td></tr>\n",
       "\t<tr><th scope=row>TTTGCGCTCTGCTTGC-1_13</th><td>C152</td><td>S6</td><td>S</td><td>Y</td><td>N</td><td>14</td><td>T          </td></tr>\n",
       "\t<tr><th scope=row>TTTGGTTAGATCCCGC-1_13</th><td>C152</td><td>S6</td><td>S</td><td>Y</td><td>N</td><td> 8</td><td>Macrophages</td></tr>\n",
       "\t<tr><th scope=row>TTTGGTTAGCACCGTC-1_13</th><td>C152</td><td>S6</td><td>S</td><td>Y</td><td>N</td><td> 1</td><td>Macrophages</td></tr>\n",
       "\t<tr><th scope=row>TTTGGTTAGTCTCCTC-1_13</th><td>C152</td><td>S6</td><td>S</td><td>Y</td><td>N</td><td> 1</td><td>Macrophages</td></tr>\n",
       "\t<tr><th scope=row>TTTGGTTCACGAGAGT-1_13</th><td>C152</td><td>S6</td><td>S</td><td>Y</td><td>N</td><td> 1</td><td>Macrophages</td></tr>\n",
       "\t<tr><th scope=row>TTTGGTTCACTATCTT-1_13</th><td>C152</td><td>S6</td><td>S</td><td>Y</td><td>N</td><td>14</td><td>T          </td></tr>\n",
       "\t<tr><th scope=row>TTTGGTTCATCGGGTC-1_13</th><td>C152</td><td>S6</td><td>S</td><td>Y</td><td>N</td><td> 1</td><td>Macrophages</td></tr>\n",
       "\t<tr><th scope=row>TTTGGTTGTCTCTCTG-1_13</th><td>C152</td><td>S6</td><td>S</td><td>Y</td><td>N</td><td> 1</td><td>Macrophages</td></tr>\n",
       "\t<tr><th scope=row>TTTGGTTTCAAACCAC-1_13</th><td>C152</td><td>S6</td><td>S</td><td>Y</td><td>N</td><td>13</td><td>Epithelial </td></tr>\n",
       "\t<tr><th scope=row>TTTGGTTTCGCTTGTC-1_13</th><td>C152</td><td>S6</td><td>S</td><td>Y</td><td>N</td><td> 1</td><td>Macrophages</td></tr>\n",
       "\t<tr><th scope=row>TTTGTCAAGAAACGCC-1_13</th><td>C152</td><td>S6</td><td>S</td><td>Y</td><td>N</td><td>14</td><td>T          </td></tr>\n",
       "\t<tr><th scope=row>TTTGTCACAACACCCG-1_13</th><td>C152</td><td>S6</td><td>S</td><td>Y</td><td>N</td><td>19</td><td>Plasma     </td></tr>\n",
       "\t<tr><th scope=row>TTTGTCAGTCTGCAAT-1_13</th><td>C152</td><td>S6</td><td>S</td><td>Y</td><td>N</td><td>19</td><td>Plasma     </td></tr>\n",
       "\t<tr><th scope=row>TTTGTCAGTGTTGGGA-1_13</th><td>C152</td><td>S6</td><td>S</td><td>Y</td><td>N</td><td>10</td><td>Macrophages</td></tr>\n",
       "</tbody>\n",
       "</table>\n"
      ],
      "text/latex": [
       "A data.frame: 63103 × 7\n",
       "\\begin{tabular}{r|lllllll}\n",
       "  & sample & sample\\_new & group & disease & hasnCoV & cluster & celltype\\\\\n",
       "  & <chr> & <chr> & <chr> & <chr> & <chr> & <int> & <chr>\\\\\n",
       "\\hline\n",
       "\tAAACCTGAGACACTAA-1\\_1 & C51 & HC1 & HC & N & N &  3 & Macrophages\\\\\n",
       "\tAAACCTGAGGAGTACC-1\\_1 & C51 & HC1 & HC & N & N &  3 & Macrophages\\\\\n",
       "\tAAACCTGAGGATATAC-1\\_1 & C51 & HC1 & HC & N & N &  3 & Macrophages\\\\\n",
       "\tAAACCTGAGGTCATCT-1\\_1 & C51 & HC1 & HC & N & N &  3 & Macrophages\\\\\n",
       "\tAAACCTGCACGGATAG-1\\_1 & C51 & HC1 & HC & N & N &  5 & Macrophages\\\\\n",
       "\tAAACCTGCAGGGAGAG-1\\_1 & C51 & HC1 & HC & N & N &  2 & Macrophages\\\\\n",
       "\tAAACCTGGTCTAAACC-1\\_1 & C51 & HC1 & HC & N & N &  8 & Macrophages\\\\\n",
       "\tAAACCTGGTGCACCAC-1\\_1 & C51 & HC1 & HC & N & N &  5 & Macrophages\\\\\n",
       "\tAAACCTGGTTACGCGC-1\\_1 & C51 & HC1 & HC & N & N &  5 & Macrophages\\\\\n",
       "\tAAACCTGTCCGCATCT-1\\_1 & C51 & HC1 & HC & N & N &  5 & Macrophages\\\\\n",
       "\tAAACGGGAGCTACCTA-1\\_1 & C51 & HC1 & HC & N & N &  3 & Macrophages\\\\\n",
       "\tAAACGGGAGGAATTAC-1\\_1 & C51 & HC1 & HC & N & N & 18 & Macrophages\\\\\n",
       "\tAAACGGGAGGACCACA-1\\_1 & C51 & HC1 & HC & N & N &  4 & Macrophages\\\\\n",
       "\tAAACGGGAGGCAAAGA-1\\_1 & C51 & HC1 & HC & N & N &  1 & Macrophages\\\\\n",
       "\tAAACGGGAGTCGTTTG-1\\_1 & C51 & HC1 & HC & N & N &  5 & Macrophages\\\\\n",
       "\tAAACGGGCAAGGACTG-1\\_1 & C51 & HC1 & HC & N & N &  3 & Macrophages\\\\\n",
       "\tAAACGGGCACCGAAAG-1\\_1 & C51 & HC1 & HC & N & N &  3 & Macrophages\\\\\n",
       "\tAAACGGGCAGCCAATT-1\\_1 & C51 & HC1 & HC & N & N & 20 & mDC        \\\\\n",
       "\tAAACGGGCATCCGTGG-1\\_1 & C51 & HC1 & HC & N & N &  2 & Macrophages\\\\\n",
       "\tAAACGGGCATGCCTTC-1\\_1 & C51 & HC1 & HC & N & N &  3 & Macrophages\\\\\n",
       "\tAAACGGGGTACATGTC-1\\_1 & C51 & HC1 & HC & N & N &  5 & Macrophages\\\\\n",
       "\tAAACGGGGTCCATGAT-1\\_1 & C51 & HC1 & HC & N & N &  8 & Macrophages\\\\\n",
       "\tAAACGGGGTCTCTCTG-1\\_1 & C51 & HC1 & HC & N & N & 20 & mDC        \\\\\n",
       "\tAAACGGGGTGCGAAAC-1\\_1 & C51 & HC1 & HC & N & N &  4 & Macrophages\\\\\n",
       "\tAAACGGGGTTCTGAAC-1\\_1 & C51 & HC1 & HC & N & N &  8 & Macrophages\\\\\n",
       "\tAAACGGGTCCAAACTG-1\\_1 & C51 & HC1 & HC & N & N &  4 & Macrophages\\\\\n",
       "\tAAACGGGTCCTTTACA-1\\_1 & C51 & HC1 & HC & N & N & 21 & Macrophages\\\\\n",
       "\tAAACGGGTCGCAAACT-1\\_1 & C51 & HC1 & HC & N & N &  5 & Macrophages\\\\\n",
       "\tAAAGATGAGACAGAGA-1\\_1 & C51 & HC1 & HC & N & N &  3 & Macrophages\\\\\n",
       "\tAAAGATGAGAGGTTAT-1\\_1 & C51 & HC1 & HC & N & N &  5 & Macrophages\\\\\n",
       "\t⋮ & ⋮ & ⋮ & ⋮ & ⋮ & ⋮ & ⋮ & ⋮\\\\\n",
       "\tTTTATGCGTCGACTGC-1\\_13 & C152 & S6 & S & Y & N & 19 & Plasma     \\\\\n",
       "\tTTTATGCGTTAAGATG-1\\_13 & C152 & S6 & S & Y & N & 13 & Epithelial \\\\\n",
       "\tTTTATGCTCGCACTCT-1\\_13 & C152 & S6 & S & Y & Y & 19 & Plasma     \\\\\n",
       "\tTTTCCTCAGAGACTTA-1\\_13 & C152 & S6 & S & Y & N &  9 & T          \\\\\n",
       "\tTTTCCTCAGATCTGAA-1\\_13 & C152 & S6 & S & Y & N &  0 & Macrophages\\\\\n",
       "\tTTTCCTCAGGATGGAA-1\\_13 & C152 & S6 & S & Y & N &  1 & Macrophages\\\\\n",
       "\tTTTCCTCCAAGTCATC-1\\_13 & C152 & S6 & S & Y & N & 13 & Epithelial \\\\\n",
       "\tTTTCCTCCAGCTCCGA-1\\_13 & C152 & S6 & S & Y & N & 14 & T          \\\\\n",
       "\tTTTCCTCCAGGTCTCG-1\\_13 & C152 & S6 & S & Y & N & 14 & T          \\\\\n",
       "\tTTTCCTCGTTAAGATG-1\\_13 & C152 & S6 & S & Y & N & 19 & Plasma     \\\\\n",
       "\tTTTCCTCTCTTGTTTG-1\\_13 & C152 & S6 & S & Y & N & 10 & Macrophages\\\\\n",
       "\tTTTGCGCAGACTACAA-1\\_13 & C152 & S6 & S & Y & N & 10 & Macrophages\\\\\n",
       "\tTTTGCGCAGGGTGTGT-1\\_13 & C152 & S6 & S & Y & N & 28 & Epithelial \\\\\n",
       "\tTTTGCGCGTCGGCATC-1\\_13 & C152 & S6 & S & Y & N & 19 & Plasma     \\\\\n",
       "\tTTTGCGCTCCAGGGCT-1\\_13 & C152 & S6 & S & Y & N & 19 & Plasma     \\\\\n",
       "\tTTTGCGCTCTAACCGA-1\\_13 & C152 & S6 & S & Y & N &  9 & T          \\\\\n",
       "\tTTTGCGCTCTGCTTGC-1\\_13 & C152 & S6 & S & Y & N & 14 & T          \\\\\n",
       "\tTTTGGTTAGATCCCGC-1\\_13 & C152 & S6 & S & Y & N &  8 & Macrophages\\\\\n",
       "\tTTTGGTTAGCACCGTC-1\\_13 & C152 & S6 & S & Y & N &  1 & Macrophages\\\\\n",
       "\tTTTGGTTAGTCTCCTC-1\\_13 & C152 & S6 & S & Y & N &  1 & Macrophages\\\\\n",
       "\tTTTGGTTCACGAGAGT-1\\_13 & C152 & S6 & S & Y & N &  1 & Macrophages\\\\\n",
       "\tTTTGGTTCACTATCTT-1\\_13 & C152 & S6 & S & Y & N & 14 & T          \\\\\n",
       "\tTTTGGTTCATCGGGTC-1\\_13 & C152 & S6 & S & Y & N &  1 & Macrophages\\\\\n",
       "\tTTTGGTTGTCTCTCTG-1\\_13 & C152 & S6 & S & Y & N &  1 & Macrophages\\\\\n",
       "\tTTTGGTTTCAAACCAC-1\\_13 & C152 & S6 & S & Y & N & 13 & Epithelial \\\\\n",
       "\tTTTGGTTTCGCTTGTC-1\\_13 & C152 & S6 & S & Y & N &  1 & Macrophages\\\\\n",
       "\tTTTGTCAAGAAACGCC-1\\_13 & C152 & S6 & S & Y & N & 14 & T          \\\\\n",
       "\tTTTGTCACAACACCCG-1\\_13 & C152 & S6 & S & Y & N & 19 & Plasma     \\\\\n",
       "\tTTTGTCAGTCTGCAAT-1\\_13 & C152 & S6 & S & Y & N & 19 & Plasma     \\\\\n",
       "\tTTTGTCAGTGTTGGGA-1\\_13 & C152 & S6 & S & Y & N & 10 & Macrophages\\\\\n",
       "\\end{tabular}\n"
      ],
      "text/markdown": [
       "\n",
       "A data.frame: 63103 × 7\n",
       "\n",
       "| <!--/--> | sample &lt;chr&gt; | sample_new &lt;chr&gt; | group &lt;chr&gt; | disease &lt;chr&gt; | hasnCoV &lt;chr&gt; | cluster &lt;int&gt; | celltype &lt;chr&gt; |\n",
       "|---|---|---|---|---|---|---|---|\n",
       "| AAACCTGAGACACTAA-1_1 | C51 | HC1 | HC | N | N |  3 | Macrophages |\n",
       "| AAACCTGAGGAGTACC-1_1 | C51 | HC1 | HC | N | N |  3 | Macrophages |\n",
       "| AAACCTGAGGATATAC-1_1 | C51 | HC1 | HC | N | N |  3 | Macrophages |\n",
       "| AAACCTGAGGTCATCT-1_1 | C51 | HC1 | HC | N | N |  3 | Macrophages |\n",
       "| AAACCTGCACGGATAG-1_1 | C51 | HC1 | HC | N | N |  5 | Macrophages |\n",
       "| AAACCTGCAGGGAGAG-1_1 | C51 | HC1 | HC | N | N |  2 | Macrophages |\n",
       "| AAACCTGGTCTAAACC-1_1 | C51 | HC1 | HC | N | N |  8 | Macrophages |\n",
       "| AAACCTGGTGCACCAC-1_1 | C51 | HC1 | HC | N | N |  5 | Macrophages |\n",
       "| AAACCTGGTTACGCGC-1_1 | C51 | HC1 | HC | N | N |  5 | Macrophages |\n",
       "| AAACCTGTCCGCATCT-1_1 | C51 | HC1 | HC | N | N |  5 | Macrophages |\n",
       "| AAACGGGAGCTACCTA-1_1 | C51 | HC1 | HC | N | N |  3 | Macrophages |\n",
       "| AAACGGGAGGAATTAC-1_1 | C51 | HC1 | HC | N | N | 18 | Macrophages |\n",
       "| AAACGGGAGGACCACA-1_1 | C51 | HC1 | HC | N | N |  4 | Macrophages |\n",
       "| AAACGGGAGGCAAAGA-1_1 | C51 | HC1 | HC | N | N |  1 | Macrophages |\n",
       "| AAACGGGAGTCGTTTG-1_1 | C51 | HC1 | HC | N | N |  5 | Macrophages |\n",
       "| AAACGGGCAAGGACTG-1_1 | C51 | HC1 | HC | N | N |  3 | Macrophages |\n",
       "| AAACGGGCACCGAAAG-1_1 | C51 | HC1 | HC | N | N |  3 | Macrophages |\n",
       "| AAACGGGCAGCCAATT-1_1 | C51 | HC1 | HC | N | N | 20 | mDC         |\n",
       "| AAACGGGCATCCGTGG-1_1 | C51 | HC1 | HC | N | N |  2 | Macrophages |\n",
       "| AAACGGGCATGCCTTC-1_1 | C51 | HC1 | HC | N | N |  3 | Macrophages |\n",
       "| AAACGGGGTACATGTC-1_1 | C51 | HC1 | HC | N | N |  5 | Macrophages |\n",
       "| AAACGGGGTCCATGAT-1_1 | C51 | HC1 | HC | N | N |  8 | Macrophages |\n",
       "| AAACGGGGTCTCTCTG-1_1 | C51 | HC1 | HC | N | N | 20 | mDC         |\n",
       "| AAACGGGGTGCGAAAC-1_1 | C51 | HC1 | HC | N | N |  4 | Macrophages |\n",
       "| AAACGGGGTTCTGAAC-1_1 | C51 | HC1 | HC | N | N |  8 | Macrophages |\n",
       "| AAACGGGTCCAAACTG-1_1 | C51 | HC1 | HC | N | N |  4 | Macrophages |\n",
       "| AAACGGGTCCTTTACA-1_1 | C51 | HC1 | HC | N | N | 21 | Macrophages |\n",
       "| AAACGGGTCGCAAACT-1_1 | C51 | HC1 | HC | N | N |  5 | Macrophages |\n",
       "| AAAGATGAGACAGAGA-1_1 | C51 | HC1 | HC | N | N |  3 | Macrophages |\n",
       "| AAAGATGAGAGGTTAT-1_1 | C51 | HC1 | HC | N | N |  5 | Macrophages |\n",
       "| ⋮ | ⋮ | ⋮ | ⋮ | ⋮ | ⋮ | ⋮ | ⋮ |\n",
       "| TTTATGCGTCGACTGC-1_13 | C152 | S6 | S | Y | N | 19 | Plasma      |\n",
       "| TTTATGCGTTAAGATG-1_13 | C152 | S6 | S | Y | N | 13 | Epithelial  |\n",
       "| TTTATGCTCGCACTCT-1_13 | C152 | S6 | S | Y | Y | 19 | Plasma      |\n",
       "| TTTCCTCAGAGACTTA-1_13 | C152 | S6 | S | Y | N |  9 | T           |\n",
       "| TTTCCTCAGATCTGAA-1_13 | C152 | S6 | S | Y | N |  0 | Macrophages |\n",
       "| TTTCCTCAGGATGGAA-1_13 | C152 | S6 | S | Y | N |  1 | Macrophages |\n",
       "| TTTCCTCCAAGTCATC-1_13 | C152 | S6 | S | Y | N | 13 | Epithelial  |\n",
       "| TTTCCTCCAGCTCCGA-1_13 | C152 | S6 | S | Y | N | 14 | T           |\n",
       "| TTTCCTCCAGGTCTCG-1_13 | C152 | S6 | S | Y | N | 14 | T           |\n",
       "| TTTCCTCGTTAAGATG-1_13 | C152 | S6 | S | Y | N | 19 | Plasma      |\n",
       "| TTTCCTCTCTTGTTTG-1_13 | C152 | S6 | S | Y | N | 10 | Macrophages |\n",
       "| TTTGCGCAGACTACAA-1_13 | C152 | S6 | S | Y | N | 10 | Macrophages |\n",
       "| TTTGCGCAGGGTGTGT-1_13 | C152 | S6 | S | Y | N | 28 | Epithelial  |\n",
       "| TTTGCGCGTCGGCATC-1_13 | C152 | S6 | S | Y | N | 19 | Plasma      |\n",
       "| TTTGCGCTCCAGGGCT-1_13 | C152 | S6 | S | Y | N | 19 | Plasma      |\n",
       "| TTTGCGCTCTAACCGA-1_13 | C152 | S6 | S | Y | N |  9 | T           |\n",
       "| TTTGCGCTCTGCTTGC-1_13 | C152 | S6 | S | Y | N | 14 | T           |\n",
       "| TTTGGTTAGATCCCGC-1_13 | C152 | S6 | S | Y | N |  8 | Macrophages |\n",
       "| TTTGGTTAGCACCGTC-1_13 | C152 | S6 | S | Y | N |  1 | Macrophages |\n",
       "| TTTGGTTAGTCTCCTC-1_13 | C152 | S6 | S | Y | N |  1 | Macrophages |\n",
       "| TTTGGTTCACGAGAGT-1_13 | C152 | S6 | S | Y | N |  1 | Macrophages |\n",
       "| TTTGGTTCACTATCTT-1_13 | C152 | S6 | S | Y | N | 14 | T           |\n",
       "| TTTGGTTCATCGGGTC-1_13 | C152 | S6 | S | Y | N |  1 | Macrophages |\n",
       "| TTTGGTTGTCTCTCTG-1_13 | C152 | S6 | S | Y | N |  1 | Macrophages |\n",
       "| TTTGGTTTCAAACCAC-1_13 | C152 | S6 | S | Y | N | 13 | Epithelial  |\n",
       "| TTTGGTTTCGCTTGTC-1_13 | C152 | S6 | S | Y | N |  1 | Macrophages |\n",
       "| TTTGTCAAGAAACGCC-1_13 | C152 | S6 | S | Y | N | 14 | T           |\n",
       "| TTTGTCACAACACCCG-1_13 | C152 | S6 | S | Y | N | 19 | Plasma      |\n",
       "| TTTGTCAGTCTGCAAT-1_13 | C152 | S6 | S | Y | N | 19 | Plasma      |\n",
       "| TTTGTCAGTGTTGGGA-1_13 | C152 | S6 | S | Y | N | 10 | Macrophages |\n",
       "\n"
      ],
      "text/plain": [
       "                      sample sample_new group disease hasnCoV cluster\n",
       "AAACCTGAGACACTAA-1_1  C51    HC1        HC    N       N        3     \n",
       "AAACCTGAGGAGTACC-1_1  C51    HC1        HC    N       N        3     \n",
       "AAACCTGAGGATATAC-1_1  C51    HC1        HC    N       N        3     \n",
       "AAACCTGAGGTCATCT-1_1  C51    HC1        HC    N       N        3     \n",
       "AAACCTGCACGGATAG-1_1  C51    HC1        HC    N       N        5     \n",
       "AAACCTGCAGGGAGAG-1_1  C51    HC1        HC    N       N        2     \n",
       "AAACCTGGTCTAAACC-1_1  C51    HC1        HC    N       N        8     \n",
       "AAACCTGGTGCACCAC-1_1  C51    HC1        HC    N       N        5     \n",
       "AAACCTGGTTACGCGC-1_1  C51    HC1        HC    N       N        5     \n",
       "AAACCTGTCCGCATCT-1_1  C51    HC1        HC    N       N        5     \n",
       "AAACGGGAGCTACCTA-1_1  C51    HC1        HC    N       N        3     \n",
       "AAACGGGAGGAATTAC-1_1  C51    HC1        HC    N       N       18     \n",
       "AAACGGGAGGACCACA-1_1  C51    HC1        HC    N       N        4     \n",
       "AAACGGGAGGCAAAGA-1_1  C51    HC1        HC    N       N        1     \n",
       "AAACGGGAGTCGTTTG-1_1  C51    HC1        HC    N       N        5     \n",
       "AAACGGGCAAGGACTG-1_1  C51    HC1        HC    N       N        3     \n",
       "AAACGGGCACCGAAAG-1_1  C51    HC1        HC    N       N        3     \n",
       "AAACGGGCAGCCAATT-1_1  C51    HC1        HC    N       N       20     \n",
       "AAACGGGCATCCGTGG-1_1  C51    HC1        HC    N       N        2     \n",
       "AAACGGGCATGCCTTC-1_1  C51    HC1        HC    N       N        3     \n",
       "AAACGGGGTACATGTC-1_1  C51    HC1        HC    N       N        5     \n",
       "AAACGGGGTCCATGAT-1_1  C51    HC1        HC    N       N        8     \n",
       "AAACGGGGTCTCTCTG-1_1  C51    HC1        HC    N       N       20     \n",
       "AAACGGGGTGCGAAAC-1_1  C51    HC1        HC    N       N        4     \n",
       "AAACGGGGTTCTGAAC-1_1  C51    HC1        HC    N       N        8     \n",
       "AAACGGGTCCAAACTG-1_1  C51    HC1        HC    N       N        4     \n",
       "AAACGGGTCCTTTACA-1_1  C51    HC1        HC    N       N       21     \n",
       "AAACGGGTCGCAAACT-1_1  C51    HC1        HC    N       N        5     \n",
       "AAAGATGAGACAGAGA-1_1  C51    HC1        HC    N       N        3     \n",
       "AAAGATGAGAGGTTAT-1_1  C51    HC1        HC    N       N        5     \n",
       "⋮                     ⋮      ⋮          ⋮     ⋮       ⋮       ⋮      \n",
       "TTTATGCGTCGACTGC-1_13 C152   S6         S     Y       N       19     \n",
       "TTTATGCGTTAAGATG-1_13 C152   S6         S     Y       N       13     \n",
       "TTTATGCTCGCACTCT-1_13 C152   S6         S     Y       Y       19     \n",
       "TTTCCTCAGAGACTTA-1_13 C152   S6         S     Y       N        9     \n",
       "TTTCCTCAGATCTGAA-1_13 C152   S6         S     Y       N        0     \n",
       "TTTCCTCAGGATGGAA-1_13 C152   S6         S     Y       N        1     \n",
       "TTTCCTCCAAGTCATC-1_13 C152   S6         S     Y       N       13     \n",
       "TTTCCTCCAGCTCCGA-1_13 C152   S6         S     Y       N       14     \n",
       "TTTCCTCCAGGTCTCG-1_13 C152   S6         S     Y       N       14     \n",
       "TTTCCTCGTTAAGATG-1_13 C152   S6         S     Y       N       19     \n",
       "TTTCCTCTCTTGTTTG-1_13 C152   S6         S     Y       N       10     \n",
       "TTTGCGCAGACTACAA-1_13 C152   S6         S     Y       N       10     \n",
       "TTTGCGCAGGGTGTGT-1_13 C152   S6         S     Y       N       28     \n",
       "TTTGCGCGTCGGCATC-1_13 C152   S6         S     Y       N       19     \n",
       "TTTGCGCTCCAGGGCT-1_13 C152   S6         S     Y       N       19     \n",
       "TTTGCGCTCTAACCGA-1_13 C152   S6         S     Y       N        9     \n",
       "TTTGCGCTCTGCTTGC-1_13 C152   S6         S     Y       N       14     \n",
       "TTTGGTTAGATCCCGC-1_13 C152   S6         S     Y       N        8     \n",
       "TTTGGTTAGCACCGTC-1_13 C152   S6         S     Y       N        1     \n",
       "TTTGGTTAGTCTCCTC-1_13 C152   S6         S     Y       N        1     \n",
       "TTTGGTTCACGAGAGT-1_13 C152   S6         S     Y       N        1     \n",
       "TTTGGTTCACTATCTT-1_13 C152   S6         S     Y       N       14     \n",
       "TTTGGTTCATCGGGTC-1_13 C152   S6         S     Y       N        1     \n",
       "TTTGGTTGTCTCTCTG-1_13 C152   S6         S     Y       N        1     \n",
       "TTTGGTTTCAAACCAC-1_13 C152   S6         S     Y       N       13     \n",
       "TTTGGTTTCGCTTGTC-1_13 C152   S6         S     Y       N        1     \n",
       "TTTGTCAAGAAACGCC-1_13 C152   S6         S     Y       N       14     \n",
       "TTTGTCACAACACCCG-1_13 C152   S6         S     Y       N       19     \n",
       "TTTGTCAGTCTGCAAT-1_13 C152   S6         S     Y       N       19     \n",
       "TTTGTCAGTGTTGGGA-1_13 C152   S6         S     Y       N       10     \n",
       "                      celltype   \n",
       "AAACCTGAGACACTAA-1_1  Macrophages\n",
       "AAACCTGAGGAGTACC-1_1  Macrophages\n",
       "AAACCTGAGGATATAC-1_1  Macrophages\n",
       "AAACCTGAGGTCATCT-1_1  Macrophages\n",
       "AAACCTGCACGGATAG-1_1  Macrophages\n",
       "AAACCTGCAGGGAGAG-1_1  Macrophages\n",
       "AAACCTGGTCTAAACC-1_1  Macrophages\n",
       "AAACCTGGTGCACCAC-1_1  Macrophages\n",
       "AAACCTGGTTACGCGC-1_1  Macrophages\n",
       "AAACCTGTCCGCATCT-1_1  Macrophages\n",
       "AAACGGGAGCTACCTA-1_1  Macrophages\n",
       "AAACGGGAGGAATTAC-1_1  Macrophages\n",
       "AAACGGGAGGACCACA-1_1  Macrophages\n",
       "AAACGGGAGGCAAAGA-1_1  Macrophages\n",
       "AAACGGGAGTCGTTTG-1_1  Macrophages\n",
       "AAACGGGCAAGGACTG-1_1  Macrophages\n",
       "AAACGGGCACCGAAAG-1_1  Macrophages\n",
       "AAACGGGCAGCCAATT-1_1  mDC        \n",
       "AAACGGGCATCCGTGG-1_1  Macrophages\n",
       "AAACGGGCATGCCTTC-1_1  Macrophages\n",
       "AAACGGGGTACATGTC-1_1  Macrophages\n",
       "AAACGGGGTCCATGAT-1_1  Macrophages\n",
       "AAACGGGGTCTCTCTG-1_1  mDC        \n",
       "AAACGGGGTGCGAAAC-1_1  Macrophages\n",
       "AAACGGGGTTCTGAAC-1_1  Macrophages\n",
       "AAACGGGTCCAAACTG-1_1  Macrophages\n",
       "AAACGGGTCCTTTACA-1_1  Macrophages\n",
       "AAACGGGTCGCAAACT-1_1  Macrophages\n",
       "AAAGATGAGACAGAGA-1_1  Macrophages\n",
       "AAAGATGAGAGGTTAT-1_1  Macrophages\n",
       "⋮                     ⋮          \n",
       "TTTATGCGTCGACTGC-1_13 Plasma     \n",
       "TTTATGCGTTAAGATG-1_13 Epithelial \n",
       "TTTATGCTCGCACTCT-1_13 Plasma     \n",
       "TTTCCTCAGAGACTTA-1_13 T          \n",
       "TTTCCTCAGATCTGAA-1_13 Macrophages\n",
       "TTTCCTCAGGATGGAA-1_13 Macrophages\n",
       "TTTCCTCCAAGTCATC-1_13 Epithelial \n",
       "TTTCCTCCAGCTCCGA-1_13 T          \n",
       "TTTCCTCCAGGTCTCG-1_13 T          \n",
       "TTTCCTCGTTAAGATG-1_13 Plasma     \n",
       "TTTCCTCTCTTGTTTG-1_13 Macrophages\n",
       "TTTGCGCAGACTACAA-1_13 Macrophages\n",
       "TTTGCGCAGGGTGTGT-1_13 Epithelial \n",
       "TTTGCGCGTCGGCATC-1_13 Plasma     \n",
       "TTTGCGCTCCAGGGCT-1_13 Plasma     \n",
       "TTTGCGCTCTAACCGA-1_13 T          \n",
       "TTTGCGCTCTGCTTGC-1_13 T          \n",
       "TTTGGTTAGATCCCGC-1_13 Macrophages\n",
       "TTTGGTTAGCACCGTC-1_13 Macrophages\n",
       "TTTGGTTAGTCTCCTC-1_13 Macrophages\n",
       "TTTGGTTCACGAGAGT-1_13 Macrophages\n",
       "TTTGGTTCACTATCTT-1_13 T          \n",
       "TTTGGTTCATCGGGTC-1_13 Macrophages\n",
       "TTTGGTTGTCTCTCTG-1_13 Macrophages\n",
       "TTTGGTTTCAAACCAC-1_13 Epithelial \n",
       "TTTGGTTTCGCTTGTC-1_13 Macrophages\n",
       "TTTGTCAAGAAACGCC-1_13 T          \n",
       "TTTGTCACAACACCCG-1_13 Plasma     \n",
       "TTTGTCAGTCTGCAAT-1_13 Plasma     \n",
       "TTTGTCAGTGTTGGGA-1_13 Macrophages"
      ]
     },
     "metadata": {},
     "output_type": "display_data"
    }
   ],
   "source": [
    "sample_info"
   ]
  },
  {
   "cell_type": "code",
   "execution_count": 45,
   "id": "7158e3b5-fda4-4014-a9c9-2eb5bea55884",
   "metadata": {},
   "outputs": [],
   "source": [
    "sample_info <- sample_info %>%\n",
    "    dplyr::rename(orig.ident = sample)"
   ]
  },
  {
   "cell_type": "code",
   "execution_count": 46,
   "id": "77491865-97b1-4a52-98ea-7aecb468b9a0",
   "metadata": {},
   "outputs": [],
   "source": [
    "bad <- dplyr::left_join(nCoV.integrated@meta.data %>%\n",
    "                mutate(Symbol = rownames(nCoV.integrated@meta.data)),\n",
    "                sample_info %>%\n",
    "                mutate(Symbol = rownames(sample_info)),\n",
    "                by = 'Symbol')\n",
    "to_be_deleted <- c('orig.ident.y')\n",
    "bad <- bad[, !(colnames(bad) %in% to_be_deleted)]\n",
    "bad <- bad %>%\n",
    "    dplyr::rename(orig.ident = orig.ident.x)\n",
    "rownames(bad) <- bad$Symbol\n",
    "bad$Symbol <- NULL"
   ]
  },
  {
   "cell_type": "code",
   "execution_count": 47,
   "id": "896e9c70-b436-4e56-9593-dab7a4a66a6f",
   "metadata": {},
   "outputs": [],
   "source": [
    "good <- bad %>% \n",
    "    dplyr::filter(!is.na(nCount_RNA))"
   ]
  },
  {
   "cell_type": "code",
   "execution_count": 48,
   "id": "d360a057-0ee0-4ae6-8062-f8ea550cc3a8",
   "metadata": {},
   "outputs": [
    {
     "name": "stdout",
     "output_type": "stream",
     "text": [
      "'data.frame':\t63734 obs. of  12 variables:\n",
      " $ orig.ident            : chr  \"C51\" \"C51\" \"C51\" \"C51\" ...\n",
      " $ nCount_RNA            : num  5228 5071 5531 5630 7358 ...\n",
      " $ nFeature_RNA          : int  1635 1385 1729 1639 1722 1312 1307 2211 1859 1835 ...\n",
      " $ percent.mito          : num  1.55 1.79 1.63 1.95 2.77 ...\n",
      " $ integrated_snn_res.1.2: Factor w/ 30 levels \"0\",\"1\",\"10\",\"11\",..: 13 5 13 13 27 13 25 6 6 6 ...\n",
      " $ seurat_clusters       : Factor w/ 30 levels \"0\",\"1\",\"2\",\"3\",..: 3 13 3 3 7 3 5 14 14 14 ...\n",
      " $ sample_new            : chr  \"HC1\" \"HC1\" \"HC1\" \"HC1\" ...\n",
      " $ group                 : chr  \"HC\" \"HC\" \"HC\" \"HC\" ...\n",
      " $ disease               : chr  \"N\" \"N\" \"N\" \"N\" ...\n",
      " $ hasnCoV               : chr  \"N\" \"N\" \"N\" \"N\" ...\n",
      " $ cluster               : int  3 3 3 3 5 2 8 5 5 5 ...\n",
      " $ celltype              : chr  \"Macrophages\" \"Macrophages\" \"Macrophages\" \"Macrophages\" ...\n"
     ]
    }
   ],
   "source": [
    "str(good)"
   ]
  },
  {
   "cell_type": "code",
   "execution_count": 49,
   "id": "a64ffe48-2f9b-41c8-b8d3-f3abcd7118ca",
   "metadata": {},
   "outputs": [
    {
     "data": {
      "text/html": [
       "<table class=\"dataframe\">\n",
       "<caption>A data.frame: 63734 × 12</caption>\n",
       "<thead>\n",
       "\t<tr><th></th><th scope=col>orig.ident</th><th scope=col>nCount_RNA</th><th scope=col>nFeature_RNA</th><th scope=col>percent.mito</th><th scope=col>integrated_snn_res.1.2</th><th scope=col>seurat_clusters</th><th scope=col>sample_new</th><th scope=col>group</th><th scope=col>disease</th><th scope=col>hasnCoV</th><th scope=col>cluster</th><th scope=col>celltype</th></tr>\n",
       "\t<tr><th></th><th scope=col>&lt;chr&gt;</th><th scope=col>&lt;dbl&gt;</th><th scope=col>&lt;int&gt;</th><th scope=col>&lt;dbl&gt;</th><th scope=col>&lt;fct&gt;</th><th scope=col>&lt;fct&gt;</th><th scope=col>&lt;chr&gt;</th><th scope=col>&lt;chr&gt;</th><th scope=col>&lt;chr&gt;</th><th scope=col>&lt;chr&gt;</th><th scope=col>&lt;int&gt;</th><th scope=col>&lt;chr&gt;</th></tr>\n",
       "</thead>\n",
       "<tbody>\n",
       "\t<tr><th scope=row>AAACCTGAGACACTAA-1_1</th><td>C51</td><td> 5228</td><td>1635</td><td>1.5493497</td><td>2 </td><td>2 </td><td>HC1</td><td>HC</td><td>N</td><td>N</td><td> 3</td><td>Macrophages</td></tr>\n",
       "\t<tr><th scope=row>AAACCTGAGGAGTACC-1_1</th><td>C51</td><td> 5071</td><td>1385</td><td>1.7945178</td><td>12</td><td>12</td><td>HC1</td><td>HC</td><td>N</td><td>N</td><td> 3</td><td>Macrophages</td></tr>\n",
       "\t<tr><th scope=row>AAACCTGAGGATATAC-1_1</th><td>C51</td><td> 5531</td><td>1729</td><td>1.6271922</td><td>2 </td><td>2 </td><td>HC1</td><td>HC</td><td>N</td><td>N</td><td> 3</td><td>Macrophages</td></tr>\n",
       "\t<tr><th scope=row>AAACCTGAGGTCATCT-1_1</th><td>C51</td><td> 5630</td><td>1639</td><td>1.9538188</td><td>2 </td><td>2 </td><td>HC1</td><td>HC</td><td>N</td><td>N</td><td> 3</td><td>Macrophages</td></tr>\n",
       "\t<tr><th scope=row>AAACCTGCACGGATAG-1_1</th><td>C51</td><td> 7358</td><td>1722</td><td>2.7724925</td><td>6 </td><td>6 </td><td>HC1</td><td>HC</td><td>N</td><td>N</td><td> 5</td><td>Macrophages</td></tr>\n",
       "\t<tr><th scope=row>AAACCTGCAGGGAGAG-1_1</th><td>C51</td><td> 4615</td><td>1312</td><td>1.4734561</td><td>2 </td><td>2 </td><td>HC1</td><td>HC</td><td>N</td><td>N</td><td> 2</td><td>Macrophages</td></tr>\n",
       "\t<tr><th scope=row>AAACCTGGTCTAAACC-1_1</th><td>C51</td><td> 4260</td><td>1307</td><td>2.4647887</td><td>4 </td><td>4 </td><td>HC1</td><td>HC</td><td>N</td><td>N</td><td> 8</td><td>Macrophages</td></tr>\n",
       "\t<tr><th scope=row>AAACCTGGTGCACCAC-1_1</th><td>C51</td><td>10112</td><td>2211</td><td>1.5031646</td><td>13</td><td>13</td><td>HC1</td><td>HC</td><td>N</td><td>N</td><td> 5</td><td>Macrophages</td></tr>\n",
       "\t<tr><th scope=row>AAACCTGGTTACGCGC-1_1</th><td>C51</td><td> 6748</td><td>1859</td><td>1.8079431</td><td>13</td><td>13</td><td>HC1</td><td>HC</td><td>N</td><td>N</td><td> 5</td><td>Macrophages</td></tr>\n",
       "\t<tr><th scope=row>AAACCTGTCCGCATCT-1_1</th><td>C51</td><td> 6713</td><td>1835</td><td>2.2195740</td><td>13</td><td>13</td><td>HC1</td><td>HC</td><td>N</td><td>N</td><td> 5</td><td>Macrophages</td></tr>\n",
       "\t<tr><th scope=row>AAACGGGAGCTACCTA-1_1</th><td>C51</td><td> 4148</td><td>1385</td><td>1.4705882</td><td>2 </td><td>2 </td><td>HC1</td><td>HC</td><td>N</td><td>N</td><td> 3</td><td>Macrophages</td></tr>\n",
       "\t<tr><th scope=row>AAACGGGAGGAATTAC-1_1</th><td>C51</td><td> 5470</td><td>1673</td><td>2.4314442</td><td>18</td><td>18</td><td>HC1</td><td>HC</td><td>N</td><td>N</td><td>18</td><td>Macrophages</td></tr>\n",
       "\t<tr><th scope=row>AAACGGGAGGACCACA-1_1</th><td>C51</td><td> 8344</td><td>1843</td><td>1.6179291</td><td>6 </td><td>6 </td><td>HC1</td><td>HC</td><td>N</td><td>N</td><td> 4</td><td>Macrophages</td></tr>\n",
       "\t<tr><th scope=row>AAACGGGAGGCAAAGA-1_1</th><td>C51</td><td> 3075</td><td> 975</td><td>1.6585366</td><td>0 </td><td>0 </td><td>HC1</td><td>HC</td><td>N</td><td>N</td><td> 1</td><td>Macrophages</td></tr>\n",
       "\t<tr><th scope=row>AAACGGGAGTCGTTTG-1_1</th><td>C51</td><td> 5684</td><td>1565</td><td>1.8472906</td><td>6 </td><td>6 </td><td>HC1</td><td>HC</td><td>N</td><td>N</td><td> 5</td><td>Macrophages</td></tr>\n",
       "\t<tr><th scope=row>AAACGGGCAAGGACTG-1_1</th><td>C51</td><td> 7632</td><td>1994</td><td>1.0089099</td><td>2 </td><td>2 </td><td>HC1</td><td>HC</td><td>N</td><td>N</td><td> 3</td><td>Macrophages</td></tr>\n",
       "\t<tr><th scope=row>AAACGGGCACCGAAAG-1_1</th><td>C51</td><td> 4865</td><td>1509</td><td>2.0143885</td><td>2 </td><td>2 </td><td>HC1</td><td>HC</td><td>N</td><td>N</td><td> 3</td><td>Macrophages</td></tr>\n",
       "\t<tr><th scope=row>AAACGGGCAGCCAATT-1_1</th><td>C51</td><td> 2381</td><td> 747</td><td>1.3859723</td><td>23</td><td>23</td><td>HC1</td><td>HC</td><td>N</td><td>N</td><td>20</td><td>mDC        </td></tr>\n",
       "\t<tr><th scope=row>AAACGGGCATCCGTGG-1_1</th><td>C51</td><td> 6668</td><td>1795</td><td>1.7396521</td><td>6 </td><td>6 </td><td>HC1</td><td>HC</td><td>N</td><td>N</td><td> 2</td><td>Macrophages</td></tr>\n",
       "\t<tr><th scope=row>AAACGGGCATGCCTTC-1_1</th><td>C51</td><td> 5409</td><td>1657</td><td>2.1445739</td><td>2 </td><td>2 </td><td>HC1</td><td>HC</td><td>N</td><td>N</td><td> 3</td><td>Macrophages</td></tr>\n",
       "\t<tr><th scope=row>AAACGGGGTACATGTC-1_1</th><td>C51</td><td> 6898</td><td>1786</td><td>2.0585677</td><td>6 </td><td>6 </td><td>HC1</td><td>HC</td><td>N</td><td>N</td><td> 5</td><td>Macrophages</td></tr>\n",
       "\t<tr><th scope=row>AAACGGGGTCCATGAT-1_1</th><td>C51</td><td> 5033</td><td>1391</td><td>2.1855752</td><td>4 </td><td>4 </td><td>HC1</td><td>HC</td><td>N</td><td>N</td><td> 8</td><td>Macrophages</td></tr>\n",
       "\t<tr><th scope=row>AAACGGGGTCTCTCTG-1_1</th><td>C51</td><td> 2255</td><td> 893</td><td>1.9955654</td><td>23</td><td>23</td><td>HC1</td><td>HC</td><td>N</td><td>N</td><td>20</td><td>mDC        </td></tr>\n",
       "\t<tr><th scope=row>AAACGGGGTGCGAAAC-1_1</th><td>C51</td><td> 8487</td><td>2190</td><td>2.0030635</td><td>3 </td><td>3 </td><td>HC1</td><td>HC</td><td>N</td><td>N</td><td> 4</td><td>Macrophages</td></tr>\n",
       "\t<tr><th scope=row>AAACGGGGTTCTGAAC-1_1</th><td>C51</td><td> 2984</td><td> 942</td><td>2.9490617</td><td>4 </td><td>4 </td><td>HC1</td><td>HC</td><td>N</td><td>N</td><td> 8</td><td>Macrophages</td></tr>\n",
       "\t<tr><th scope=row>AAACGGGTCCAAACTG-1_1</th><td>C51</td><td> 4558</td><td>1264</td><td>1.9087319</td><td>3 </td><td>3 </td><td>HC1</td><td>HC</td><td>N</td><td>N</td><td> 4</td><td>Macrophages</td></tr>\n",
       "\t<tr><th scope=row>AAACGGGTCCTTTACA-1_1</th><td>C51</td><td> 1245</td><td> 617</td><td>0.4819277</td><td>16</td><td>16</td><td>HC1</td><td>HC</td><td>N</td><td>N</td><td>21</td><td>Macrophages</td></tr>\n",
       "\t<tr><th scope=row>AAACGGGTCGCAAACT-1_1</th><td>C51</td><td> 7031</td><td>1609</td><td>2.3609728</td><td>13</td><td>13</td><td>HC1</td><td>HC</td><td>N</td><td>N</td><td> 5</td><td>Macrophages</td></tr>\n",
       "\t<tr><th scope=row>AAAGATGAGACAGAGA-1_1</th><td>C51</td><td> 3392</td><td>1138</td><td>1.4150943</td><td>2 </td><td>2 </td><td>HC1</td><td>HC</td><td>N</td><td>N</td><td> 3</td><td>Macrophages</td></tr>\n",
       "\t<tr><th scope=row>AAAGATGAGAGGTTAT-1_1</th><td>C51</td><td> 4839</td><td>1512</td><td>2.7071709</td><td>6 </td><td>6 </td><td>HC1</td><td>HC</td><td>N</td><td>N</td><td> 5</td><td>Macrophages</td></tr>\n",
       "\t<tr><th scope=row>⋮</th><td>⋮</td><td>⋮</td><td>⋮</td><td>⋮</td><td>⋮</td><td>⋮</td><td>⋮</td><td>⋮</td><td>⋮</td><td>⋮</td><td>⋮</td><td>⋮</td></tr>\n",
       "\t<tr><th scope=row>TTTATGCGTCGACTGC-1_12</th><td>C152</td><td> 2300</td><td> 537</td><td>7.304348</td><td>19</td><td>19</td><td>NA</td><td>NA</td><td>NA</td><td>NA</td><td>NA</td><td>NA</td></tr>\n",
       "\t<tr><th scope=row>TTTATGCGTTAAGATG-1_12</th><td>C152</td><td>23879</td><td>4186</td><td>7.110851</td><td>15</td><td>15</td><td>NA</td><td>NA</td><td>NA</td><td>NA</td><td>NA</td><td>NA</td></tr>\n",
       "\t<tr><th scope=row>TTTATGCTCGCACTCT-1_12</th><td>C152</td><td> 1649</td><td> 618</td><td>6.549424</td><td>19</td><td>19</td><td>NA</td><td>NA</td><td>NA</td><td>NA</td><td>NA</td><td>NA</td></tr>\n",
       "\t<tr><th scope=row>TTTCCTCAGAGACTTA-1_12</th><td>C152</td><td> 4028</td><td>1769</td><td>3.301887</td><td>10</td><td>10</td><td>NA</td><td>NA</td><td>NA</td><td>NA</td><td>NA</td><td>NA</td></tr>\n",
       "\t<tr><th scope=row>TTTCCTCAGATCTGAA-1_12</th><td>C152</td><td> 1354</td><td> 660</td><td>6.129985</td><td>0 </td><td>0 </td><td>NA</td><td>NA</td><td>NA</td><td>NA</td><td>NA</td><td>NA</td></tr>\n",
       "\t<tr><th scope=row>TTTCCTCAGGATGGAA-1_12</th><td>C152</td><td> 2706</td><td>1062</td><td>5.284553</td><td>0 </td><td>0 </td><td>NA</td><td>NA</td><td>NA</td><td>NA</td><td>NA</td><td>NA</td></tr>\n",
       "\t<tr><th scope=row>TTTCCTCCAAGTCATC-1_12</th><td>C152</td><td> 1909</td><td> 933</td><td>8.328968</td><td>15</td><td>15</td><td>NA</td><td>NA</td><td>NA</td><td>NA</td><td>NA</td><td>NA</td></tr>\n",
       "\t<tr><th scope=row>TTTCCTCCAGCTCCGA-1_12</th><td>C152</td><td> 6612</td><td>2491</td><td>5.051422</td><td>14</td><td>14</td><td>NA</td><td>NA</td><td>NA</td><td>NA</td><td>NA</td><td>NA</td></tr>\n",
       "\t<tr><th scope=row>TTTCCTCCAGGTCTCG-1_12</th><td>C152</td><td> 1951</td><td> 834</td><td>7.124552</td><td>14</td><td>14</td><td>NA</td><td>NA</td><td>NA</td><td>NA</td><td>NA</td><td>NA</td></tr>\n",
       "\t<tr><th scope=row>TTTCCTCGTTAAGATG-1_12</th><td>C152</td><td> 1174</td><td> 494</td><td>3.662692</td><td>19</td><td>19</td><td>NA</td><td>NA</td><td>NA</td><td>NA</td><td>NA</td><td>NA</td></tr>\n",
       "\t<tr><th scope=row>TTTCCTCTCTTGTTTG-1_12</th><td>C152</td><td> 4034</td><td>1400</td><td>9.791770</td><td>5 </td><td>5 </td><td>NA</td><td>NA</td><td>NA</td><td>NA</td><td>NA</td><td>NA</td></tr>\n",
       "\t<tr><th scope=row>TTTGCGCAGACTACAA-1_12</th><td>C152</td><td>22478</td><td>4601</td><td>5.222885</td><td>5 </td><td>5 </td><td>NA</td><td>NA</td><td>NA</td><td>NA</td><td>NA</td><td>NA</td></tr>\n",
       "\t<tr><th scope=row>TTTGCGCAGGGTGTGT-1_12</th><td>C152</td><td> 8040</td><td>2804</td><td>9.875622</td><td>21</td><td>21</td><td>NA</td><td>NA</td><td>NA</td><td>NA</td><td>NA</td><td>NA</td></tr>\n",
       "\t<tr><th scope=row>TTTGCGCGTCGGCATC-1_12</th><td>C152</td><td>21713</td><td>3566</td><td>2.574495</td><td>19</td><td>19</td><td>NA</td><td>NA</td><td>NA</td><td>NA</td><td>NA</td><td>NA</td></tr>\n",
       "\t<tr><th scope=row>TTTGCGCTCCAGGGCT-1_12</th><td>C152</td><td> 1624</td><td> 510</td><td>9.236453</td><td>19</td><td>19</td><td>NA</td><td>NA</td><td>NA</td><td>NA</td><td>NA</td><td>NA</td></tr>\n",
       "\t<tr><th scope=row>TTTGCGCTCTAACCGA-1_12</th><td>C152</td><td> 4789</td><td>1978</td><td>2.276049</td><td>10</td><td>10</td><td>NA</td><td>NA</td><td>NA</td><td>NA</td><td>NA</td><td>NA</td></tr>\n",
       "\t<tr><th scope=row>TTTGCGCTCTGCTTGC-1_12</th><td>C152</td><td> 1567</td><td> 846</td><td>9.700064</td><td>14</td><td>14</td><td>NA</td><td>NA</td><td>NA</td><td>NA</td><td>NA</td><td>NA</td></tr>\n",
       "\t<tr><th scope=row>TTTGGTTAGATCCCGC-1_12</th><td>C152</td><td>11612</td><td>2679</td><td>2.239063</td><td>4 </td><td>4 </td><td>NA</td><td>NA</td><td>NA</td><td>NA</td><td>NA</td><td>NA</td></tr>\n",
       "\t<tr><th scope=row>TTTGGTTAGCACCGTC-1_12</th><td>C152</td><td> 2591</td><td>1160</td><td>5.017368</td><td>0 </td><td>0 </td><td>NA</td><td>NA</td><td>NA</td><td>NA</td><td>NA</td><td>NA</td></tr>\n",
       "\t<tr><th scope=row>TTTGGTTAGTCTCCTC-1_12</th><td>C152</td><td> 1878</td><td> 923</td><td>5.857295</td><td>0 </td><td>0 </td><td>NA</td><td>NA</td><td>NA</td><td>NA</td><td>NA</td><td>NA</td></tr>\n",
       "\t<tr><th scope=row>TTTGGTTCACGAGAGT-1_12</th><td>C152</td><td> 6063</td><td>2097</td><td>3.282204</td><td>0 </td><td>0 </td><td>NA</td><td>NA</td><td>NA</td><td>NA</td><td>NA</td><td>NA</td></tr>\n",
       "\t<tr><th scope=row>TTTGGTTCACTATCTT-1_12</th><td>C152</td><td> 7536</td><td>2640</td><td>5.055732</td><td>14</td><td>14</td><td>NA</td><td>NA</td><td>NA</td><td>NA</td><td>NA</td><td>NA</td></tr>\n",
       "\t<tr><th scope=row>TTTGGTTCATCGGGTC-1_12</th><td>C152</td><td> 4104</td><td>1450</td><td>7.090643</td><td>0 </td><td>0 </td><td>NA</td><td>NA</td><td>NA</td><td>NA</td><td>NA</td><td>NA</td></tr>\n",
       "\t<tr><th scope=row>TTTGGTTGTCTCTCTG-1_12</th><td>C152</td><td> 3916</td><td>1451</td><td>8.401430</td><td>0 </td><td>0 </td><td>NA</td><td>NA</td><td>NA</td><td>NA</td><td>NA</td><td>NA</td></tr>\n",
       "\t<tr><th scope=row>TTTGGTTTCAAACCAC-1_12</th><td>C152</td><td>19312</td><td>3783</td><td>5.944490</td><td>15</td><td>15</td><td>NA</td><td>NA</td><td>NA</td><td>NA</td><td>NA</td><td>NA</td></tr>\n",
       "\t<tr><th scope=row>TTTGGTTTCGCTTGTC-1_12</th><td>C152</td><td> 1116</td><td> 641</td><td>8.602151</td><td>1 </td><td>1 </td><td>NA</td><td>NA</td><td>NA</td><td>NA</td><td>NA</td><td>NA</td></tr>\n",
       "\t<tr><th scope=row>TTTGTCAAGAAACGCC-1_12</th><td>C152</td><td>12869</td><td>3507</td><td>3.178180</td><td>14</td><td>14</td><td>NA</td><td>NA</td><td>NA</td><td>NA</td><td>NA</td><td>NA</td></tr>\n",
       "\t<tr><th scope=row>TTTGTCACAACACCCG-1_12</th><td>C152</td><td> 1347</td><td> 556</td><td>8.685969</td><td>19</td><td>19</td><td>NA</td><td>NA</td><td>NA</td><td>NA</td><td>NA</td><td>NA</td></tr>\n",
       "\t<tr><th scope=row>TTTGTCAGTCTGCAAT-1_12</th><td>C152</td><td>21274</td><td>3373</td><td>4.474946</td><td>19</td><td>19</td><td>NA</td><td>NA</td><td>NA</td><td>NA</td><td>NA</td><td>NA</td></tr>\n",
       "\t<tr><th scope=row>TTTGTCAGTGTTGGGA-1_12</th><td>C152</td><td> 4301</td><td>1705</td><td>6.254359</td><td>5 </td><td>5 </td><td>NA</td><td>NA</td><td>NA</td><td>NA</td><td>NA</td><td>NA</td></tr>\n",
       "</tbody>\n",
       "</table>\n"
      ],
      "text/latex": [
       "A data.frame: 63734 × 12\n",
       "\\begin{tabular}{r|llllllllllll}\n",
       "  & orig.ident & nCount\\_RNA & nFeature\\_RNA & percent.mito & integrated\\_snn\\_res.1.2 & seurat\\_clusters & sample\\_new & group & disease & hasnCoV & cluster & celltype\\\\\n",
       "  & <chr> & <dbl> & <int> & <dbl> & <fct> & <fct> & <chr> & <chr> & <chr> & <chr> & <int> & <chr>\\\\\n",
       "\\hline\n",
       "\tAAACCTGAGACACTAA-1\\_1 & C51 &  5228 & 1635 & 1.5493497 & 2  & 2  & HC1 & HC & N & N &  3 & Macrophages\\\\\n",
       "\tAAACCTGAGGAGTACC-1\\_1 & C51 &  5071 & 1385 & 1.7945178 & 12 & 12 & HC1 & HC & N & N &  3 & Macrophages\\\\\n",
       "\tAAACCTGAGGATATAC-1\\_1 & C51 &  5531 & 1729 & 1.6271922 & 2  & 2  & HC1 & HC & N & N &  3 & Macrophages\\\\\n",
       "\tAAACCTGAGGTCATCT-1\\_1 & C51 &  5630 & 1639 & 1.9538188 & 2  & 2  & HC1 & HC & N & N &  3 & Macrophages\\\\\n",
       "\tAAACCTGCACGGATAG-1\\_1 & C51 &  7358 & 1722 & 2.7724925 & 6  & 6  & HC1 & HC & N & N &  5 & Macrophages\\\\\n",
       "\tAAACCTGCAGGGAGAG-1\\_1 & C51 &  4615 & 1312 & 1.4734561 & 2  & 2  & HC1 & HC & N & N &  2 & Macrophages\\\\\n",
       "\tAAACCTGGTCTAAACC-1\\_1 & C51 &  4260 & 1307 & 2.4647887 & 4  & 4  & HC1 & HC & N & N &  8 & Macrophages\\\\\n",
       "\tAAACCTGGTGCACCAC-1\\_1 & C51 & 10112 & 2211 & 1.5031646 & 13 & 13 & HC1 & HC & N & N &  5 & Macrophages\\\\\n",
       "\tAAACCTGGTTACGCGC-1\\_1 & C51 &  6748 & 1859 & 1.8079431 & 13 & 13 & HC1 & HC & N & N &  5 & Macrophages\\\\\n",
       "\tAAACCTGTCCGCATCT-1\\_1 & C51 &  6713 & 1835 & 2.2195740 & 13 & 13 & HC1 & HC & N & N &  5 & Macrophages\\\\\n",
       "\tAAACGGGAGCTACCTA-1\\_1 & C51 &  4148 & 1385 & 1.4705882 & 2  & 2  & HC1 & HC & N & N &  3 & Macrophages\\\\\n",
       "\tAAACGGGAGGAATTAC-1\\_1 & C51 &  5470 & 1673 & 2.4314442 & 18 & 18 & HC1 & HC & N & N & 18 & Macrophages\\\\\n",
       "\tAAACGGGAGGACCACA-1\\_1 & C51 &  8344 & 1843 & 1.6179291 & 6  & 6  & HC1 & HC & N & N &  4 & Macrophages\\\\\n",
       "\tAAACGGGAGGCAAAGA-1\\_1 & C51 &  3075 &  975 & 1.6585366 & 0  & 0  & HC1 & HC & N & N &  1 & Macrophages\\\\\n",
       "\tAAACGGGAGTCGTTTG-1\\_1 & C51 &  5684 & 1565 & 1.8472906 & 6  & 6  & HC1 & HC & N & N &  5 & Macrophages\\\\\n",
       "\tAAACGGGCAAGGACTG-1\\_1 & C51 &  7632 & 1994 & 1.0089099 & 2  & 2  & HC1 & HC & N & N &  3 & Macrophages\\\\\n",
       "\tAAACGGGCACCGAAAG-1\\_1 & C51 &  4865 & 1509 & 2.0143885 & 2  & 2  & HC1 & HC & N & N &  3 & Macrophages\\\\\n",
       "\tAAACGGGCAGCCAATT-1\\_1 & C51 &  2381 &  747 & 1.3859723 & 23 & 23 & HC1 & HC & N & N & 20 & mDC        \\\\\n",
       "\tAAACGGGCATCCGTGG-1\\_1 & C51 &  6668 & 1795 & 1.7396521 & 6  & 6  & HC1 & HC & N & N &  2 & Macrophages\\\\\n",
       "\tAAACGGGCATGCCTTC-1\\_1 & C51 &  5409 & 1657 & 2.1445739 & 2  & 2  & HC1 & HC & N & N &  3 & Macrophages\\\\\n",
       "\tAAACGGGGTACATGTC-1\\_1 & C51 &  6898 & 1786 & 2.0585677 & 6  & 6  & HC1 & HC & N & N &  5 & Macrophages\\\\\n",
       "\tAAACGGGGTCCATGAT-1\\_1 & C51 &  5033 & 1391 & 2.1855752 & 4  & 4  & HC1 & HC & N & N &  8 & Macrophages\\\\\n",
       "\tAAACGGGGTCTCTCTG-1\\_1 & C51 &  2255 &  893 & 1.9955654 & 23 & 23 & HC1 & HC & N & N & 20 & mDC        \\\\\n",
       "\tAAACGGGGTGCGAAAC-1\\_1 & C51 &  8487 & 2190 & 2.0030635 & 3  & 3  & HC1 & HC & N & N &  4 & Macrophages\\\\\n",
       "\tAAACGGGGTTCTGAAC-1\\_1 & C51 &  2984 &  942 & 2.9490617 & 4  & 4  & HC1 & HC & N & N &  8 & Macrophages\\\\\n",
       "\tAAACGGGTCCAAACTG-1\\_1 & C51 &  4558 & 1264 & 1.9087319 & 3  & 3  & HC1 & HC & N & N &  4 & Macrophages\\\\\n",
       "\tAAACGGGTCCTTTACA-1\\_1 & C51 &  1245 &  617 & 0.4819277 & 16 & 16 & HC1 & HC & N & N & 21 & Macrophages\\\\\n",
       "\tAAACGGGTCGCAAACT-1\\_1 & C51 &  7031 & 1609 & 2.3609728 & 13 & 13 & HC1 & HC & N & N &  5 & Macrophages\\\\\n",
       "\tAAAGATGAGACAGAGA-1\\_1 & C51 &  3392 & 1138 & 1.4150943 & 2  & 2  & HC1 & HC & N & N &  3 & Macrophages\\\\\n",
       "\tAAAGATGAGAGGTTAT-1\\_1 & C51 &  4839 & 1512 & 2.7071709 & 6  & 6  & HC1 & HC & N & N &  5 & Macrophages\\\\\n",
       "\t⋮ & ⋮ & ⋮ & ⋮ & ⋮ & ⋮ & ⋮ & ⋮ & ⋮ & ⋮ & ⋮ & ⋮ & ⋮\\\\\n",
       "\tTTTATGCGTCGACTGC-1\\_12 & C152 &  2300 &  537 & 7.304348 & 19 & 19 & NA & NA & NA & NA & NA & NA\\\\\n",
       "\tTTTATGCGTTAAGATG-1\\_12 & C152 & 23879 & 4186 & 7.110851 & 15 & 15 & NA & NA & NA & NA & NA & NA\\\\\n",
       "\tTTTATGCTCGCACTCT-1\\_12 & C152 &  1649 &  618 & 6.549424 & 19 & 19 & NA & NA & NA & NA & NA & NA\\\\\n",
       "\tTTTCCTCAGAGACTTA-1\\_12 & C152 &  4028 & 1769 & 3.301887 & 10 & 10 & NA & NA & NA & NA & NA & NA\\\\\n",
       "\tTTTCCTCAGATCTGAA-1\\_12 & C152 &  1354 &  660 & 6.129985 & 0  & 0  & NA & NA & NA & NA & NA & NA\\\\\n",
       "\tTTTCCTCAGGATGGAA-1\\_12 & C152 &  2706 & 1062 & 5.284553 & 0  & 0  & NA & NA & NA & NA & NA & NA\\\\\n",
       "\tTTTCCTCCAAGTCATC-1\\_12 & C152 &  1909 &  933 & 8.328968 & 15 & 15 & NA & NA & NA & NA & NA & NA\\\\\n",
       "\tTTTCCTCCAGCTCCGA-1\\_12 & C152 &  6612 & 2491 & 5.051422 & 14 & 14 & NA & NA & NA & NA & NA & NA\\\\\n",
       "\tTTTCCTCCAGGTCTCG-1\\_12 & C152 &  1951 &  834 & 7.124552 & 14 & 14 & NA & NA & NA & NA & NA & NA\\\\\n",
       "\tTTTCCTCGTTAAGATG-1\\_12 & C152 &  1174 &  494 & 3.662692 & 19 & 19 & NA & NA & NA & NA & NA & NA\\\\\n",
       "\tTTTCCTCTCTTGTTTG-1\\_12 & C152 &  4034 & 1400 & 9.791770 & 5  & 5  & NA & NA & NA & NA & NA & NA\\\\\n",
       "\tTTTGCGCAGACTACAA-1\\_12 & C152 & 22478 & 4601 & 5.222885 & 5  & 5  & NA & NA & NA & NA & NA & NA\\\\\n",
       "\tTTTGCGCAGGGTGTGT-1\\_12 & C152 &  8040 & 2804 & 9.875622 & 21 & 21 & NA & NA & NA & NA & NA & NA\\\\\n",
       "\tTTTGCGCGTCGGCATC-1\\_12 & C152 & 21713 & 3566 & 2.574495 & 19 & 19 & NA & NA & NA & NA & NA & NA\\\\\n",
       "\tTTTGCGCTCCAGGGCT-1\\_12 & C152 &  1624 &  510 & 9.236453 & 19 & 19 & NA & NA & NA & NA & NA & NA\\\\\n",
       "\tTTTGCGCTCTAACCGA-1\\_12 & C152 &  4789 & 1978 & 2.276049 & 10 & 10 & NA & NA & NA & NA & NA & NA\\\\\n",
       "\tTTTGCGCTCTGCTTGC-1\\_12 & C152 &  1567 &  846 & 9.700064 & 14 & 14 & NA & NA & NA & NA & NA & NA\\\\\n",
       "\tTTTGGTTAGATCCCGC-1\\_12 & C152 & 11612 & 2679 & 2.239063 & 4  & 4  & NA & NA & NA & NA & NA & NA\\\\\n",
       "\tTTTGGTTAGCACCGTC-1\\_12 & C152 &  2591 & 1160 & 5.017368 & 0  & 0  & NA & NA & NA & NA & NA & NA\\\\\n",
       "\tTTTGGTTAGTCTCCTC-1\\_12 & C152 &  1878 &  923 & 5.857295 & 0  & 0  & NA & NA & NA & NA & NA & NA\\\\\n",
       "\tTTTGGTTCACGAGAGT-1\\_12 & C152 &  6063 & 2097 & 3.282204 & 0  & 0  & NA & NA & NA & NA & NA & NA\\\\\n",
       "\tTTTGGTTCACTATCTT-1\\_12 & C152 &  7536 & 2640 & 5.055732 & 14 & 14 & NA & NA & NA & NA & NA & NA\\\\\n",
       "\tTTTGGTTCATCGGGTC-1\\_12 & C152 &  4104 & 1450 & 7.090643 & 0  & 0  & NA & NA & NA & NA & NA & NA\\\\\n",
       "\tTTTGGTTGTCTCTCTG-1\\_12 & C152 &  3916 & 1451 & 8.401430 & 0  & 0  & NA & NA & NA & NA & NA & NA\\\\\n",
       "\tTTTGGTTTCAAACCAC-1\\_12 & C152 & 19312 & 3783 & 5.944490 & 15 & 15 & NA & NA & NA & NA & NA & NA\\\\\n",
       "\tTTTGGTTTCGCTTGTC-1\\_12 & C152 &  1116 &  641 & 8.602151 & 1  & 1  & NA & NA & NA & NA & NA & NA\\\\\n",
       "\tTTTGTCAAGAAACGCC-1\\_12 & C152 & 12869 & 3507 & 3.178180 & 14 & 14 & NA & NA & NA & NA & NA & NA\\\\\n",
       "\tTTTGTCACAACACCCG-1\\_12 & C152 &  1347 &  556 & 8.685969 & 19 & 19 & NA & NA & NA & NA & NA & NA\\\\\n",
       "\tTTTGTCAGTCTGCAAT-1\\_12 & C152 & 21274 & 3373 & 4.474946 & 19 & 19 & NA & NA & NA & NA & NA & NA\\\\\n",
       "\tTTTGTCAGTGTTGGGA-1\\_12 & C152 &  4301 & 1705 & 6.254359 & 5  & 5  & NA & NA & NA & NA & NA & NA\\\\\n",
       "\\end{tabular}\n"
      ],
      "text/markdown": [
       "\n",
       "A data.frame: 63734 × 12\n",
       "\n",
       "| <!--/--> | orig.ident &lt;chr&gt; | nCount_RNA &lt;dbl&gt; | nFeature_RNA &lt;int&gt; | percent.mito &lt;dbl&gt; | integrated_snn_res.1.2 &lt;fct&gt; | seurat_clusters &lt;fct&gt; | sample_new &lt;chr&gt; | group &lt;chr&gt; | disease &lt;chr&gt; | hasnCoV &lt;chr&gt; | cluster &lt;int&gt; | celltype &lt;chr&gt; |\n",
       "|---|---|---|---|---|---|---|---|---|---|---|---|---|\n",
       "| AAACCTGAGACACTAA-1_1 | C51 |  5228 | 1635 | 1.5493497 | 2  | 2  | HC1 | HC | N | N |  3 | Macrophages |\n",
       "| AAACCTGAGGAGTACC-1_1 | C51 |  5071 | 1385 | 1.7945178 | 12 | 12 | HC1 | HC | N | N |  3 | Macrophages |\n",
       "| AAACCTGAGGATATAC-1_1 | C51 |  5531 | 1729 | 1.6271922 | 2  | 2  | HC1 | HC | N | N |  3 | Macrophages |\n",
       "| AAACCTGAGGTCATCT-1_1 | C51 |  5630 | 1639 | 1.9538188 | 2  | 2  | HC1 | HC | N | N |  3 | Macrophages |\n",
       "| AAACCTGCACGGATAG-1_1 | C51 |  7358 | 1722 | 2.7724925 | 6  | 6  | HC1 | HC | N | N |  5 | Macrophages |\n",
       "| AAACCTGCAGGGAGAG-1_1 | C51 |  4615 | 1312 | 1.4734561 | 2  | 2  | HC1 | HC | N | N |  2 | Macrophages |\n",
       "| AAACCTGGTCTAAACC-1_1 | C51 |  4260 | 1307 | 2.4647887 | 4  | 4  | HC1 | HC | N | N |  8 | Macrophages |\n",
       "| AAACCTGGTGCACCAC-1_1 | C51 | 10112 | 2211 | 1.5031646 | 13 | 13 | HC1 | HC | N | N |  5 | Macrophages |\n",
       "| AAACCTGGTTACGCGC-1_1 | C51 |  6748 | 1859 | 1.8079431 | 13 | 13 | HC1 | HC | N | N |  5 | Macrophages |\n",
       "| AAACCTGTCCGCATCT-1_1 | C51 |  6713 | 1835 | 2.2195740 | 13 | 13 | HC1 | HC | N | N |  5 | Macrophages |\n",
       "| AAACGGGAGCTACCTA-1_1 | C51 |  4148 | 1385 | 1.4705882 | 2  | 2  | HC1 | HC | N | N |  3 | Macrophages |\n",
       "| AAACGGGAGGAATTAC-1_1 | C51 |  5470 | 1673 | 2.4314442 | 18 | 18 | HC1 | HC | N | N | 18 | Macrophages |\n",
       "| AAACGGGAGGACCACA-1_1 | C51 |  8344 | 1843 | 1.6179291 | 6  | 6  | HC1 | HC | N | N |  4 | Macrophages |\n",
       "| AAACGGGAGGCAAAGA-1_1 | C51 |  3075 |  975 | 1.6585366 | 0  | 0  | HC1 | HC | N | N |  1 | Macrophages |\n",
       "| AAACGGGAGTCGTTTG-1_1 | C51 |  5684 | 1565 | 1.8472906 | 6  | 6  | HC1 | HC | N | N |  5 | Macrophages |\n",
       "| AAACGGGCAAGGACTG-1_1 | C51 |  7632 | 1994 | 1.0089099 | 2  | 2  | HC1 | HC | N | N |  3 | Macrophages |\n",
       "| AAACGGGCACCGAAAG-1_1 | C51 |  4865 | 1509 | 2.0143885 | 2  | 2  | HC1 | HC | N | N |  3 | Macrophages |\n",
       "| AAACGGGCAGCCAATT-1_1 | C51 |  2381 |  747 | 1.3859723 | 23 | 23 | HC1 | HC | N | N | 20 | mDC         |\n",
       "| AAACGGGCATCCGTGG-1_1 | C51 |  6668 | 1795 | 1.7396521 | 6  | 6  | HC1 | HC | N | N |  2 | Macrophages |\n",
       "| AAACGGGCATGCCTTC-1_1 | C51 |  5409 | 1657 | 2.1445739 | 2  | 2  | HC1 | HC | N | N |  3 | Macrophages |\n",
       "| AAACGGGGTACATGTC-1_1 | C51 |  6898 | 1786 | 2.0585677 | 6  | 6  | HC1 | HC | N | N |  5 | Macrophages |\n",
       "| AAACGGGGTCCATGAT-1_1 | C51 |  5033 | 1391 | 2.1855752 | 4  | 4  | HC1 | HC | N | N |  8 | Macrophages |\n",
       "| AAACGGGGTCTCTCTG-1_1 | C51 |  2255 |  893 | 1.9955654 | 23 | 23 | HC1 | HC | N | N | 20 | mDC         |\n",
       "| AAACGGGGTGCGAAAC-1_1 | C51 |  8487 | 2190 | 2.0030635 | 3  | 3  | HC1 | HC | N | N |  4 | Macrophages |\n",
       "| AAACGGGGTTCTGAAC-1_1 | C51 |  2984 |  942 | 2.9490617 | 4  | 4  | HC1 | HC | N | N |  8 | Macrophages |\n",
       "| AAACGGGTCCAAACTG-1_1 | C51 |  4558 | 1264 | 1.9087319 | 3  | 3  | HC1 | HC | N | N |  4 | Macrophages |\n",
       "| AAACGGGTCCTTTACA-1_1 | C51 |  1245 |  617 | 0.4819277 | 16 | 16 | HC1 | HC | N | N | 21 | Macrophages |\n",
       "| AAACGGGTCGCAAACT-1_1 | C51 |  7031 | 1609 | 2.3609728 | 13 | 13 | HC1 | HC | N | N |  5 | Macrophages |\n",
       "| AAAGATGAGACAGAGA-1_1 | C51 |  3392 | 1138 | 1.4150943 | 2  | 2  | HC1 | HC | N | N |  3 | Macrophages |\n",
       "| AAAGATGAGAGGTTAT-1_1 | C51 |  4839 | 1512 | 2.7071709 | 6  | 6  | HC1 | HC | N | N |  5 | Macrophages |\n",
       "| ⋮ | ⋮ | ⋮ | ⋮ | ⋮ | ⋮ | ⋮ | ⋮ | ⋮ | ⋮ | ⋮ | ⋮ | ⋮ |\n",
       "| TTTATGCGTCGACTGC-1_12 | C152 |  2300 |  537 | 7.304348 | 19 | 19 | NA | NA | NA | NA | NA | NA |\n",
       "| TTTATGCGTTAAGATG-1_12 | C152 | 23879 | 4186 | 7.110851 | 15 | 15 | NA | NA | NA | NA | NA | NA |\n",
       "| TTTATGCTCGCACTCT-1_12 | C152 |  1649 |  618 | 6.549424 | 19 | 19 | NA | NA | NA | NA | NA | NA |\n",
       "| TTTCCTCAGAGACTTA-1_12 | C152 |  4028 | 1769 | 3.301887 | 10 | 10 | NA | NA | NA | NA | NA | NA |\n",
       "| TTTCCTCAGATCTGAA-1_12 | C152 |  1354 |  660 | 6.129985 | 0  | 0  | NA | NA | NA | NA | NA | NA |\n",
       "| TTTCCTCAGGATGGAA-1_12 | C152 |  2706 | 1062 | 5.284553 | 0  | 0  | NA | NA | NA | NA | NA | NA |\n",
       "| TTTCCTCCAAGTCATC-1_12 | C152 |  1909 |  933 | 8.328968 | 15 | 15 | NA | NA | NA | NA | NA | NA |\n",
       "| TTTCCTCCAGCTCCGA-1_12 | C152 |  6612 | 2491 | 5.051422 | 14 | 14 | NA | NA | NA | NA | NA | NA |\n",
       "| TTTCCTCCAGGTCTCG-1_12 | C152 |  1951 |  834 | 7.124552 | 14 | 14 | NA | NA | NA | NA | NA | NA |\n",
       "| TTTCCTCGTTAAGATG-1_12 | C152 |  1174 |  494 | 3.662692 | 19 | 19 | NA | NA | NA | NA | NA | NA |\n",
       "| TTTCCTCTCTTGTTTG-1_12 | C152 |  4034 | 1400 | 9.791770 | 5  | 5  | NA | NA | NA | NA | NA | NA |\n",
       "| TTTGCGCAGACTACAA-1_12 | C152 | 22478 | 4601 | 5.222885 | 5  | 5  | NA | NA | NA | NA | NA | NA |\n",
       "| TTTGCGCAGGGTGTGT-1_12 | C152 |  8040 | 2804 | 9.875622 | 21 | 21 | NA | NA | NA | NA | NA | NA |\n",
       "| TTTGCGCGTCGGCATC-1_12 | C152 | 21713 | 3566 | 2.574495 | 19 | 19 | NA | NA | NA | NA | NA | NA |\n",
       "| TTTGCGCTCCAGGGCT-1_12 | C152 |  1624 |  510 | 9.236453 | 19 | 19 | NA | NA | NA | NA | NA | NA |\n",
       "| TTTGCGCTCTAACCGA-1_12 | C152 |  4789 | 1978 | 2.276049 | 10 | 10 | NA | NA | NA | NA | NA | NA |\n",
       "| TTTGCGCTCTGCTTGC-1_12 | C152 |  1567 |  846 | 9.700064 | 14 | 14 | NA | NA | NA | NA | NA | NA |\n",
       "| TTTGGTTAGATCCCGC-1_12 | C152 | 11612 | 2679 | 2.239063 | 4  | 4  | NA | NA | NA | NA | NA | NA |\n",
       "| TTTGGTTAGCACCGTC-1_12 | C152 |  2591 | 1160 | 5.017368 | 0  | 0  | NA | NA | NA | NA | NA | NA |\n",
       "| TTTGGTTAGTCTCCTC-1_12 | C152 |  1878 |  923 | 5.857295 | 0  | 0  | NA | NA | NA | NA | NA | NA |\n",
       "| TTTGGTTCACGAGAGT-1_12 | C152 |  6063 | 2097 | 3.282204 | 0  | 0  | NA | NA | NA | NA | NA | NA |\n",
       "| TTTGGTTCACTATCTT-1_12 | C152 |  7536 | 2640 | 5.055732 | 14 | 14 | NA | NA | NA | NA | NA | NA |\n",
       "| TTTGGTTCATCGGGTC-1_12 | C152 |  4104 | 1450 | 7.090643 | 0  | 0  | NA | NA | NA | NA | NA | NA |\n",
       "| TTTGGTTGTCTCTCTG-1_12 | C152 |  3916 | 1451 | 8.401430 | 0  | 0  | NA | NA | NA | NA | NA | NA |\n",
       "| TTTGGTTTCAAACCAC-1_12 | C152 | 19312 | 3783 | 5.944490 | 15 | 15 | NA | NA | NA | NA | NA | NA |\n",
       "| TTTGGTTTCGCTTGTC-1_12 | C152 |  1116 |  641 | 8.602151 | 1  | 1  | NA | NA | NA | NA | NA | NA |\n",
       "| TTTGTCAAGAAACGCC-1_12 | C152 | 12869 | 3507 | 3.178180 | 14 | 14 | NA | NA | NA | NA | NA | NA |\n",
       "| TTTGTCACAACACCCG-1_12 | C152 |  1347 |  556 | 8.685969 | 19 | 19 | NA | NA | NA | NA | NA | NA |\n",
       "| TTTGTCAGTCTGCAAT-1_12 | C152 | 21274 | 3373 | 4.474946 | 19 | 19 | NA | NA | NA | NA | NA | NA |\n",
       "| TTTGTCAGTGTTGGGA-1_12 | C152 |  4301 | 1705 | 6.254359 | 5  | 5  | NA | NA | NA | NA | NA | NA |\n",
       "\n"
      ],
      "text/plain": [
       "                      orig.ident nCount_RNA nFeature_RNA percent.mito\n",
       "AAACCTGAGACACTAA-1_1  C51         5228      1635         1.5493497   \n",
       "AAACCTGAGGAGTACC-1_1  C51         5071      1385         1.7945178   \n",
       "AAACCTGAGGATATAC-1_1  C51         5531      1729         1.6271922   \n",
       "AAACCTGAGGTCATCT-1_1  C51         5630      1639         1.9538188   \n",
       "AAACCTGCACGGATAG-1_1  C51         7358      1722         2.7724925   \n",
       "AAACCTGCAGGGAGAG-1_1  C51         4615      1312         1.4734561   \n",
       "AAACCTGGTCTAAACC-1_1  C51         4260      1307         2.4647887   \n",
       "AAACCTGGTGCACCAC-1_1  C51        10112      2211         1.5031646   \n",
       "AAACCTGGTTACGCGC-1_1  C51         6748      1859         1.8079431   \n",
       "AAACCTGTCCGCATCT-1_1  C51         6713      1835         2.2195740   \n",
       "AAACGGGAGCTACCTA-1_1  C51         4148      1385         1.4705882   \n",
       "AAACGGGAGGAATTAC-1_1  C51         5470      1673         2.4314442   \n",
       "AAACGGGAGGACCACA-1_1  C51         8344      1843         1.6179291   \n",
       "AAACGGGAGGCAAAGA-1_1  C51         3075       975         1.6585366   \n",
       "AAACGGGAGTCGTTTG-1_1  C51         5684      1565         1.8472906   \n",
       "AAACGGGCAAGGACTG-1_1  C51         7632      1994         1.0089099   \n",
       "AAACGGGCACCGAAAG-1_1  C51         4865      1509         2.0143885   \n",
       "AAACGGGCAGCCAATT-1_1  C51         2381       747         1.3859723   \n",
       "AAACGGGCATCCGTGG-1_1  C51         6668      1795         1.7396521   \n",
       "AAACGGGCATGCCTTC-1_1  C51         5409      1657         2.1445739   \n",
       "AAACGGGGTACATGTC-1_1  C51         6898      1786         2.0585677   \n",
       "AAACGGGGTCCATGAT-1_1  C51         5033      1391         2.1855752   \n",
       "AAACGGGGTCTCTCTG-1_1  C51         2255       893         1.9955654   \n",
       "AAACGGGGTGCGAAAC-1_1  C51         8487      2190         2.0030635   \n",
       "AAACGGGGTTCTGAAC-1_1  C51         2984       942         2.9490617   \n",
       "AAACGGGTCCAAACTG-1_1  C51         4558      1264         1.9087319   \n",
       "AAACGGGTCCTTTACA-1_1  C51         1245       617         0.4819277   \n",
       "AAACGGGTCGCAAACT-1_1  C51         7031      1609         2.3609728   \n",
       "AAAGATGAGACAGAGA-1_1  C51         3392      1138         1.4150943   \n",
       "AAAGATGAGAGGTTAT-1_1  C51         4839      1512         2.7071709   \n",
       "⋮                     ⋮          ⋮          ⋮            ⋮           \n",
       "TTTATGCGTCGACTGC-1_12 C152        2300       537         7.304348    \n",
       "TTTATGCGTTAAGATG-1_12 C152       23879      4186         7.110851    \n",
       "TTTATGCTCGCACTCT-1_12 C152        1649       618         6.549424    \n",
       "TTTCCTCAGAGACTTA-1_12 C152        4028      1769         3.301887    \n",
       "TTTCCTCAGATCTGAA-1_12 C152        1354       660         6.129985    \n",
       "TTTCCTCAGGATGGAA-1_12 C152        2706      1062         5.284553    \n",
       "TTTCCTCCAAGTCATC-1_12 C152        1909       933         8.328968    \n",
       "TTTCCTCCAGCTCCGA-1_12 C152        6612      2491         5.051422    \n",
       "TTTCCTCCAGGTCTCG-1_12 C152        1951       834         7.124552    \n",
       "TTTCCTCGTTAAGATG-1_12 C152        1174       494         3.662692    \n",
       "TTTCCTCTCTTGTTTG-1_12 C152        4034      1400         9.791770    \n",
       "TTTGCGCAGACTACAA-1_12 C152       22478      4601         5.222885    \n",
       "TTTGCGCAGGGTGTGT-1_12 C152        8040      2804         9.875622    \n",
       "TTTGCGCGTCGGCATC-1_12 C152       21713      3566         2.574495    \n",
       "TTTGCGCTCCAGGGCT-1_12 C152        1624       510         9.236453    \n",
       "TTTGCGCTCTAACCGA-1_12 C152        4789      1978         2.276049    \n",
       "TTTGCGCTCTGCTTGC-1_12 C152        1567       846         9.700064    \n",
       "TTTGGTTAGATCCCGC-1_12 C152       11612      2679         2.239063    \n",
       "TTTGGTTAGCACCGTC-1_12 C152        2591      1160         5.017368    \n",
       "TTTGGTTAGTCTCCTC-1_12 C152        1878       923         5.857295    \n",
       "TTTGGTTCACGAGAGT-1_12 C152        6063      2097         3.282204    \n",
       "TTTGGTTCACTATCTT-1_12 C152        7536      2640         5.055732    \n",
       "TTTGGTTCATCGGGTC-1_12 C152        4104      1450         7.090643    \n",
       "TTTGGTTGTCTCTCTG-1_12 C152        3916      1451         8.401430    \n",
       "TTTGGTTTCAAACCAC-1_12 C152       19312      3783         5.944490    \n",
       "TTTGGTTTCGCTTGTC-1_12 C152        1116       641         8.602151    \n",
       "TTTGTCAAGAAACGCC-1_12 C152       12869      3507         3.178180    \n",
       "TTTGTCACAACACCCG-1_12 C152        1347       556         8.685969    \n",
       "TTTGTCAGTCTGCAAT-1_12 C152       21274      3373         4.474946    \n",
       "TTTGTCAGTGTTGGGA-1_12 C152        4301      1705         6.254359    \n",
       "                      integrated_snn_res.1.2 seurat_clusters sample_new group\n",
       "AAACCTGAGACACTAA-1_1  2                      2               HC1        HC   \n",
       "AAACCTGAGGAGTACC-1_1  12                     12              HC1        HC   \n",
       "AAACCTGAGGATATAC-1_1  2                      2               HC1        HC   \n",
       "AAACCTGAGGTCATCT-1_1  2                      2               HC1        HC   \n",
       "AAACCTGCACGGATAG-1_1  6                      6               HC1        HC   \n",
       "AAACCTGCAGGGAGAG-1_1  2                      2               HC1        HC   \n",
       "AAACCTGGTCTAAACC-1_1  4                      4               HC1        HC   \n",
       "AAACCTGGTGCACCAC-1_1  13                     13              HC1        HC   \n",
       "AAACCTGGTTACGCGC-1_1  13                     13              HC1        HC   \n",
       "AAACCTGTCCGCATCT-1_1  13                     13              HC1        HC   \n",
       "AAACGGGAGCTACCTA-1_1  2                      2               HC1        HC   \n",
       "AAACGGGAGGAATTAC-1_1  18                     18              HC1        HC   \n",
       "AAACGGGAGGACCACA-1_1  6                      6               HC1        HC   \n",
       "AAACGGGAGGCAAAGA-1_1  0                      0               HC1        HC   \n",
       "AAACGGGAGTCGTTTG-1_1  6                      6               HC1        HC   \n",
       "AAACGGGCAAGGACTG-1_1  2                      2               HC1        HC   \n",
       "AAACGGGCACCGAAAG-1_1  2                      2               HC1        HC   \n",
       "AAACGGGCAGCCAATT-1_1  23                     23              HC1        HC   \n",
       "AAACGGGCATCCGTGG-1_1  6                      6               HC1        HC   \n",
       "AAACGGGCATGCCTTC-1_1  2                      2               HC1        HC   \n",
       "AAACGGGGTACATGTC-1_1  6                      6               HC1        HC   \n",
       "AAACGGGGTCCATGAT-1_1  4                      4               HC1        HC   \n",
       "AAACGGGGTCTCTCTG-1_1  23                     23              HC1        HC   \n",
       "AAACGGGGTGCGAAAC-1_1  3                      3               HC1        HC   \n",
       "AAACGGGGTTCTGAAC-1_1  4                      4               HC1        HC   \n",
       "AAACGGGTCCAAACTG-1_1  3                      3               HC1        HC   \n",
       "AAACGGGTCCTTTACA-1_1  16                     16              HC1        HC   \n",
       "AAACGGGTCGCAAACT-1_1  13                     13              HC1        HC   \n",
       "AAAGATGAGACAGAGA-1_1  2                      2               HC1        HC   \n",
       "AAAGATGAGAGGTTAT-1_1  6                      6               HC1        HC   \n",
       "⋮                     ⋮                      ⋮               ⋮          ⋮    \n",
       "TTTATGCGTCGACTGC-1_12 19                     19              NA         NA   \n",
       "TTTATGCGTTAAGATG-1_12 15                     15              NA         NA   \n",
       "TTTATGCTCGCACTCT-1_12 19                     19              NA         NA   \n",
       "TTTCCTCAGAGACTTA-1_12 10                     10              NA         NA   \n",
       "TTTCCTCAGATCTGAA-1_12 0                      0               NA         NA   \n",
       "TTTCCTCAGGATGGAA-1_12 0                      0               NA         NA   \n",
       "TTTCCTCCAAGTCATC-1_12 15                     15              NA         NA   \n",
       "TTTCCTCCAGCTCCGA-1_12 14                     14              NA         NA   \n",
       "TTTCCTCCAGGTCTCG-1_12 14                     14              NA         NA   \n",
       "TTTCCTCGTTAAGATG-1_12 19                     19              NA         NA   \n",
       "TTTCCTCTCTTGTTTG-1_12 5                      5               NA         NA   \n",
       "TTTGCGCAGACTACAA-1_12 5                      5               NA         NA   \n",
       "TTTGCGCAGGGTGTGT-1_12 21                     21              NA         NA   \n",
       "TTTGCGCGTCGGCATC-1_12 19                     19              NA         NA   \n",
       "TTTGCGCTCCAGGGCT-1_12 19                     19              NA         NA   \n",
       "TTTGCGCTCTAACCGA-1_12 10                     10              NA         NA   \n",
       "TTTGCGCTCTGCTTGC-1_12 14                     14              NA         NA   \n",
       "TTTGGTTAGATCCCGC-1_12 4                      4               NA         NA   \n",
       "TTTGGTTAGCACCGTC-1_12 0                      0               NA         NA   \n",
       "TTTGGTTAGTCTCCTC-1_12 0                      0               NA         NA   \n",
       "TTTGGTTCACGAGAGT-1_12 0                      0               NA         NA   \n",
       "TTTGGTTCACTATCTT-1_12 14                     14              NA         NA   \n",
       "TTTGGTTCATCGGGTC-1_12 0                      0               NA         NA   \n",
       "TTTGGTTGTCTCTCTG-1_12 0                      0               NA         NA   \n",
       "TTTGGTTTCAAACCAC-1_12 15                     15              NA         NA   \n",
       "TTTGGTTTCGCTTGTC-1_12 1                      1               NA         NA   \n",
       "TTTGTCAAGAAACGCC-1_12 14                     14              NA         NA   \n",
       "TTTGTCACAACACCCG-1_12 19                     19              NA         NA   \n",
       "TTTGTCAGTCTGCAAT-1_12 19                     19              NA         NA   \n",
       "TTTGTCAGTGTTGGGA-1_12 5                      5               NA         NA   \n",
       "                      disease hasnCoV cluster celltype   \n",
       "AAACCTGAGACACTAA-1_1  N       N        3      Macrophages\n",
       "AAACCTGAGGAGTACC-1_1  N       N        3      Macrophages\n",
       "AAACCTGAGGATATAC-1_1  N       N        3      Macrophages\n",
       "AAACCTGAGGTCATCT-1_1  N       N        3      Macrophages\n",
       "AAACCTGCACGGATAG-1_1  N       N        5      Macrophages\n",
       "AAACCTGCAGGGAGAG-1_1  N       N        2      Macrophages\n",
       "AAACCTGGTCTAAACC-1_1  N       N        8      Macrophages\n",
       "AAACCTGGTGCACCAC-1_1  N       N        5      Macrophages\n",
       "AAACCTGGTTACGCGC-1_1  N       N        5      Macrophages\n",
       "AAACCTGTCCGCATCT-1_1  N       N        5      Macrophages\n",
       "AAACGGGAGCTACCTA-1_1  N       N        3      Macrophages\n",
       "AAACGGGAGGAATTAC-1_1  N       N       18      Macrophages\n",
       "AAACGGGAGGACCACA-1_1  N       N        4      Macrophages\n",
       "AAACGGGAGGCAAAGA-1_1  N       N        1      Macrophages\n",
       "AAACGGGAGTCGTTTG-1_1  N       N        5      Macrophages\n",
       "AAACGGGCAAGGACTG-1_1  N       N        3      Macrophages\n",
       "AAACGGGCACCGAAAG-1_1  N       N        3      Macrophages\n",
       "AAACGGGCAGCCAATT-1_1  N       N       20      mDC        \n",
       "AAACGGGCATCCGTGG-1_1  N       N        2      Macrophages\n",
       "AAACGGGCATGCCTTC-1_1  N       N        3      Macrophages\n",
       "AAACGGGGTACATGTC-1_1  N       N        5      Macrophages\n",
       "AAACGGGGTCCATGAT-1_1  N       N        8      Macrophages\n",
       "AAACGGGGTCTCTCTG-1_1  N       N       20      mDC        \n",
       "AAACGGGGTGCGAAAC-1_1  N       N        4      Macrophages\n",
       "AAACGGGGTTCTGAAC-1_1  N       N        8      Macrophages\n",
       "AAACGGGTCCAAACTG-1_1  N       N        4      Macrophages\n",
       "AAACGGGTCCTTTACA-1_1  N       N       21      Macrophages\n",
       "AAACGGGTCGCAAACT-1_1  N       N        5      Macrophages\n",
       "AAAGATGAGACAGAGA-1_1  N       N        3      Macrophages\n",
       "AAAGATGAGAGGTTAT-1_1  N       N        5      Macrophages\n",
       "⋮                     ⋮       ⋮       ⋮       ⋮          \n",
       "TTTATGCGTCGACTGC-1_12 NA      NA      NA      NA         \n",
       "TTTATGCGTTAAGATG-1_12 NA      NA      NA      NA         \n",
       "TTTATGCTCGCACTCT-1_12 NA      NA      NA      NA         \n",
       "TTTCCTCAGAGACTTA-1_12 NA      NA      NA      NA         \n",
       "TTTCCTCAGATCTGAA-1_12 NA      NA      NA      NA         \n",
       "TTTCCTCAGGATGGAA-1_12 NA      NA      NA      NA         \n",
       "TTTCCTCCAAGTCATC-1_12 NA      NA      NA      NA         \n",
       "TTTCCTCCAGCTCCGA-1_12 NA      NA      NA      NA         \n",
       "TTTCCTCCAGGTCTCG-1_12 NA      NA      NA      NA         \n",
       "TTTCCTCGTTAAGATG-1_12 NA      NA      NA      NA         \n",
       "TTTCCTCTCTTGTTTG-1_12 NA      NA      NA      NA         \n",
       "TTTGCGCAGACTACAA-1_12 NA      NA      NA      NA         \n",
       "TTTGCGCAGGGTGTGT-1_12 NA      NA      NA      NA         \n",
       "TTTGCGCGTCGGCATC-1_12 NA      NA      NA      NA         \n",
       "TTTGCGCTCCAGGGCT-1_12 NA      NA      NA      NA         \n",
       "TTTGCGCTCTAACCGA-1_12 NA      NA      NA      NA         \n",
       "TTTGCGCTCTGCTTGC-1_12 NA      NA      NA      NA         \n",
       "TTTGGTTAGATCCCGC-1_12 NA      NA      NA      NA         \n",
       "TTTGGTTAGCACCGTC-1_12 NA      NA      NA      NA         \n",
       "TTTGGTTAGTCTCCTC-1_12 NA      NA      NA      NA         \n",
       "TTTGGTTCACGAGAGT-1_12 NA      NA      NA      NA         \n",
       "TTTGGTTCACTATCTT-1_12 NA      NA      NA      NA         \n",
       "TTTGGTTCATCGGGTC-1_12 NA      NA      NA      NA         \n",
       "TTTGGTTGTCTCTCTG-1_12 NA      NA      NA      NA         \n",
       "TTTGGTTTCAAACCAC-1_12 NA      NA      NA      NA         \n",
       "TTTGGTTTCGCTTGTC-1_12 NA      NA      NA      NA         \n",
       "TTTGTCAAGAAACGCC-1_12 NA      NA      NA      NA         \n",
       "TTTGTCACAACACCCG-1_12 NA      NA      NA      NA         \n",
       "TTTGTCAGTCTGCAAT-1_12 NA      NA      NA      NA         \n",
       "TTTGTCAGTGTTGGGA-1_12 NA      NA      NA      NA         "
      ]
     },
     "metadata": {},
     "output_type": "display_data"
    }
   ],
   "source": [
    "good"
   ]
  },
  {
   "cell_type": "code",
   "execution_count": 50,
   "id": "bf159d07-9e91-45c3-90f0-cb5e81c6dbf7",
   "metadata": {},
   "outputs": [],
   "source": [
    "my_data <- read.table('covid_balf/meta.txt', \n",
    "                      sep =\"\\t\", header = TRUE)\n",
    "sample_identity <- as.data.frame(my_data)\n",
    "sample_identity <- sample_identity %>%\n",
    "    rowwise() %>%\n",
    "    mutate(new = paste(sample, group, sep = '_')) %>%\n",
    "    dplyr::filter(new != 'GSM3660650_HC')"
   ]
  },
  {
   "cell_type": "code",
   "execution_count": 51,
   "id": "c9069706-8476-4037-8746-9e028cb9bd9b",
   "metadata": {
    "tags": []
   },
   "outputs": [
    {
     "data": {
      "text/html": [
       "<table class=\"dataframe\">\n",
       "<caption>A rowwise_df: 12 × 11</caption>\n",
       "<thead>\n",
       "\t<tr><th scope=col>sample</th><th scope=col>sample_new</th><th scope=col>sample_new_old</th><th scope=col>group</th><th scope=col>disease</th><th scope=col>nCoV_mean</th><th scope=col>nFeature_RNA_low</th><th scope=col>nFeature_RNA_high</th><th scope=col>nCount_RNA_threshold</th><th scope=col>percent.mito</th><th scope=col>new</th></tr>\n",
       "\t<tr><th scope=col>&lt;chr&gt;</th><th scope=col>&lt;chr&gt;</th><th scope=col>&lt;chr&gt;</th><th scope=col>&lt;chr&gt;</th><th scope=col>&lt;chr&gt;</th><th scope=col>&lt;dbl&gt;</th><th scope=col>&lt;int&gt;</th><th scope=col>&lt;int&gt;</th><th scope=col>&lt;int&gt;</th><th scope=col>&lt;int&gt;</th><th scope=col>&lt;chr&gt;</th></tr>\n",
       "</thead>\n",
       "<tbody>\n",
       "\t<tr><td>C51 </td><td>HC1</td><td>HC1</td><td>HC</td><td>N</td><td>0.000000000</td><td>200</td><td>6000</td><td>1000</td><td>10</td><td>C51_HC </td></tr>\n",
       "\t<tr><td>C52 </td><td>HC2</td><td>HC2</td><td>HC</td><td>N</td><td>0.000000000</td><td>200</td><td>6000</td><td>1000</td><td>10</td><td>C52_HC </td></tr>\n",
       "\t<tr><td>C100</td><td>HC3</td><td>HC3</td><td>HC</td><td>N</td><td>0.000000000</td><td>200</td><td>6000</td><td>1000</td><td>10</td><td>C100_HC</td></tr>\n",
       "\t<tr><td>C141</td><td>M1 </td><td>O1 </td><td>M </td><td>Y</td><td>0.000000000</td><td>200</td><td>6000</td><td>1000</td><td>10</td><td>C141_M </td></tr>\n",
       "\t<tr><td>C142</td><td>M2 </td><td>O2 </td><td>M </td><td>Y</td><td>0.000000000</td><td>200</td><td>6000</td><td>1000</td><td>10</td><td>C142_M </td></tr>\n",
       "\t<tr><td>C144</td><td>M3 </td><td>O3 </td><td>M </td><td>Y</td><td>0.000000000</td><td>200</td><td>6000</td><td>1000</td><td>10</td><td>C144_M </td></tr>\n",
       "\t<tr><td>C145</td><td>S1 </td><td>S1 </td><td>S </td><td>Y</td><td>0.085901131</td><td>200</td><td>6000</td><td>1000</td><td>10</td><td>C145_S </td></tr>\n",
       "\t<tr><td>C143</td><td>S2 </td><td>C1 </td><td>S </td><td>Y</td><td>0.007000048</td><td>200</td><td>6000</td><td>1000</td><td>10</td><td>C143_S </td></tr>\n",
       "\t<tr><td>C146</td><td>S3 </td><td>C2 </td><td>S </td><td>Y</td><td>0.749939188</td><td>200</td><td>6000</td><td>1000</td><td>10</td><td>C146_S </td></tr>\n",
       "\t<tr><td>C148</td><td>S4 </td><td>C3 </td><td>S </td><td>Y</td><td>0.002551020</td><td>200</td><td>6000</td><td>1000</td><td>10</td><td>C148_S </td></tr>\n",
       "\t<tr><td>C149</td><td>S5 </td><td>C4 </td><td>S </td><td>Y</td><td>0.408822508</td><td>200</td><td>6000</td><td>1000</td><td>10</td><td>C149_S </td></tr>\n",
       "\t<tr><td>C152</td><td>S6 </td><td>C5 </td><td>S </td><td>Y</td><td>0.096482152</td><td>200</td><td>6000</td><td>1000</td><td>10</td><td>C152_S </td></tr>\n",
       "</tbody>\n",
       "</table>\n"
      ],
      "text/latex": [
       "A rowwise\\_df: 12 × 11\n",
       "\\begin{tabular}{lllllllllll}\n",
       " sample & sample\\_new & sample\\_new\\_old & group & disease & nCoV\\_mean & nFeature\\_RNA\\_low & nFeature\\_RNA\\_high & nCount\\_RNA\\_threshold & percent.mito & new\\\\\n",
       " <chr> & <chr> & <chr> & <chr> & <chr> & <dbl> & <int> & <int> & <int> & <int> & <chr>\\\\\n",
       "\\hline\n",
       "\t C51  & HC1 & HC1 & HC & N & 0.000000000 & 200 & 6000 & 1000 & 10 & C51\\_HC \\\\\n",
       "\t C52  & HC2 & HC2 & HC & N & 0.000000000 & 200 & 6000 & 1000 & 10 & C52\\_HC \\\\\n",
       "\t C100 & HC3 & HC3 & HC & N & 0.000000000 & 200 & 6000 & 1000 & 10 & C100\\_HC\\\\\n",
       "\t C141 & M1  & O1  & M  & Y & 0.000000000 & 200 & 6000 & 1000 & 10 & C141\\_M \\\\\n",
       "\t C142 & M2  & O2  & M  & Y & 0.000000000 & 200 & 6000 & 1000 & 10 & C142\\_M \\\\\n",
       "\t C144 & M3  & O3  & M  & Y & 0.000000000 & 200 & 6000 & 1000 & 10 & C144\\_M \\\\\n",
       "\t C145 & S1  & S1  & S  & Y & 0.085901131 & 200 & 6000 & 1000 & 10 & C145\\_S \\\\\n",
       "\t C143 & S2  & C1  & S  & Y & 0.007000048 & 200 & 6000 & 1000 & 10 & C143\\_S \\\\\n",
       "\t C146 & S3  & C2  & S  & Y & 0.749939188 & 200 & 6000 & 1000 & 10 & C146\\_S \\\\\n",
       "\t C148 & S4  & C3  & S  & Y & 0.002551020 & 200 & 6000 & 1000 & 10 & C148\\_S \\\\\n",
       "\t C149 & S5  & C4  & S  & Y & 0.408822508 & 200 & 6000 & 1000 & 10 & C149\\_S \\\\\n",
       "\t C152 & S6  & C5  & S  & Y & 0.096482152 & 200 & 6000 & 1000 & 10 & C152\\_S \\\\\n",
       "\\end{tabular}\n"
      ],
      "text/markdown": [
       "\n",
       "A rowwise_df: 12 × 11\n",
       "\n",
       "| sample &lt;chr&gt; | sample_new &lt;chr&gt; | sample_new_old &lt;chr&gt; | group &lt;chr&gt; | disease &lt;chr&gt; | nCoV_mean &lt;dbl&gt; | nFeature_RNA_low &lt;int&gt; | nFeature_RNA_high &lt;int&gt; | nCount_RNA_threshold &lt;int&gt; | percent.mito &lt;int&gt; | new &lt;chr&gt; |\n",
       "|---|---|---|---|---|---|---|---|---|---|---|\n",
       "| C51  | HC1 | HC1 | HC | N | 0.000000000 | 200 | 6000 | 1000 | 10 | C51_HC  |\n",
       "| C52  | HC2 | HC2 | HC | N | 0.000000000 | 200 | 6000 | 1000 | 10 | C52_HC  |\n",
       "| C100 | HC3 | HC3 | HC | N | 0.000000000 | 200 | 6000 | 1000 | 10 | C100_HC |\n",
       "| C141 | M1  | O1  | M  | Y | 0.000000000 | 200 | 6000 | 1000 | 10 | C141_M  |\n",
       "| C142 | M2  | O2  | M  | Y | 0.000000000 | 200 | 6000 | 1000 | 10 | C142_M  |\n",
       "| C144 | M3  | O3  | M  | Y | 0.000000000 | 200 | 6000 | 1000 | 10 | C144_M  |\n",
       "| C145 | S1  | S1  | S  | Y | 0.085901131 | 200 | 6000 | 1000 | 10 | C145_S  |\n",
       "| C143 | S2  | C1  | S  | Y | 0.007000048 | 200 | 6000 | 1000 | 10 | C143_S  |\n",
       "| C146 | S3  | C2  | S  | Y | 0.749939188 | 200 | 6000 | 1000 | 10 | C146_S  |\n",
       "| C148 | S4  | C3  | S  | Y | 0.002551020 | 200 | 6000 | 1000 | 10 | C148_S  |\n",
       "| C149 | S5  | C4  | S  | Y | 0.408822508 | 200 | 6000 | 1000 | 10 | C149_S  |\n",
       "| C152 | S6  | C5  | S  | Y | 0.096482152 | 200 | 6000 | 1000 | 10 | C152_S  |\n",
       "\n"
      ],
      "text/plain": [
       "   sample sample_new sample_new_old group disease nCoV_mean   nFeature_RNA_low\n",
       "1  C51    HC1        HC1            HC    N       0.000000000 200             \n",
       "2  C52    HC2        HC2            HC    N       0.000000000 200             \n",
       "3  C100   HC3        HC3            HC    N       0.000000000 200             \n",
       "4  C141   M1         O1             M     Y       0.000000000 200             \n",
       "5  C142   M2         O2             M     Y       0.000000000 200             \n",
       "6  C144   M3         O3             M     Y       0.000000000 200             \n",
       "7  C145   S1         S1             S     Y       0.085901131 200             \n",
       "8  C143   S2         C1             S     Y       0.007000048 200             \n",
       "9  C146   S3         C2             S     Y       0.749939188 200             \n",
       "10 C148   S4         C3             S     Y       0.002551020 200             \n",
       "11 C149   S5         C4             S     Y       0.408822508 200             \n",
       "12 C152   S6         C5             S     Y       0.096482152 200             \n",
       "   nFeature_RNA_high nCount_RNA_threshold percent.mito new    \n",
       "1  6000              1000                 10           C51_HC \n",
       "2  6000              1000                 10           C52_HC \n",
       "3  6000              1000                 10           C100_HC\n",
       "4  6000              1000                 10           C141_M \n",
       "5  6000              1000                 10           C142_M \n",
       "6  6000              1000                 10           C144_M \n",
       "7  6000              1000                 10           C145_S \n",
       "8  6000              1000                 10           C143_S \n",
       "9  6000              1000                 10           C146_S \n",
       "10 6000              1000                 10           C148_S \n",
       "11 6000              1000                 10           C149_S \n",
       "12 6000              1000                 10           C152_S "
      ]
     },
     "metadata": {},
     "output_type": "display_data"
    }
   ],
   "source": [
    "sample_identity\n",
    "sample <- c('C51', 'C52', 'C100', 'C141', 'C142', 'C144', 'C145', 'C143', 'C146', 'C148', 'C149', 'C152')\n",
    "sample_new <- sample_identity$sample_new\n",
    "group <- sample_identity$group \n",
    "disease <- sample_identity$group \n",
    "df <- data.frame(sample, sample_new, group, disease)"
   ]
  },
  {
   "cell_type": "code",
   "execution_count": 52,
   "id": "beabd9bd-33b9-4a7e-a379-e4ecdf6206f3",
   "metadata": {},
   "outputs": [
    {
     "data": {
      "text/html": [
       "<table class=\"dataframe\">\n",
       "<caption>A data.frame: 63734 × 12</caption>\n",
       "<thead>\n",
       "\t<tr><th></th><th scope=col>orig.ident</th><th scope=col>nCount_RNA</th><th scope=col>nFeature_RNA</th><th scope=col>percent.mito</th><th scope=col>integrated_snn_res.1.2</th><th scope=col>seurat_clusters</th><th scope=col>sample_new</th><th scope=col>group</th><th scope=col>disease</th><th scope=col>hasnCoV</th><th scope=col>cluster</th><th scope=col>celltype</th></tr>\n",
       "\t<tr><th></th><th scope=col>&lt;chr&gt;</th><th scope=col>&lt;dbl&gt;</th><th scope=col>&lt;int&gt;</th><th scope=col>&lt;dbl&gt;</th><th scope=col>&lt;fct&gt;</th><th scope=col>&lt;fct&gt;</th><th scope=col>&lt;chr&gt;</th><th scope=col>&lt;chr&gt;</th><th scope=col>&lt;chr&gt;</th><th scope=col>&lt;chr&gt;</th><th scope=col>&lt;int&gt;</th><th scope=col>&lt;chr&gt;</th></tr>\n",
       "</thead>\n",
       "<tbody>\n",
       "\t<tr><th scope=row>AAACCTGAGACACTAA-1_1</th><td>C51</td><td> 5228</td><td>1635</td><td>1.5493497</td><td>2 </td><td>2 </td><td>HC1</td><td>HC</td><td>N</td><td>N</td><td> 3</td><td>Macrophages</td></tr>\n",
       "\t<tr><th scope=row>AAACCTGAGGAGTACC-1_1</th><td>C51</td><td> 5071</td><td>1385</td><td>1.7945178</td><td>12</td><td>12</td><td>HC1</td><td>HC</td><td>N</td><td>N</td><td> 3</td><td>Macrophages</td></tr>\n",
       "\t<tr><th scope=row>AAACCTGAGGATATAC-1_1</th><td>C51</td><td> 5531</td><td>1729</td><td>1.6271922</td><td>2 </td><td>2 </td><td>HC1</td><td>HC</td><td>N</td><td>N</td><td> 3</td><td>Macrophages</td></tr>\n",
       "\t<tr><th scope=row>AAACCTGAGGTCATCT-1_1</th><td>C51</td><td> 5630</td><td>1639</td><td>1.9538188</td><td>2 </td><td>2 </td><td>HC1</td><td>HC</td><td>N</td><td>N</td><td> 3</td><td>Macrophages</td></tr>\n",
       "\t<tr><th scope=row>AAACCTGCACGGATAG-1_1</th><td>C51</td><td> 7358</td><td>1722</td><td>2.7724925</td><td>6 </td><td>6 </td><td>HC1</td><td>HC</td><td>N</td><td>N</td><td> 5</td><td>Macrophages</td></tr>\n",
       "\t<tr><th scope=row>AAACCTGCAGGGAGAG-1_1</th><td>C51</td><td> 4615</td><td>1312</td><td>1.4734561</td><td>2 </td><td>2 </td><td>HC1</td><td>HC</td><td>N</td><td>N</td><td> 2</td><td>Macrophages</td></tr>\n",
       "\t<tr><th scope=row>AAACCTGGTCTAAACC-1_1</th><td>C51</td><td> 4260</td><td>1307</td><td>2.4647887</td><td>4 </td><td>4 </td><td>HC1</td><td>HC</td><td>N</td><td>N</td><td> 8</td><td>Macrophages</td></tr>\n",
       "\t<tr><th scope=row>AAACCTGGTGCACCAC-1_1</th><td>C51</td><td>10112</td><td>2211</td><td>1.5031646</td><td>13</td><td>13</td><td>HC1</td><td>HC</td><td>N</td><td>N</td><td> 5</td><td>Macrophages</td></tr>\n",
       "\t<tr><th scope=row>AAACCTGGTTACGCGC-1_1</th><td>C51</td><td> 6748</td><td>1859</td><td>1.8079431</td><td>13</td><td>13</td><td>HC1</td><td>HC</td><td>N</td><td>N</td><td> 5</td><td>Macrophages</td></tr>\n",
       "\t<tr><th scope=row>AAACCTGTCCGCATCT-1_1</th><td>C51</td><td> 6713</td><td>1835</td><td>2.2195740</td><td>13</td><td>13</td><td>HC1</td><td>HC</td><td>N</td><td>N</td><td> 5</td><td>Macrophages</td></tr>\n",
       "\t<tr><th scope=row>AAACGGGAGCTACCTA-1_1</th><td>C51</td><td> 4148</td><td>1385</td><td>1.4705882</td><td>2 </td><td>2 </td><td>HC1</td><td>HC</td><td>N</td><td>N</td><td> 3</td><td>Macrophages</td></tr>\n",
       "\t<tr><th scope=row>AAACGGGAGGAATTAC-1_1</th><td>C51</td><td> 5470</td><td>1673</td><td>2.4314442</td><td>18</td><td>18</td><td>HC1</td><td>HC</td><td>N</td><td>N</td><td>18</td><td>Macrophages</td></tr>\n",
       "\t<tr><th scope=row>AAACGGGAGGACCACA-1_1</th><td>C51</td><td> 8344</td><td>1843</td><td>1.6179291</td><td>6 </td><td>6 </td><td>HC1</td><td>HC</td><td>N</td><td>N</td><td> 4</td><td>Macrophages</td></tr>\n",
       "\t<tr><th scope=row>AAACGGGAGGCAAAGA-1_1</th><td>C51</td><td> 3075</td><td> 975</td><td>1.6585366</td><td>0 </td><td>0 </td><td>HC1</td><td>HC</td><td>N</td><td>N</td><td> 1</td><td>Macrophages</td></tr>\n",
       "\t<tr><th scope=row>AAACGGGAGTCGTTTG-1_1</th><td>C51</td><td> 5684</td><td>1565</td><td>1.8472906</td><td>6 </td><td>6 </td><td>HC1</td><td>HC</td><td>N</td><td>N</td><td> 5</td><td>Macrophages</td></tr>\n",
       "\t<tr><th scope=row>AAACGGGCAAGGACTG-1_1</th><td>C51</td><td> 7632</td><td>1994</td><td>1.0089099</td><td>2 </td><td>2 </td><td>HC1</td><td>HC</td><td>N</td><td>N</td><td> 3</td><td>Macrophages</td></tr>\n",
       "\t<tr><th scope=row>AAACGGGCACCGAAAG-1_1</th><td>C51</td><td> 4865</td><td>1509</td><td>2.0143885</td><td>2 </td><td>2 </td><td>HC1</td><td>HC</td><td>N</td><td>N</td><td> 3</td><td>Macrophages</td></tr>\n",
       "\t<tr><th scope=row>AAACGGGCAGCCAATT-1_1</th><td>C51</td><td> 2381</td><td> 747</td><td>1.3859723</td><td>23</td><td>23</td><td>HC1</td><td>HC</td><td>N</td><td>N</td><td>20</td><td>mDC        </td></tr>\n",
       "\t<tr><th scope=row>AAACGGGCATCCGTGG-1_1</th><td>C51</td><td> 6668</td><td>1795</td><td>1.7396521</td><td>6 </td><td>6 </td><td>HC1</td><td>HC</td><td>N</td><td>N</td><td> 2</td><td>Macrophages</td></tr>\n",
       "\t<tr><th scope=row>AAACGGGCATGCCTTC-1_1</th><td>C51</td><td> 5409</td><td>1657</td><td>2.1445739</td><td>2 </td><td>2 </td><td>HC1</td><td>HC</td><td>N</td><td>N</td><td> 3</td><td>Macrophages</td></tr>\n",
       "\t<tr><th scope=row>AAACGGGGTACATGTC-1_1</th><td>C51</td><td> 6898</td><td>1786</td><td>2.0585677</td><td>6 </td><td>6 </td><td>HC1</td><td>HC</td><td>N</td><td>N</td><td> 5</td><td>Macrophages</td></tr>\n",
       "\t<tr><th scope=row>AAACGGGGTCCATGAT-1_1</th><td>C51</td><td> 5033</td><td>1391</td><td>2.1855752</td><td>4 </td><td>4 </td><td>HC1</td><td>HC</td><td>N</td><td>N</td><td> 8</td><td>Macrophages</td></tr>\n",
       "\t<tr><th scope=row>AAACGGGGTCTCTCTG-1_1</th><td>C51</td><td> 2255</td><td> 893</td><td>1.9955654</td><td>23</td><td>23</td><td>HC1</td><td>HC</td><td>N</td><td>N</td><td>20</td><td>mDC        </td></tr>\n",
       "\t<tr><th scope=row>AAACGGGGTGCGAAAC-1_1</th><td>C51</td><td> 8487</td><td>2190</td><td>2.0030635</td><td>3 </td><td>3 </td><td>HC1</td><td>HC</td><td>N</td><td>N</td><td> 4</td><td>Macrophages</td></tr>\n",
       "\t<tr><th scope=row>AAACGGGGTTCTGAAC-1_1</th><td>C51</td><td> 2984</td><td> 942</td><td>2.9490617</td><td>4 </td><td>4 </td><td>HC1</td><td>HC</td><td>N</td><td>N</td><td> 8</td><td>Macrophages</td></tr>\n",
       "\t<tr><th scope=row>AAACGGGTCCAAACTG-1_1</th><td>C51</td><td> 4558</td><td>1264</td><td>1.9087319</td><td>3 </td><td>3 </td><td>HC1</td><td>HC</td><td>N</td><td>N</td><td> 4</td><td>Macrophages</td></tr>\n",
       "\t<tr><th scope=row>AAACGGGTCCTTTACA-1_1</th><td>C51</td><td> 1245</td><td> 617</td><td>0.4819277</td><td>16</td><td>16</td><td>HC1</td><td>HC</td><td>N</td><td>N</td><td>21</td><td>Macrophages</td></tr>\n",
       "\t<tr><th scope=row>AAACGGGTCGCAAACT-1_1</th><td>C51</td><td> 7031</td><td>1609</td><td>2.3609728</td><td>13</td><td>13</td><td>HC1</td><td>HC</td><td>N</td><td>N</td><td> 5</td><td>Macrophages</td></tr>\n",
       "\t<tr><th scope=row>AAAGATGAGACAGAGA-1_1</th><td>C51</td><td> 3392</td><td>1138</td><td>1.4150943</td><td>2 </td><td>2 </td><td>HC1</td><td>HC</td><td>N</td><td>N</td><td> 3</td><td>Macrophages</td></tr>\n",
       "\t<tr><th scope=row>AAAGATGAGAGGTTAT-1_1</th><td>C51</td><td> 4839</td><td>1512</td><td>2.7071709</td><td>6 </td><td>6 </td><td>HC1</td><td>HC</td><td>N</td><td>N</td><td> 5</td><td>Macrophages</td></tr>\n",
       "\t<tr><th scope=row>⋮</th><td>⋮</td><td>⋮</td><td>⋮</td><td>⋮</td><td>⋮</td><td>⋮</td><td>⋮</td><td>⋮</td><td>⋮</td><td>⋮</td><td>⋮</td><td>⋮</td></tr>\n",
       "\t<tr><th scope=row>TTTATGCGTCGACTGC-1_12</th><td>C152</td><td> 2300</td><td> 537</td><td>7.304348</td><td>19</td><td>19</td><td>NA</td><td>NA</td><td>NA</td><td>NA</td><td>NA</td><td>NA</td></tr>\n",
       "\t<tr><th scope=row>TTTATGCGTTAAGATG-1_12</th><td>C152</td><td>23879</td><td>4186</td><td>7.110851</td><td>15</td><td>15</td><td>NA</td><td>NA</td><td>NA</td><td>NA</td><td>NA</td><td>NA</td></tr>\n",
       "\t<tr><th scope=row>TTTATGCTCGCACTCT-1_12</th><td>C152</td><td> 1649</td><td> 618</td><td>6.549424</td><td>19</td><td>19</td><td>NA</td><td>NA</td><td>NA</td><td>NA</td><td>NA</td><td>NA</td></tr>\n",
       "\t<tr><th scope=row>TTTCCTCAGAGACTTA-1_12</th><td>C152</td><td> 4028</td><td>1769</td><td>3.301887</td><td>10</td><td>10</td><td>NA</td><td>NA</td><td>NA</td><td>NA</td><td>NA</td><td>NA</td></tr>\n",
       "\t<tr><th scope=row>TTTCCTCAGATCTGAA-1_12</th><td>C152</td><td> 1354</td><td> 660</td><td>6.129985</td><td>0 </td><td>0 </td><td>NA</td><td>NA</td><td>NA</td><td>NA</td><td>NA</td><td>NA</td></tr>\n",
       "\t<tr><th scope=row>TTTCCTCAGGATGGAA-1_12</th><td>C152</td><td> 2706</td><td>1062</td><td>5.284553</td><td>0 </td><td>0 </td><td>NA</td><td>NA</td><td>NA</td><td>NA</td><td>NA</td><td>NA</td></tr>\n",
       "\t<tr><th scope=row>TTTCCTCCAAGTCATC-1_12</th><td>C152</td><td> 1909</td><td> 933</td><td>8.328968</td><td>15</td><td>15</td><td>NA</td><td>NA</td><td>NA</td><td>NA</td><td>NA</td><td>NA</td></tr>\n",
       "\t<tr><th scope=row>TTTCCTCCAGCTCCGA-1_12</th><td>C152</td><td> 6612</td><td>2491</td><td>5.051422</td><td>14</td><td>14</td><td>NA</td><td>NA</td><td>NA</td><td>NA</td><td>NA</td><td>NA</td></tr>\n",
       "\t<tr><th scope=row>TTTCCTCCAGGTCTCG-1_12</th><td>C152</td><td> 1951</td><td> 834</td><td>7.124552</td><td>14</td><td>14</td><td>NA</td><td>NA</td><td>NA</td><td>NA</td><td>NA</td><td>NA</td></tr>\n",
       "\t<tr><th scope=row>TTTCCTCGTTAAGATG-1_12</th><td>C152</td><td> 1174</td><td> 494</td><td>3.662692</td><td>19</td><td>19</td><td>NA</td><td>NA</td><td>NA</td><td>NA</td><td>NA</td><td>NA</td></tr>\n",
       "\t<tr><th scope=row>TTTCCTCTCTTGTTTG-1_12</th><td>C152</td><td> 4034</td><td>1400</td><td>9.791770</td><td>5 </td><td>5 </td><td>NA</td><td>NA</td><td>NA</td><td>NA</td><td>NA</td><td>NA</td></tr>\n",
       "\t<tr><th scope=row>TTTGCGCAGACTACAA-1_12</th><td>C152</td><td>22478</td><td>4601</td><td>5.222885</td><td>5 </td><td>5 </td><td>NA</td><td>NA</td><td>NA</td><td>NA</td><td>NA</td><td>NA</td></tr>\n",
       "\t<tr><th scope=row>TTTGCGCAGGGTGTGT-1_12</th><td>C152</td><td> 8040</td><td>2804</td><td>9.875622</td><td>21</td><td>21</td><td>NA</td><td>NA</td><td>NA</td><td>NA</td><td>NA</td><td>NA</td></tr>\n",
       "\t<tr><th scope=row>TTTGCGCGTCGGCATC-1_12</th><td>C152</td><td>21713</td><td>3566</td><td>2.574495</td><td>19</td><td>19</td><td>NA</td><td>NA</td><td>NA</td><td>NA</td><td>NA</td><td>NA</td></tr>\n",
       "\t<tr><th scope=row>TTTGCGCTCCAGGGCT-1_12</th><td>C152</td><td> 1624</td><td> 510</td><td>9.236453</td><td>19</td><td>19</td><td>NA</td><td>NA</td><td>NA</td><td>NA</td><td>NA</td><td>NA</td></tr>\n",
       "\t<tr><th scope=row>TTTGCGCTCTAACCGA-1_12</th><td>C152</td><td> 4789</td><td>1978</td><td>2.276049</td><td>10</td><td>10</td><td>NA</td><td>NA</td><td>NA</td><td>NA</td><td>NA</td><td>NA</td></tr>\n",
       "\t<tr><th scope=row>TTTGCGCTCTGCTTGC-1_12</th><td>C152</td><td> 1567</td><td> 846</td><td>9.700064</td><td>14</td><td>14</td><td>NA</td><td>NA</td><td>NA</td><td>NA</td><td>NA</td><td>NA</td></tr>\n",
       "\t<tr><th scope=row>TTTGGTTAGATCCCGC-1_12</th><td>C152</td><td>11612</td><td>2679</td><td>2.239063</td><td>4 </td><td>4 </td><td>NA</td><td>NA</td><td>NA</td><td>NA</td><td>NA</td><td>NA</td></tr>\n",
       "\t<tr><th scope=row>TTTGGTTAGCACCGTC-1_12</th><td>C152</td><td> 2591</td><td>1160</td><td>5.017368</td><td>0 </td><td>0 </td><td>NA</td><td>NA</td><td>NA</td><td>NA</td><td>NA</td><td>NA</td></tr>\n",
       "\t<tr><th scope=row>TTTGGTTAGTCTCCTC-1_12</th><td>C152</td><td> 1878</td><td> 923</td><td>5.857295</td><td>0 </td><td>0 </td><td>NA</td><td>NA</td><td>NA</td><td>NA</td><td>NA</td><td>NA</td></tr>\n",
       "\t<tr><th scope=row>TTTGGTTCACGAGAGT-1_12</th><td>C152</td><td> 6063</td><td>2097</td><td>3.282204</td><td>0 </td><td>0 </td><td>NA</td><td>NA</td><td>NA</td><td>NA</td><td>NA</td><td>NA</td></tr>\n",
       "\t<tr><th scope=row>TTTGGTTCACTATCTT-1_12</th><td>C152</td><td> 7536</td><td>2640</td><td>5.055732</td><td>14</td><td>14</td><td>NA</td><td>NA</td><td>NA</td><td>NA</td><td>NA</td><td>NA</td></tr>\n",
       "\t<tr><th scope=row>TTTGGTTCATCGGGTC-1_12</th><td>C152</td><td> 4104</td><td>1450</td><td>7.090643</td><td>0 </td><td>0 </td><td>NA</td><td>NA</td><td>NA</td><td>NA</td><td>NA</td><td>NA</td></tr>\n",
       "\t<tr><th scope=row>TTTGGTTGTCTCTCTG-1_12</th><td>C152</td><td> 3916</td><td>1451</td><td>8.401430</td><td>0 </td><td>0 </td><td>NA</td><td>NA</td><td>NA</td><td>NA</td><td>NA</td><td>NA</td></tr>\n",
       "\t<tr><th scope=row>TTTGGTTTCAAACCAC-1_12</th><td>C152</td><td>19312</td><td>3783</td><td>5.944490</td><td>15</td><td>15</td><td>NA</td><td>NA</td><td>NA</td><td>NA</td><td>NA</td><td>NA</td></tr>\n",
       "\t<tr><th scope=row>TTTGGTTTCGCTTGTC-1_12</th><td>C152</td><td> 1116</td><td> 641</td><td>8.602151</td><td>1 </td><td>1 </td><td>NA</td><td>NA</td><td>NA</td><td>NA</td><td>NA</td><td>NA</td></tr>\n",
       "\t<tr><th scope=row>TTTGTCAAGAAACGCC-1_12</th><td>C152</td><td>12869</td><td>3507</td><td>3.178180</td><td>14</td><td>14</td><td>NA</td><td>NA</td><td>NA</td><td>NA</td><td>NA</td><td>NA</td></tr>\n",
       "\t<tr><th scope=row>TTTGTCACAACACCCG-1_12</th><td>C152</td><td> 1347</td><td> 556</td><td>8.685969</td><td>19</td><td>19</td><td>NA</td><td>NA</td><td>NA</td><td>NA</td><td>NA</td><td>NA</td></tr>\n",
       "\t<tr><th scope=row>TTTGTCAGTCTGCAAT-1_12</th><td>C152</td><td>21274</td><td>3373</td><td>4.474946</td><td>19</td><td>19</td><td>NA</td><td>NA</td><td>NA</td><td>NA</td><td>NA</td><td>NA</td></tr>\n",
       "\t<tr><th scope=row>TTTGTCAGTGTTGGGA-1_12</th><td>C152</td><td> 4301</td><td>1705</td><td>6.254359</td><td>5 </td><td>5 </td><td>NA</td><td>NA</td><td>NA</td><td>NA</td><td>NA</td><td>NA</td></tr>\n",
       "</tbody>\n",
       "</table>\n"
      ],
      "text/latex": [
       "A data.frame: 63734 × 12\n",
       "\\begin{tabular}{r|llllllllllll}\n",
       "  & orig.ident & nCount\\_RNA & nFeature\\_RNA & percent.mito & integrated\\_snn\\_res.1.2 & seurat\\_clusters & sample\\_new & group & disease & hasnCoV & cluster & celltype\\\\\n",
       "  & <chr> & <dbl> & <int> & <dbl> & <fct> & <fct> & <chr> & <chr> & <chr> & <chr> & <int> & <chr>\\\\\n",
       "\\hline\n",
       "\tAAACCTGAGACACTAA-1\\_1 & C51 &  5228 & 1635 & 1.5493497 & 2  & 2  & HC1 & HC & N & N &  3 & Macrophages\\\\\n",
       "\tAAACCTGAGGAGTACC-1\\_1 & C51 &  5071 & 1385 & 1.7945178 & 12 & 12 & HC1 & HC & N & N &  3 & Macrophages\\\\\n",
       "\tAAACCTGAGGATATAC-1\\_1 & C51 &  5531 & 1729 & 1.6271922 & 2  & 2  & HC1 & HC & N & N &  3 & Macrophages\\\\\n",
       "\tAAACCTGAGGTCATCT-1\\_1 & C51 &  5630 & 1639 & 1.9538188 & 2  & 2  & HC1 & HC & N & N &  3 & Macrophages\\\\\n",
       "\tAAACCTGCACGGATAG-1\\_1 & C51 &  7358 & 1722 & 2.7724925 & 6  & 6  & HC1 & HC & N & N &  5 & Macrophages\\\\\n",
       "\tAAACCTGCAGGGAGAG-1\\_1 & C51 &  4615 & 1312 & 1.4734561 & 2  & 2  & HC1 & HC & N & N &  2 & Macrophages\\\\\n",
       "\tAAACCTGGTCTAAACC-1\\_1 & C51 &  4260 & 1307 & 2.4647887 & 4  & 4  & HC1 & HC & N & N &  8 & Macrophages\\\\\n",
       "\tAAACCTGGTGCACCAC-1\\_1 & C51 & 10112 & 2211 & 1.5031646 & 13 & 13 & HC1 & HC & N & N &  5 & Macrophages\\\\\n",
       "\tAAACCTGGTTACGCGC-1\\_1 & C51 &  6748 & 1859 & 1.8079431 & 13 & 13 & HC1 & HC & N & N &  5 & Macrophages\\\\\n",
       "\tAAACCTGTCCGCATCT-1\\_1 & C51 &  6713 & 1835 & 2.2195740 & 13 & 13 & HC1 & HC & N & N &  5 & Macrophages\\\\\n",
       "\tAAACGGGAGCTACCTA-1\\_1 & C51 &  4148 & 1385 & 1.4705882 & 2  & 2  & HC1 & HC & N & N &  3 & Macrophages\\\\\n",
       "\tAAACGGGAGGAATTAC-1\\_1 & C51 &  5470 & 1673 & 2.4314442 & 18 & 18 & HC1 & HC & N & N & 18 & Macrophages\\\\\n",
       "\tAAACGGGAGGACCACA-1\\_1 & C51 &  8344 & 1843 & 1.6179291 & 6  & 6  & HC1 & HC & N & N &  4 & Macrophages\\\\\n",
       "\tAAACGGGAGGCAAAGA-1\\_1 & C51 &  3075 &  975 & 1.6585366 & 0  & 0  & HC1 & HC & N & N &  1 & Macrophages\\\\\n",
       "\tAAACGGGAGTCGTTTG-1\\_1 & C51 &  5684 & 1565 & 1.8472906 & 6  & 6  & HC1 & HC & N & N &  5 & Macrophages\\\\\n",
       "\tAAACGGGCAAGGACTG-1\\_1 & C51 &  7632 & 1994 & 1.0089099 & 2  & 2  & HC1 & HC & N & N &  3 & Macrophages\\\\\n",
       "\tAAACGGGCACCGAAAG-1\\_1 & C51 &  4865 & 1509 & 2.0143885 & 2  & 2  & HC1 & HC & N & N &  3 & Macrophages\\\\\n",
       "\tAAACGGGCAGCCAATT-1\\_1 & C51 &  2381 &  747 & 1.3859723 & 23 & 23 & HC1 & HC & N & N & 20 & mDC        \\\\\n",
       "\tAAACGGGCATCCGTGG-1\\_1 & C51 &  6668 & 1795 & 1.7396521 & 6  & 6  & HC1 & HC & N & N &  2 & Macrophages\\\\\n",
       "\tAAACGGGCATGCCTTC-1\\_1 & C51 &  5409 & 1657 & 2.1445739 & 2  & 2  & HC1 & HC & N & N &  3 & Macrophages\\\\\n",
       "\tAAACGGGGTACATGTC-1\\_1 & C51 &  6898 & 1786 & 2.0585677 & 6  & 6  & HC1 & HC & N & N &  5 & Macrophages\\\\\n",
       "\tAAACGGGGTCCATGAT-1\\_1 & C51 &  5033 & 1391 & 2.1855752 & 4  & 4  & HC1 & HC & N & N &  8 & Macrophages\\\\\n",
       "\tAAACGGGGTCTCTCTG-1\\_1 & C51 &  2255 &  893 & 1.9955654 & 23 & 23 & HC1 & HC & N & N & 20 & mDC        \\\\\n",
       "\tAAACGGGGTGCGAAAC-1\\_1 & C51 &  8487 & 2190 & 2.0030635 & 3  & 3  & HC1 & HC & N & N &  4 & Macrophages\\\\\n",
       "\tAAACGGGGTTCTGAAC-1\\_1 & C51 &  2984 &  942 & 2.9490617 & 4  & 4  & HC1 & HC & N & N &  8 & Macrophages\\\\\n",
       "\tAAACGGGTCCAAACTG-1\\_1 & C51 &  4558 & 1264 & 1.9087319 & 3  & 3  & HC1 & HC & N & N &  4 & Macrophages\\\\\n",
       "\tAAACGGGTCCTTTACA-1\\_1 & C51 &  1245 &  617 & 0.4819277 & 16 & 16 & HC1 & HC & N & N & 21 & Macrophages\\\\\n",
       "\tAAACGGGTCGCAAACT-1\\_1 & C51 &  7031 & 1609 & 2.3609728 & 13 & 13 & HC1 & HC & N & N &  5 & Macrophages\\\\\n",
       "\tAAAGATGAGACAGAGA-1\\_1 & C51 &  3392 & 1138 & 1.4150943 & 2  & 2  & HC1 & HC & N & N &  3 & Macrophages\\\\\n",
       "\tAAAGATGAGAGGTTAT-1\\_1 & C51 &  4839 & 1512 & 2.7071709 & 6  & 6  & HC1 & HC & N & N &  5 & Macrophages\\\\\n",
       "\t⋮ & ⋮ & ⋮ & ⋮ & ⋮ & ⋮ & ⋮ & ⋮ & ⋮ & ⋮ & ⋮ & ⋮ & ⋮\\\\\n",
       "\tTTTATGCGTCGACTGC-1\\_12 & C152 &  2300 &  537 & 7.304348 & 19 & 19 & NA & NA & NA & NA & NA & NA\\\\\n",
       "\tTTTATGCGTTAAGATG-1\\_12 & C152 & 23879 & 4186 & 7.110851 & 15 & 15 & NA & NA & NA & NA & NA & NA\\\\\n",
       "\tTTTATGCTCGCACTCT-1\\_12 & C152 &  1649 &  618 & 6.549424 & 19 & 19 & NA & NA & NA & NA & NA & NA\\\\\n",
       "\tTTTCCTCAGAGACTTA-1\\_12 & C152 &  4028 & 1769 & 3.301887 & 10 & 10 & NA & NA & NA & NA & NA & NA\\\\\n",
       "\tTTTCCTCAGATCTGAA-1\\_12 & C152 &  1354 &  660 & 6.129985 & 0  & 0  & NA & NA & NA & NA & NA & NA\\\\\n",
       "\tTTTCCTCAGGATGGAA-1\\_12 & C152 &  2706 & 1062 & 5.284553 & 0  & 0  & NA & NA & NA & NA & NA & NA\\\\\n",
       "\tTTTCCTCCAAGTCATC-1\\_12 & C152 &  1909 &  933 & 8.328968 & 15 & 15 & NA & NA & NA & NA & NA & NA\\\\\n",
       "\tTTTCCTCCAGCTCCGA-1\\_12 & C152 &  6612 & 2491 & 5.051422 & 14 & 14 & NA & NA & NA & NA & NA & NA\\\\\n",
       "\tTTTCCTCCAGGTCTCG-1\\_12 & C152 &  1951 &  834 & 7.124552 & 14 & 14 & NA & NA & NA & NA & NA & NA\\\\\n",
       "\tTTTCCTCGTTAAGATG-1\\_12 & C152 &  1174 &  494 & 3.662692 & 19 & 19 & NA & NA & NA & NA & NA & NA\\\\\n",
       "\tTTTCCTCTCTTGTTTG-1\\_12 & C152 &  4034 & 1400 & 9.791770 & 5  & 5  & NA & NA & NA & NA & NA & NA\\\\\n",
       "\tTTTGCGCAGACTACAA-1\\_12 & C152 & 22478 & 4601 & 5.222885 & 5  & 5  & NA & NA & NA & NA & NA & NA\\\\\n",
       "\tTTTGCGCAGGGTGTGT-1\\_12 & C152 &  8040 & 2804 & 9.875622 & 21 & 21 & NA & NA & NA & NA & NA & NA\\\\\n",
       "\tTTTGCGCGTCGGCATC-1\\_12 & C152 & 21713 & 3566 & 2.574495 & 19 & 19 & NA & NA & NA & NA & NA & NA\\\\\n",
       "\tTTTGCGCTCCAGGGCT-1\\_12 & C152 &  1624 &  510 & 9.236453 & 19 & 19 & NA & NA & NA & NA & NA & NA\\\\\n",
       "\tTTTGCGCTCTAACCGA-1\\_12 & C152 &  4789 & 1978 & 2.276049 & 10 & 10 & NA & NA & NA & NA & NA & NA\\\\\n",
       "\tTTTGCGCTCTGCTTGC-1\\_12 & C152 &  1567 &  846 & 9.700064 & 14 & 14 & NA & NA & NA & NA & NA & NA\\\\\n",
       "\tTTTGGTTAGATCCCGC-1\\_12 & C152 & 11612 & 2679 & 2.239063 & 4  & 4  & NA & NA & NA & NA & NA & NA\\\\\n",
       "\tTTTGGTTAGCACCGTC-1\\_12 & C152 &  2591 & 1160 & 5.017368 & 0  & 0  & NA & NA & NA & NA & NA & NA\\\\\n",
       "\tTTTGGTTAGTCTCCTC-1\\_12 & C152 &  1878 &  923 & 5.857295 & 0  & 0  & NA & NA & NA & NA & NA & NA\\\\\n",
       "\tTTTGGTTCACGAGAGT-1\\_12 & C152 &  6063 & 2097 & 3.282204 & 0  & 0  & NA & NA & NA & NA & NA & NA\\\\\n",
       "\tTTTGGTTCACTATCTT-1\\_12 & C152 &  7536 & 2640 & 5.055732 & 14 & 14 & NA & NA & NA & NA & NA & NA\\\\\n",
       "\tTTTGGTTCATCGGGTC-1\\_12 & C152 &  4104 & 1450 & 7.090643 & 0  & 0  & NA & NA & NA & NA & NA & NA\\\\\n",
       "\tTTTGGTTGTCTCTCTG-1\\_12 & C152 &  3916 & 1451 & 8.401430 & 0  & 0  & NA & NA & NA & NA & NA & NA\\\\\n",
       "\tTTTGGTTTCAAACCAC-1\\_12 & C152 & 19312 & 3783 & 5.944490 & 15 & 15 & NA & NA & NA & NA & NA & NA\\\\\n",
       "\tTTTGGTTTCGCTTGTC-1\\_12 & C152 &  1116 &  641 & 8.602151 & 1  & 1  & NA & NA & NA & NA & NA & NA\\\\\n",
       "\tTTTGTCAAGAAACGCC-1\\_12 & C152 & 12869 & 3507 & 3.178180 & 14 & 14 & NA & NA & NA & NA & NA & NA\\\\\n",
       "\tTTTGTCACAACACCCG-1\\_12 & C152 &  1347 &  556 & 8.685969 & 19 & 19 & NA & NA & NA & NA & NA & NA\\\\\n",
       "\tTTTGTCAGTCTGCAAT-1\\_12 & C152 & 21274 & 3373 & 4.474946 & 19 & 19 & NA & NA & NA & NA & NA & NA\\\\\n",
       "\tTTTGTCAGTGTTGGGA-1\\_12 & C152 &  4301 & 1705 & 6.254359 & 5  & 5  & NA & NA & NA & NA & NA & NA\\\\\n",
       "\\end{tabular}\n"
      ],
      "text/markdown": [
       "\n",
       "A data.frame: 63734 × 12\n",
       "\n",
       "| <!--/--> | orig.ident &lt;chr&gt; | nCount_RNA &lt;dbl&gt; | nFeature_RNA &lt;int&gt; | percent.mito &lt;dbl&gt; | integrated_snn_res.1.2 &lt;fct&gt; | seurat_clusters &lt;fct&gt; | sample_new &lt;chr&gt; | group &lt;chr&gt; | disease &lt;chr&gt; | hasnCoV &lt;chr&gt; | cluster &lt;int&gt; | celltype &lt;chr&gt; |\n",
       "|---|---|---|---|---|---|---|---|---|---|---|---|---|\n",
       "| AAACCTGAGACACTAA-1_1 | C51 |  5228 | 1635 | 1.5493497 | 2  | 2  | HC1 | HC | N | N |  3 | Macrophages |\n",
       "| AAACCTGAGGAGTACC-1_1 | C51 |  5071 | 1385 | 1.7945178 | 12 | 12 | HC1 | HC | N | N |  3 | Macrophages |\n",
       "| AAACCTGAGGATATAC-1_1 | C51 |  5531 | 1729 | 1.6271922 | 2  | 2  | HC1 | HC | N | N |  3 | Macrophages |\n",
       "| AAACCTGAGGTCATCT-1_1 | C51 |  5630 | 1639 | 1.9538188 | 2  | 2  | HC1 | HC | N | N |  3 | Macrophages |\n",
       "| AAACCTGCACGGATAG-1_1 | C51 |  7358 | 1722 | 2.7724925 | 6  | 6  | HC1 | HC | N | N |  5 | Macrophages |\n",
       "| AAACCTGCAGGGAGAG-1_1 | C51 |  4615 | 1312 | 1.4734561 | 2  | 2  | HC1 | HC | N | N |  2 | Macrophages |\n",
       "| AAACCTGGTCTAAACC-1_1 | C51 |  4260 | 1307 | 2.4647887 | 4  | 4  | HC1 | HC | N | N |  8 | Macrophages |\n",
       "| AAACCTGGTGCACCAC-1_1 | C51 | 10112 | 2211 | 1.5031646 | 13 | 13 | HC1 | HC | N | N |  5 | Macrophages |\n",
       "| AAACCTGGTTACGCGC-1_1 | C51 |  6748 | 1859 | 1.8079431 | 13 | 13 | HC1 | HC | N | N |  5 | Macrophages |\n",
       "| AAACCTGTCCGCATCT-1_1 | C51 |  6713 | 1835 | 2.2195740 | 13 | 13 | HC1 | HC | N | N |  5 | Macrophages |\n",
       "| AAACGGGAGCTACCTA-1_1 | C51 |  4148 | 1385 | 1.4705882 | 2  | 2  | HC1 | HC | N | N |  3 | Macrophages |\n",
       "| AAACGGGAGGAATTAC-1_1 | C51 |  5470 | 1673 | 2.4314442 | 18 | 18 | HC1 | HC | N | N | 18 | Macrophages |\n",
       "| AAACGGGAGGACCACA-1_1 | C51 |  8344 | 1843 | 1.6179291 | 6  | 6  | HC1 | HC | N | N |  4 | Macrophages |\n",
       "| AAACGGGAGGCAAAGA-1_1 | C51 |  3075 |  975 | 1.6585366 | 0  | 0  | HC1 | HC | N | N |  1 | Macrophages |\n",
       "| AAACGGGAGTCGTTTG-1_1 | C51 |  5684 | 1565 | 1.8472906 | 6  | 6  | HC1 | HC | N | N |  5 | Macrophages |\n",
       "| AAACGGGCAAGGACTG-1_1 | C51 |  7632 | 1994 | 1.0089099 | 2  | 2  | HC1 | HC | N | N |  3 | Macrophages |\n",
       "| AAACGGGCACCGAAAG-1_1 | C51 |  4865 | 1509 | 2.0143885 | 2  | 2  | HC1 | HC | N | N |  3 | Macrophages |\n",
       "| AAACGGGCAGCCAATT-1_1 | C51 |  2381 |  747 | 1.3859723 | 23 | 23 | HC1 | HC | N | N | 20 | mDC         |\n",
       "| AAACGGGCATCCGTGG-1_1 | C51 |  6668 | 1795 | 1.7396521 | 6  | 6  | HC1 | HC | N | N |  2 | Macrophages |\n",
       "| AAACGGGCATGCCTTC-1_1 | C51 |  5409 | 1657 | 2.1445739 | 2  | 2  | HC1 | HC | N | N |  3 | Macrophages |\n",
       "| AAACGGGGTACATGTC-1_1 | C51 |  6898 | 1786 | 2.0585677 | 6  | 6  | HC1 | HC | N | N |  5 | Macrophages |\n",
       "| AAACGGGGTCCATGAT-1_1 | C51 |  5033 | 1391 | 2.1855752 | 4  | 4  | HC1 | HC | N | N |  8 | Macrophages |\n",
       "| AAACGGGGTCTCTCTG-1_1 | C51 |  2255 |  893 | 1.9955654 | 23 | 23 | HC1 | HC | N | N | 20 | mDC         |\n",
       "| AAACGGGGTGCGAAAC-1_1 | C51 |  8487 | 2190 | 2.0030635 | 3  | 3  | HC1 | HC | N | N |  4 | Macrophages |\n",
       "| AAACGGGGTTCTGAAC-1_1 | C51 |  2984 |  942 | 2.9490617 | 4  | 4  | HC1 | HC | N | N |  8 | Macrophages |\n",
       "| AAACGGGTCCAAACTG-1_1 | C51 |  4558 | 1264 | 1.9087319 | 3  | 3  | HC1 | HC | N | N |  4 | Macrophages |\n",
       "| AAACGGGTCCTTTACA-1_1 | C51 |  1245 |  617 | 0.4819277 | 16 | 16 | HC1 | HC | N | N | 21 | Macrophages |\n",
       "| AAACGGGTCGCAAACT-1_1 | C51 |  7031 | 1609 | 2.3609728 | 13 | 13 | HC1 | HC | N | N |  5 | Macrophages |\n",
       "| AAAGATGAGACAGAGA-1_1 | C51 |  3392 | 1138 | 1.4150943 | 2  | 2  | HC1 | HC | N | N |  3 | Macrophages |\n",
       "| AAAGATGAGAGGTTAT-1_1 | C51 |  4839 | 1512 | 2.7071709 | 6  | 6  | HC1 | HC | N | N |  5 | Macrophages |\n",
       "| ⋮ | ⋮ | ⋮ | ⋮ | ⋮ | ⋮ | ⋮ | ⋮ | ⋮ | ⋮ | ⋮ | ⋮ | ⋮ |\n",
       "| TTTATGCGTCGACTGC-1_12 | C152 |  2300 |  537 | 7.304348 | 19 | 19 | NA | NA | NA | NA | NA | NA |\n",
       "| TTTATGCGTTAAGATG-1_12 | C152 | 23879 | 4186 | 7.110851 | 15 | 15 | NA | NA | NA | NA | NA | NA |\n",
       "| TTTATGCTCGCACTCT-1_12 | C152 |  1649 |  618 | 6.549424 | 19 | 19 | NA | NA | NA | NA | NA | NA |\n",
       "| TTTCCTCAGAGACTTA-1_12 | C152 |  4028 | 1769 | 3.301887 | 10 | 10 | NA | NA | NA | NA | NA | NA |\n",
       "| TTTCCTCAGATCTGAA-1_12 | C152 |  1354 |  660 | 6.129985 | 0  | 0  | NA | NA | NA | NA | NA | NA |\n",
       "| TTTCCTCAGGATGGAA-1_12 | C152 |  2706 | 1062 | 5.284553 | 0  | 0  | NA | NA | NA | NA | NA | NA |\n",
       "| TTTCCTCCAAGTCATC-1_12 | C152 |  1909 |  933 | 8.328968 | 15 | 15 | NA | NA | NA | NA | NA | NA |\n",
       "| TTTCCTCCAGCTCCGA-1_12 | C152 |  6612 | 2491 | 5.051422 | 14 | 14 | NA | NA | NA | NA | NA | NA |\n",
       "| TTTCCTCCAGGTCTCG-1_12 | C152 |  1951 |  834 | 7.124552 | 14 | 14 | NA | NA | NA | NA | NA | NA |\n",
       "| TTTCCTCGTTAAGATG-1_12 | C152 |  1174 |  494 | 3.662692 | 19 | 19 | NA | NA | NA | NA | NA | NA |\n",
       "| TTTCCTCTCTTGTTTG-1_12 | C152 |  4034 | 1400 | 9.791770 | 5  | 5  | NA | NA | NA | NA | NA | NA |\n",
       "| TTTGCGCAGACTACAA-1_12 | C152 | 22478 | 4601 | 5.222885 | 5  | 5  | NA | NA | NA | NA | NA | NA |\n",
       "| TTTGCGCAGGGTGTGT-1_12 | C152 |  8040 | 2804 | 9.875622 | 21 | 21 | NA | NA | NA | NA | NA | NA |\n",
       "| TTTGCGCGTCGGCATC-1_12 | C152 | 21713 | 3566 | 2.574495 | 19 | 19 | NA | NA | NA | NA | NA | NA |\n",
       "| TTTGCGCTCCAGGGCT-1_12 | C152 |  1624 |  510 | 9.236453 | 19 | 19 | NA | NA | NA | NA | NA | NA |\n",
       "| TTTGCGCTCTAACCGA-1_12 | C152 |  4789 | 1978 | 2.276049 | 10 | 10 | NA | NA | NA | NA | NA | NA |\n",
       "| TTTGCGCTCTGCTTGC-1_12 | C152 |  1567 |  846 | 9.700064 | 14 | 14 | NA | NA | NA | NA | NA | NA |\n",
       "| TTTGGTTAGATCCCGC-1_12 | C152 | 11612 | 2679 | 2.239063 | 4  | 4  | NA | NA | NA | NA | NA | NA |\n",
       "| TTTGGTTAGCACCGTC-1_12 | C152 |  2591 | 1160 | 5.017368 | 0  | 0  | NA | NA | NA | NA | NA | NA |\n",
       "| TTTGGTTAGTCTCCTC-1_12 | C152 |  1878 |  923 | 5.857295 | 0  | 0  | NA | NA | NA | NA | NA | NA |\n",
       "| TTTGGTTCACGAGAGT-1_12 | C152 |  6063 | 2097 | 3.282204 | 0  | 0  | NA | NA | NA | NA | NA | NA |\n",
       "| TTTGGTTCACTATCTT-1_12 | C152 |  7536 | 2640 | 5.055732 | 14 | 14 | NA | NA | NA | NA | NA | NA |\n",
       "| TTTGGTTCATCGGGTC-1_12 | C152 |  4104 | 1450 | 7.090643 | 0  | 0  | NA | NA | NA | NA | NA | NA |\n",
       "| TTTGGTTGTCTCTCTG-1_12 | C152 |  3916 | 1451 | 8.401430 | 0  | 0  | NA | NA | NA | NA | NA | NA |\n",
       "| TTTGGTTTCAAACCAC-1_12 | C152 | 19312 | 3783 | 5.944490 | 15 | 15 | NA | NA | NA | NA | NA | NA |\n",
       "| TTTGGTTTCGCTTGTC-1_12 | C152 |  1116 |  641 | 8.602151 | 1  | 1  | NA | NA | NA | NA | NA | NA |\n",
       "| TTTGTCAAGAAACGCC-1_12 | C152 | 12869 | 3507 | 3.178180 | 14 | 14 | NA | NA | NA | NA | NA | NA |\n",
       "| TTTGTCACAACACCCG-1_12 | C152 |  1347 |  556 | 8.685969 | 19 | 19 | NA | NA | NA | NA | NA | NA |\n",
       "| TTTGTCAGTCTGCAAT-1_12 | C152 | 21274 | 3373 | 4.474946 | 19 | 19 | NA | NA | NA | NA | NA | NA |\n",
       "| TTTGTCAGTGTTGGGA-1_12 | C152 |  4301 | 1705 | 6.254359 | 5  | 5  | NA | NA | NA | NA | NA | NA |\n",
       "\n"
      ],
      "text/plain": [
       "                      orig.ident nCount_RNA nFeature_RNA percent.mito\n",
       "AAACCTGAGACACTAA-1_1  C51         5228      1635         1.5493497   \n",
       "AAACCTGAGGAGTACC-1_1  C51         5071      1385         1.7945178   \n",
       "AAACCTGAGGATATAC-1_1  C51         5531      1729         1.6271922   \n",
       "AAACCTGAGGTCATCT-1_1  C51         5630      1639         1.9538188   \n",
       "AAACCTGCACGGATAG-1_1  C51         7358      1722         2.7724925   \n",
       "AAACCTGCAGGGAGAG-1_1  C51         4615      1312         1.4734561   \n",
       "AAACCTGGTCTAAACC-1_1  C51         4260      1307         2.4647887   \n",
       "AAACCTGGTGCACCAC-1_1  C51        10112      2211         1.5031646   \n",
       "AAACCTGGTTACGCGC-1_1  C51         6748      1859         1.8079431   \n",
       "AAACCTGTCCGCATCT-1_1  C51         6713      1835         2.2195740   \n",
       "AAACGGGAGCTACCTA-1_1  C51         4148      1385         1.4705882   \n",
       "AAACGGGAGGAATTAC-1_1  C51         5470      1673         2.4314442   \n",
       "AAACGGGAGGACCACA-1_1  C51         8344      1843         1.6179291   \n",
       "AAACGGGAGGCAAAGA-1_1  C51         3075       975         1.6585366   \n",
       "AAACGGGAGTCGTTTG-1_1  C51         5684      1565         1.8472906   \n",
       "AAACGGGCAAGGACTG-1_1  C51         7632      1994         1.0089099   \n",
       "AAACGGGCACCGAAAG-1_1  C51         4865      1509         2.0143885   \n",
       "AAACGGGCAGCCAATT-1_1  C51         2381       747         1.3859723   \n",
       "AAACGGGCATCCGTGG-1_1  C51         6668      1795         1.7396521   \n",
       "AAACGGGCATGCCTTC-1_1  C51         5409      1657         2.1445739   \n",
       "AAACGGGGTACATGTC-1_1  C51         6898      1786         2.0585677   \n",
       "AAACGGGGTCCATGAT-1_1  C51         5033      1391         2.1855752   \n",
       "AAACGGGGTCTCTCTG-1_1  C51         2255       893         1.9955654   \n",
       "AAACGGGGTGCGAAAC-1_1  C51         8487      2190         2.0030635   \n",
       "AAACGGGGTTCTGAAC-1_1  C51         2984       942         2.9490617   \n",
       "AAACGGGTCCAAACTG-1_1  C51         4558      1264         1.9087319   \n",
       "AAACGGGTCCTTTACA-1_1  C51         1245       617         0.4819277   \n",
       "AAACGGGTCGCAAACT-1_1  C51         7031      1609         2.3609728   \n",
       "AAAGATGAGACAGAGA-1_1  C51         3392      1138         1.4150943   \n",
       "AAAGATGAGAGGTTAT-1_1  C51         4839      1512         2.7071709   \n",
       "⋮                     ⋮          ⋮          ⋮            ⋮           \n",
       "TTTATGCGTCGACTGC-1_12 C152        2300       537         7.304348    \n",
       "TTTATGCGTTAAGATG-1_12 C152       23879      4186         7.110851    \n",
       "TTTATGCTCGCACTCT-1_12 C152        1649       618         6.549424    \n",
       "TTTCCTCAGAGACTTA-1_12 C152        4028      1769         3.301887    \n",
       "TTTCCTCAGATCTGAA-1_12 C152        1354       660         6.129985    \n",
       "TTTCCTCAGGATGGAA-1_12 C152        2706      1062         5.284553    \n",
       "TTTCCTCCAAGTCATC-1_12 C152        1909       933         8.328968    \n",
       "TTTCCTCCAGCTCCGA-1_12 C152        6612      2491         5.051422    \n",
       "TTTCCTCCAGGTCTCG-1_12 C152        1951       834         7.124552    \n",
       "TTTCCTCGTTAAGATG-1_12 C152        1174       494         3.662692    \n",
       "TTTCCTCTCTTGTTTG-1_12 C152        4034      1400         9.791770    \n",
       "TTTGCGCAGACTACAA-1_12 C152       22478      4601         5.222885    \n",
       "TTTGCGCAGGGTGTGT-1_12 C152        8040      2804         9.875622    \n",
       "TTTGCGCGTCGGCATC-1_12 C152       21713      3566         2.574495    \n",
       "TTTGCGCTCCAGGGCT-1_12 C152        1624       510         9.236453    \n",
       "TTTGCGCTCTAACCGA-1_12 C152        4789      1978         2.276049    \n",
       "TTTGCGCTCTGCTTGC-1_12 C152        1567       846         9.700064    \n",
       "TTTGGTTAGATCCCGC-1_12 C152       11612      2679         2.239063    \n",
       "TTTGGTTAGCACCGTC-1_12 C152        2591      1160         5.017368    \n",
       "TTTGGTTAGTCTCCTC-1_12 C152        1878       923         5.857295    \n",
       "TTTGGTTCACGAGAGT-1_12 C152        6063      2097         3.282204    \n",
       "TTTGGTTCACTATCTT-1_12 C152        7536      2640         5.055732    \n",
       "TTTGGTTCATCGGGTC-1_12 C152        4104      1450         7.090643    \n",
       "TTTGGTTGTCTCTCTG-1_12 C152        3916      1451         8.401430    \n",
       "TTTGGTTTCAAACCAC-1_12 C152       19312      3783         5.944490    \n",
       "TTTGGTTTCGCTTGTC-1_12 C152        1116       641         8.602151    \n",
       "TTTGTCAAGAAACGCC-1_12 C152       12869      3507         3.178180    \n",
       "TTTGTCACAACACCCG-1_12 C152        1347       556         8.685969    \n",
       "TTTGTCAGTCTGCAAT-1_12 C152       21274      3373         4.474946    \n",
       "TTTGTCAGTGTTGGGA-1_12 C152        4301      1705         6.254359    \n",
       "                      integrated_snn_res.1.2 seurat_clusters sample_new group\n",
       "AAACCTGAGACACTAA-1_1  2                      2               HC1        HC   \n",
       "AAACCTGAGGAGTACC-1_1  12                     12              HC1        HC   \n",
       "AAACCTGAGGATATAC-1_1  2                      2               HC1        HC   \n",
       "AAACCTGAGGTCATCT-1_1  2                      2               HC1        HC   \n",
       "AAACCTGCACGGATAG-1_1  6                      6               HC1        HC   \n",
       "AAACCTGCAGGGAGAG-1_1  2                      2               HC1        HC   \n",
       "AAACCTGGTCTAAACC-1_1  4                      4               HC1        HC   \n",
       "AAACCTGGTGCACCAC-1_1  13                     13              HC1        HC   \n",
       "AAACCTGGTTACGCGC-1_1  13                     13              HC1        HC   \n",
       "AAACCTGTCCGCATCT-1_1  13                     13              HC1        HC   \n",
       "AAACGGGAGCTACCTA-1_1  2                      2               HC1        HC   \n",
       "AAACGGGAGGAATTAC-1_1  18                     18              HC1        HC   \n",
       "AAACGGGAGGACCACA-1_1  6                      6               HC1        HC   \n",
       "AAACGGGAGGCAAAGA-1_1  0                      0               HC1        HC   \n",
       "AAACGGGAGTCGTTTG-1_1  6                      6               HC1        HC   \n",
       "AAACGGGCAAGGACTG-1_1  2                      2               HC1        HC   \n",
       "AAACGGGCACCGAAAG-1_1  2                      2               HC1        HC   \n",
       "AAACGGGCAGCCAATT-1_1  23                     23              HC1        HC   \n",
       "AAACGGGCATCCGTGG-1_1  6                      6               HC1        HC   \n",
       "AAACGGGCATGCCTTC-1_1  2                      2               HC1        HC   \n",
       "AAACGGGGTACATGTC-1_1  6                      6               HC1        HC   \n",
       "AAACGGGGTCCATGAT-1_1  4                      4               HC1        HC   \n",
       "AAACGGGGTCTCTCTG-1_1  23                     23              HC1        HC   \n",
       "AAACGGGGTGCGAAAC-1_1  3                      3               HC1        HC   \n",
       "AAACGGGGTTCTGAAC-1_1  4                      4               HC1        HC   \n",
       "AAACGGGTCCAAACTG-1_1  3                      3               HC1        HC   \n",
       "AAACGGGTCCTTTACA-1_1  16                     16              HC1        HC   \n",
       "AAACGGGTCGCAAACT-1_1  13                     13              HC1        HC   \n",
       "AAAGATGAGACAGAGA-1_1  2                      2               HC1        HC   \n",
       "AAAGATGAGAGGTTAT-1_1  6                      6               HC1        HC   \n",
       "⋮                     ⋮                      ⋮               ⋮          ⋮    \n",
       "TTTATGCGTCGACTGC-1_12 19                     19              NA         NA   \n",
       "TTTATGCGTTAAGATG-1_12 15                     15              NA         NA   \n",
       "TTTATGCTCGCACTCT-1_12 19                     19              NA         NA   \n",
       "TTTCCTCAGAGACTTA-1_12 10                     10              NA         NA   \n",
       "TTTCCTCAGATCTGAA-1_12 0                      0               NA         NA   \n",
       "TTTCCTCAGGATGGAA-1_12 0                      0               NA         NA   \n",
       "TTTCCTCCAAGTCATC-1_12 15                     15              NA         NA   \n",
       "TTTCCTCCAGCTCCGA-1_12 14                     14              NA         NA   \n",
       "TTTCCTCCAGGTCTCG-1_12 14                     14              NA         NA   \n",
       "TTTCCTCGTTAAGATG-1_12 19                     19              NA         NA   \n",
       "TTTCCTCTCTTGTTTG-1_12 5                      5               NA         NA   \n",
       "TTTGCGCAGACTACAA-1_12 5                      5               NA         NA   \n",
       "TTTGCGCAGGGTGTGT-1_12 21                     21              NA         NA   \n",
       "TTTGCGCGTCGGCATC-1_12 19                     19              NA         NA   \n",
       "TTTGCGCTCCAGGGCT-1_12 19                     19              NA         NA   \n",
       "TTTGCGCTCTAACCGA-1_12 10                     10              NA         NA   \n",
       "TTTGCGCTCTGCTTGC-1_12 14                     14              NA         NA   \n",
       "TTTGGTTAGATCCCGC-1_12 4                      4               NA         NA   \n",
       "TTTGGTTAGCACCGTC-1_12 0                      0               NA         NA   \n",
       "TTTGGTTAGTCTCCTC-1_12 0                      0               NA         NA   \n",
       "TTTGGTTCACGAGAGT-1_12 0                      0               NA         NA   \n",
       "TTTGGTTCACTATCTT-1_12 14                     14              NA         NA   \n",
       "TTTGGTTCATCGGGTC-1_12 0                      0               NA         NA   \n",
       "TTTGGTTGTCTCTCTG-1_12 0                      0               NA         NA   \n",
       "TTTGGTTTCAAACCAC-1_12 15                     15              NA         NA   \n",
       "TTTGGTTTCGCTTGTC-1_12 1                      1               NA         NA   \n",
       "TTTGTCAAGAAACGCC-1_12 14                     14              NA         NA   \n",
       "TTTGTCACAACACCCG-1_12 19                     19              NA         NA   \n",
       "TTTGTCAGTCTGCAAT-1_12 19                     19              NA         NA   \n",
       "TTTGTCAGTGTTGGGA-1_12 5                      5               NA         NA   \n",
       "                      disease hasnCoV cluster celltype   \n",
       "AAACCTGAGACACTAA-1_1  N       N        3      Macrophages\n",
       "AAACCTGAGGAGTACC-1_1  N       N        3      Macrophages\n",
       "AAACCTGAGGATATAC-1_1  N       N        3      Macrophages\n",
       "AAACCTGAGGTCATCT-1_1  N       N        3      Macrophages\n",
       "AAACCTGCACGGATAG-1_1  N       N        5      Macrophages\n",
       "AAACCTGCAGGGAGAG-1_1  N       N        2      Macrophages\n",
       "AAACCTGGTCTAAACC-1_1  N       N        8      Macrophages\n",
       "AAACCTGGTGCACCAC-1_1  N       N        5      Macrophages\n",
       "AAACCTGGTTACGCGC-1_1  N       N        5      Macrophages\n",
       "AAACCTGTCCGCATCT-1_1  N       N        5      Macrophages\n",
       "AAACGGGAGCTACCTA-1_1  N       N        3      Macrophages\n",
       "AAACGGGAGGAATTAC-1_1  N       N       18      Macrophages\n",
       "AAACGGGAGGACCACA-1_1  N       N        4      Macrophages\n",
       "AAACGGGAGGCAAAGA-1_1  N       N        1      Macrophages\n",
       "AAACGGGAGTCGTTTG-1_1  N       N        5      Macrophages\n",
       "AAACGGGCAAGGACTG-1_1  N       N        3      Macrophages\n",
       "AAACGGGCACCGAAAG-1_1  N       N        3      Macrophages\n",
       "AAACGGGCAGCCAATT-1_1  N       N       20      mDC        \n",
       "AAACGGGCATCCGTGG-1_1  N       N        2      Macrophages\n",
       "AAACGGGCATGCCTTC-1_1  N       N        3      Macrophages\n",
       "AAACGGGGTACATGTC-1_1  N       N        5      Macrophages\n",
       "AAACGGGGTCCATGAT-1_1  N       N        8      Macrophages\n",
       "AAACGGGGTCTCTCTG-1_1  N       N       20      mDC        \n",
       "AAACGGGGTGCGAAAC-1_1  N       N        4      Macrophages\n",
       "AAACGGGGTTCTGAAC-1_1  N       N        8      Macrophages\n",
       "AAACGGGTCCAAACTG-1_1  N       N        4      Macrophages\n",
       "AAACGGGTCCTTTACA-1_1  N       N       21      Macrophages\n",
       "AAACGGGTCGCAAACT-1_1  N       N        5      Macrophages\n",
       "AAAGATGAGACAGAGA-1_1  N       N        3      Macrophages\n",
       "AAAGATGAGAGGTTAT-1_1  N       N        5      Macrophages\n",
       "⋮                     ⋮       ⋮       ⋮       ⋮          \n",
       "TTTATGCGTCGACTGC-1_12 NA      NA      NA      NA         \n",
       "TTTATGCGTTAAGATG-1_12 NA      NA      NA      NA         \n",
       "TTTATGCTCGCACTCT-1_12 NA      NA      NA      NA         \n",
       "TTTCCTCAGAGACTTA-1_12 NA      NA      NA      NA         \n",
       "TTTCCTCAGATCTGAA-1_12 NA      NA      NA      NA         \n",
       "TTTCCTCAGGATGGAA-1_12 NA      NA      NA      NA         \n",
       "TTTCCTCCAAGTCATC-1_12 NA      NA      NA      NA         \n",
       "TTTCCTCCAGCTCCGA-1_12 NA      NA      NA      NA         \n",
       "TTTCCTCCAGGTCTCG-1_12 NA      NA      NA      NA         \n",
       "TTTCCTCGTTAAGATG-1_12 NA      NA      NA      NA         \n",
       "TTTCCTCTCTTGTTTG-1_12 NA      NA      NA      NA         \n",
       "TTTGCGCAGACTACAA-1_12 NA      NA      NA      NA         \n",
       "TTTGCGCAGGGTGTGT-1_12 NA      NA      NA      NA         \n",
       "TTTGCGCGTCGGCATC-1_12 NA      NA      NA      NA         \n",
       "TTTGCGCTCCAGGGCT-1_12 NA      NA      NA      NA         \n",
       "TTTGCGCTCTAACCGA-1_12 NA      NA      NA      NA         \n",
       "TTTGCGCTCTGCTTGC-1_12 NA      NA      NA      NA         \n",
       "TTTGGTTAGATCCCGC-1_12 NA      NA      NA      NA         \n",
       "TTTGGTTAGCACCGTC-1_12 NA      NA      NA      NA         \n",
       "TTTGGTTAGTCTCCTC-1_12 NA      NA      NA      NA         \n",
       "TTTGGTTCACGAGAGT-1_12 NA      NA      NA      NA         \n",
       "TTTGGTTCACTATCTT-1_12 NA      NA      NA      NA         \n",
       "TTTGGTTCATCGGGTC-1_12 NA      NA      NA      NA         \n",
       "TTTGGTTGTCTCTCTG-1_12 NA      NA      NA      NA         \n",
       "TTTGGTTTCAAACCAC-1_12 NA      NA      NA      NA         \n",
       "TTTGGTTTCGCTTGTC-1_12 NA      NA      NA      NA         \n",
       "TTTGTCAAGAAACGCC-1_12 NA      NA      NA      NA         \n",
       "TTTGTCACAACACCCG-1_12 NA      NA      NA      NA         \n",
       "TTTGTCAGTCTGCAAT-1_12 NA      NA      NA      NA         \n",
       "TTTGTCAGTGTTGGGA-1_12 NA      NA      NA      NA         "
      ]
     },
     "metadata": {},
     "output_type": "display_data"
    }
   ],
   "source": [
    "good"
   ]
  },
  {
   "cell_type": "code",
   "execution_count": 53,
   "id": "231ae69d-c715-4902-b0fa-544cbe25def1",
   "metadata": {},
   "outputs": [],
   "source": [
    "good$cluster <- NULL\n",
    "good$ID <- rownames(good)"
   ]
  },
  {
   "cell_type": "code",
   "execution_count": 54,
   "id": "bffccf4c-e951-410d-ab44-85cfe2ecec3e",
   "metadata": {},
   "outputs": [],
   "source": [
    "good <- good %>%\n",
    "    dplyr::group_by(orig.ident) %>%\n",
    "    fill(c('sample_new', 'group', 'disease', 'hasnCoV'),\n",
    "        .direction = 'downup') %>%\n",
    "    dplyr::ungroup()"
   ]
  },
  {
   "cell_type": "code",
   "execution_count": 56,
   "id": "238c4947-7d40-4955-9f72-d839f36e849f",
   "metadata": {},
   "outputs": [],
   "source": [
    "good <- data.frame(good)"
   ]
  },
  {
   "cell_type": "code",
   "execution_count": 57,
   "id": "17708008-87f1-46b6-b162-cb2411936837",
   "metadata": {},
   "outputs": [],
   "source": [
    "rownames(good) <- good$ID"
   ]
  },
  {
   "cell_type": "code",
   "execution_count": 29,
   "id": "38514ea1-ed9f-4b69-aa22-7e80266fc361",
   "metadata": {},
   "outputs": [
    {
     "data": {
      "text/html": [
       "<table class=\"dataframe\">\n",
       "<caption>A data.frame: 63734 × 11</caption>\n",
       "<thead>\n",
       "\t<tr><th scope=col>orig.ident</th><th scope=col>nCount_RNA</th><th scope=col>nFeature_RNA</th><th scope=col>percent.mito</th><th scope=col>integrated_snn_res.1.2</th><th scope=col>seurat_clusters</th><th scope=col>sample_new</th><th scope=col>group</th><th scope=col>disease</th><th scope=col>hasnCoV</th><th scope=col>celltype</th></tr>\n",
       "\t<tr><th scope=col>&lt;chr&gt;</th><th scope=col>&lt;dbl&gt;</th><th scope=col>&lt;int&gt;</th><th scope=col>&lt;dbl&gt;</th><th scope=col>&lt;fct&gt;</th><th scope=col>&lt;fct&gt;</th><th scope=col>&lt;chr&gt;</th><th scope=col>&lt;chr&gt;</th><th scope=col>&lt;chr&gt;</th><th scope=col>&lt;chr&gt;</th><th scope=col>&lt;chr&gt;</th></tr>\n",
       "</thead>\n",
       "<tbody>\n",
       "\t<tr><td>C51</td><td> 5228</td><td>1635</td><td>1.5493497</td><td>2 </td><td>2 </td><td>HC1</td><td>HC</td><td>N</td><td>N</td><td>Macrophages</td></tr>\n",
       "\t<tr><td>C51</td><td> 5071</td><td>1385</td><td>1.7945178</td><td>12</td><td>12</td><td>HC1</td><td>HC</td><td>N</td><td>N</td><td>Macrophages</td></tr>\n",
       "\t<tr><td>C51</td><td> 5531</td><td>1729</td><td>1.6271922</td><td>2 </td><td>2 </td><td>HC1</td><td>HC</td><td>N</td><td>N</td><td>Macrophages</td></tr>\n",
       "\t<tr><td>C51</td><td> 5630</td><td>1639</td><td>1.9538188</td><td>2 </td><td>2 </td><td>HC1</td><td>HC</td><td>N</td><td>N</td><td>Macrophages</td></tr>\n",
       "\t<tr><td>C51</td><td> 7358</td><td>1722</td><td>2.7724925</td><td>6 </td><td>6 </td><td>HC1</td><td>HC</td><td>N</td><td>N</td><td>Macrophages</td></tr>\n",
       "\t<tr><td>C51</td><td> 4615</td><td>1312</td><td>1.4734561</td><td>2 </td><td>2 </td><td>HC1</td><td>HC</td><td>N</td><td>N</td><td>Macrophages</td></tr>\n",
       "\t<tr><td>C51</td><td> 4260</td><td>1307</td><td>2.4647887</td><td>4 </td><td>4 </td><td>HC1</td><td>HC</td><td>N</td><td>N</td><td>Macrophages</td></tr>\n",
       "\t<tr><td>C51</td><td>10112</td><td>2211</td><td>1.5031646</td><td>13</td><td>13</td><td>HC1</td><td>HC</td><td>N</td><td>N</td><td>Macrophages</td></tr>\n",
       "\t<tr><td>C51</td><td> 6748</td><td>1859</td><td>1.8079431</td><td>13</td><td>13</td><td>HC1</td><td>HC</td><td>N</td><td>N</td><td>Macrophages</td></tr>\n",
       "\t<tr><td>C51</td><td> 6713</td><td>1835</td><td>2.2195740</td><td>13</td><td>13</td><td>HC1</td><td>HC</td><td>N</td><td>N</td><td>Macrophages</td></tr>\n",
       "\t<tr><td>C51</td><td> 4148</td><td>1385</td><td>1.4705882</td><td>2 </td><td>2 </td><td>HC1</td><td>HC</td><td>N</td><td>N</td><td>Macrophages</td></tr>\n",
       "\t<tr><td>C51</td><td> 5470</td><td>1673</td><td>2.4314442</td><td>18</td><td>18</td><td>HC1</td><td>HC</td><td>N</td><td>N</td><td>Macrophages</td></tr>\n",
       "\t<tr><td>C51</td><td> 8344</td><td>1843</td><td>1.6179291</td><td>6 </td><td>6 </td><td>HC1</td><td>HC</td><td>N</td><td>N</td><td>Macrophages</td></tr>\n",
       "\t<tr><td>C51</td><td> 3075</td><td> 975</td><td>1.6585366</td><td>0 </td><td>0 </td><td>HC1</td><td>HC</td><td>N</td><td>N</td><td>Macrophages</td></tr>\n",
       "\t<tr><td>C51</td><td> 5684</td><td>1565</td><td>1.8472906</td><td>6 </td><td>6 </td><td>HC1</td><td>HC</td><td>N</td><td>N</td><td>Macrophages</td></tr>\n",
       "\t<tr><td>C51</td><td> 7632</td><td>1994</td><td>1.0089099</td><td>2 </td><td>2 </td><td>HC1</td><td>HC</td><td>N</td><td>N</td><td>Macrophages</td></tr>\n",
       "\t<tr><td>C51</td><td> 4865</td><td>1509</td><td>2.0143885</td><td>2 </td><td>2 </td><td>HC1</td><td>HC</td><td>N</td><td>N</td><td>Macrophages</td></tr>\n",
       "\t<tr><td>C51</td><td> 2381</td><td> 747</td><td>1.3859723</td><td>23</td><td>23</td><td>HC1</td><td>HC</td><td>N</td><td>N</td><td>mDC        </td></tr>\n",
       "\t<tr><td>C51</td><td> 6668</td><td>1795</td><td>1.7396521</td><td>6 </td><td>6 </td><td>HC1</td><td>HC</td><td>N</td><td>N</td><td>Macrophages</td></tr>\n",
       "\t<tr><td>C51</td><td> 5409</td><td>1657</td><td>2.1445739</td><td>2 </td><td>2 </td><td>HC1</td><td>HC</td><td>N</td><td>N</td><td>Macrophages</td></tr>\n",
       "\t<tr><td>C51</td><td> 6898</td><td>1786</td><td>2.0585677</td><td>6 </td><td>6 </td><td>HC1</td><td>HC</td><td>N</td><td>N</td><td>Macrophages</td></tr>\n",
       "\t<tr><td>C51</td><td> 5033</td><td>1391</td><td>2.1855752</td><td>4 </td><td>4 </td><td>HC1</td><td>HC</td><td>N</td><td>N</td><td>Macrophages</td></tr>\n",
       "\t<tr><td>C51</td><td> 2255</td><td> 893</td><td>1.9955654</td><td>23</td><td>23</td><td>HC1</td><td>HC</td><td>N</td><td>N</td><td>mDC        </td></tr>\n",
       "\t<tr><td>C51</td><td> 8487</td><td>2190</td><td>2.0030635</td><td>3 </td><td>3 </td><td>HC1</td><td>HC</td><td>N</td><td>N</td><td>Macrophages</td></tr>\n",
       "\t<tr><td>C51</td><td> 2984</td><td> 942</td><td>2.9490617</td><td>4 </td><td>4 </td><td>HC1</td><td>HC</td><td>N</td><td>N</td><td>Macrophages</td></tr>\n",
       "\t<tr><td>C51</td><td> 4558</td><td>1264</td><td>1.9087319</td><td>3 </td><td>3 </td><td>HC1</td><td>HC</td><td>N</td><td>N</td><td>Macrophages</td></tr>\n",
       "\t<tr><td>C51</td><td> 1245</td><td> 617</td><td>0.4819277</td><td>16</td><td>16</td><td>HC1</td><td>HC</td><td>N</td><td>N</td><td>Macrophages</td></tr>\n",
       "\t<tr><td>C51</td><td> 7031</td><td>1609</td><td>2.3609728</td><td>13</td><td>13</td><td>HC1</td><td>HC</td><td>N</td><td>N</td><td>Macrophages</td></tr>\n",
       "\t<tr><td>C51</td><td> 3392</td><td>1138</td><td>1.4150943</td><td>2 </td><td>2 </td><td>HC1</td><td>HC</td><td>N</td><td>N</td><td>Macrophages</td></tr>\n",
       "\t<tr><td>C51</td><td> 4839</td><td>1512</td><td>2.7071709</td><td>6 </td><td>6 </td><td>HC1</td><td>HC</td><td>N</td><td>N</td><td>Macrophages</td></tr>\n",
       "\t<tr><td>⋮</td><td>⋮</td><td>⋮</td><td>⋮</td><td>⋮</td><td>⋮</td><td>⋮</td><td>⋮</td><td>⋮</td><td>⋮</td><td>⋮</td></tr>\n",
       "\t<tr><td>C152</td><td> 2300</td><td> 537</td><td>7.304348</td><td>19</td><td>19</td><td>S5</td><td>S</td><td>Y</td><td>N</td><td>NA</td></tr>\n",
       "\t<tr><td>C152</td><td>23879</td><td>4186</td><td>7.110851</td><td>15</td><td>15</td><td>S5</td><td>S</td><td>Y</td><td>N</td><td>NA</td></tr>\n",
       "\t<tr><td>C152</td><td> 1649</td><td> 618</td><td>6.549424</td><td>19</td><td>19</td><td>S5</td><td>S</td><td>Y</td><td>N</td><td>NA</td></tr>\n",
       "\t<tr><td>C152</td><td> 4028</td><td>1769</td><td>3.301887</td><td>10</td><td>10</td><td>S5</td><td>S</td><td>Y</td><td>N</td><td>NA</td></tr>\n",
       "\t<tr><td>C152</td><td> 1354</td><td> 660</td><td>6.129985</td><td>0 </td><td>0 </td><td>S5</td><td>S</td><td>Y</td><td>N</td><td>NA</td></tr>\n",
       "\t<tr><td>C152</td><td> 2706</td><td>1062</td><td>5.284553</td><td>0 </td><td>0 </td><td>S5</td><td>S</td><td>Y</td><td>N</td><td>NA</td></tr>\n",
       "\t<tr><td>C152</td><td> 1909</td><td> 933</td><td>8.328968</td><td>15</td><td>15</td><td>S5</td><td>S</td><td>Y</td><td>N</td><td>NA</td></tr>\n",
       "\t<tr><td>C152</td><td> 6612</td><td>2491</td><td>5.051422</td><td>14</td><td>14</td><td>S5</td><td>S</td><td>Y</td><td>N</td><td>NA</td></tr>\n",
       "\t<tr><td>C152</td><td> 1951</td><td> 834</td><td>7.124552</td><td>14</td><td>14</td><td>S5</td><td>S</td><td>Y</td><td>N</td><td>NA</td></tr>\n",
       "\t<tr><td>C152</td><td> 1174</td><td> 494</td><td>3.662692</td><td>19</td><td>19</td><td>S5</td><td>S</td><td>Y</td><td>N</td><td>NA</td></tr>\n",
       "\t<tr><td>C152</td><td> 4034</td><td>1400</td><td>9.791770</td><td>5 </td><td>5 </td><td>S5</td><td>S</td><td>Y</td><td>N</td><td>NA</td></tr>\n",
       "\t<tr><td>C152</td><td>22478</td><td>4601</td><td>5.222885</td><td>5 </td><td>5 </td><td>S5</td><td>S</td><td>Y</td><td>N</td><td>NA</td></tr>\n",
       "\t<tr><td>C152</td><td> 8040</td><td>2804</td><td>9.875622</td><td>21</td><td>21</td><td>S5</td><td>S</td><td>Y</td><td>N</td><td>NA</td></tr>\n",
       "\t<tr><td>C152</td><td>21713</td><td>3566</td><td>2.574495</td><td>19</td><td>19</td><td>S5</td><td>S</td><td>Y</td><td>N</td><td>NA</td></tr>\n",
       "\t<tr><td>C152</td><td> 1624</td><td> 510</td><td>9.236453</td><td>19</td><td>19</td><td>S5</td><td>S</td><td>Y</td><td>N</td><td>NA</td></tr>\n",
       "\t<tr><td>C152</td><td> 4789</td><td>1978</td><td>2.276049</td><td>10</td><td>10</td><td>S5</td><td>S</td><td>Y</td><td>N</td><td>NA</td></tr>\n",
       "\t<tr><td>C152</td><td> 1567</td><td> 846</td><td>9.700064</td><td>14</td><td>14</td><td>S5</td><td>S</td><td>Y</td><td>N</td><td>NA</td></tr>\n",
       "\t<tr><td>C152</td><td>11612</td><td>2679</td><td>2.239063</td><td>4 </td><td>4 </td><td>S5</td><td>S</td><td>Y</td><td>N</td><td>NA</td></tr>\n",
       "\t<tr><td>C152</td><td> 2591</td><td>1160</td><td>5.017368</td><td>0 </td><td>0 </td><td>S5</td><td>S</td><td>Y</td><td>N</td><td>NA</td></tr>\n",
       "\t<tr><td>C152</td><td> 1878</td><td> 923</td><td>5.857295</td><td>0 </td><td>0 </td><td>S5</td><td>S</td><td>Y</td><td>N</td><td>NA</td></tr>\n",
       "\t<tr><td>C152</td><td> 6063</td><td>2097</td><td>3.282204</td><td>0 </td><td>0 </td><td>S5</td><td>S</td><td>Y</td><td>N</td><td>NA</td></tr>\n",
       "\t<tr><td>C152</td><td> 7536</td><td>2640</td><td>5.055732</td><td>14</td><td>14</td><td>S5</td><td>S</td><td>Y</td><td>N</td><td>NA</td></tr>\n",
       "\t<tr><td>C152</td><td> 4104</td><td>1450</td><td>7.090643</td><td>0 </td><td>0 </td><td>S5</td><td>S</td><td>Y</td><td>N</td><td>NA</td></tr>\n",
       "\t<tr><td>C152</td><td> 3916</td><td>1451</td><td>8.401430</td><td>0 </td><td>0 </td><td>S5</td><td>S</td><td>Y</td><td>N</td><td>NA</td></tr>\n",
       "\t<tr><td>C152</td><td>19312</td><td>3783</td><td>5.944490</td><td>15</td><td>15</td><td>S5</td><td>S</td><td>Y</td><td>N</td><td>NA</td></tr>\n",
       "\t<tr><td>C152</td><td> 1116</td><td> 641</td><td>8.602151</td><td>1 </td><td>1 </td><td>S5</td><td>S</td><td>Y</td><td>N</td><td>NA</td></tr>\n",
       "\t<tr><td>C152</td><td>12869</td><td>3507</td><td>3.178180</td><td>14</td><td>14</td><td>S5</td><td>S</td><td>Y</td><td>N</td><td>NA</td></tr>\n",
       "\t<tr><td>C152</td><td> 1347</td><td> 556</td><td>8.685969</td><td>19</td><td>19</td><td>S5</td><td>S</td><td>Y</td><td>N</td><td>NA</td></tr>\n",
       "\t<tr><td>C152</td><td>21274</td><td>3373</td><td>4.474946</td><td>19</td><td>19</td><td>S5</td><td>S</td><td>Y</td><td>N</td><td>NA</td></tr>\n",
       "\t<tr><td>C152</td><td> 4301</td><td>1705</td><td>6.254359</td><td>5 </td><td>5 </td><td>S5</td><td>S</td><td>Y</td><td>N</td><td>NA</td></tr>\n",
       "</tbody>\n",
       "</table>\n"
      ],
      "text/latex": [
       "A data.frame: 63734 × 11\n",
       "\\begin{tabular}{lllllllllll}\n",
       " orig.ident & nCount\\_RNA & nFeature\\_RNA & percent.mito & integrated\\_snn\\_res.1.2 & seurat\\_clusters & sample\\_new & group & disease & hasnCoV & celltype\\\\\n",
       " <chr> & <dbl> & <int> & <dbl> & <fct> & <fct> & <chr> & <chr> & <chr> & <chr> & <chr>\\\\\n",
       "\\hline\n",
       "\t C51 &  5228 & 1635 & 1.5493497 & 2  & 2  & HC1 & HC & N & N & Macrophages\\\\\n",
       "\t C51 &  5071 & 1385 & 1.7945178 & 12 & 12 & HC1 & HC & N & N & Macrophages\\\\\n",
       "\t C51 &  5531 & 1729 & 1.6271922 & 2  & 2  & HC1 & HC & N & N & Macrophages\\\\\n",
       "\t C51 &  5630 & 1639 & 1.9538188 & 2  & 2  & HC1 & HC & N & N & Macrophages\\\\\n",
       "\t C51 &  7358 & 1722 & 2.7724925 & 6  & 6  & HC1 & HC & N & N & Macrophages\\\\\n",
       "\t C51 &  4615 & 1312 & 1.4734561 & 2  & 2  & HC1 & HC & N & N & Macrophages\\\\\n",
       "\t C51 &  4260 & 1307 & 2.4647887 & 4  & 4  & HC1 & HC & N & N & Macrophages\\\\\n",
       "\t C51 & 10112 & 2211 & 1.5031646 & 13 & 13 & HC1 & HC & N & N & Macrophages\\\\\n",
       "\t C51 &  6748 & 1859 & 1.8079431 & 13 & 13 & HC1 & HC & N & N & Macrophages\\\\\n",
       "\t C51 &  6713 & 1835 & 2.2195740 & 13 & 13 & HC1 & HC & N & N & Macrophages\\\\\n",
       "\t C51 &  4148 & 1385 & 1.4705882 & 2  & 2  & HC1 & HC & N & N & Macrophages\\\\\n",
       "\t C51 &  5470 & 1673 & 2.4314442 & 18 & 18 & HC1 & HC & N & N & Macrophages\\\\\n",
       "\t C51 &  8344 & 1843 & 1.6179291 & 6  & 6  & HC1 & HC & N & N & Macrophages\\\\\n",
       "\t C51 &  3075 &  975 & 1.6585366 & 0  & 0  & HC1 & HC & N & N & Macrophages\\\\\n",
       "\t C51 &  5684 & 1565 & 1.8472906 & 6  & 6  & HC1 & HC & N & N & Macrophages\\\\\n",
       "\t C51 &  7632 & 1994 & 1.0089099 & 2  & 2  & HC1 & HC & N & N & Macrophages\\\\\n",
       "\t C51 &  4865 & 1509 & 2.0143885 & 2  & 2  & HC1 & HC & N & N & Macrophages\\\\\n",
       "\t C51 &  2381 &  747 & 1.3859723 & 23 & 23 & HC1 & HC & N & N & mDC        \\\\\n",
       "\t C51 &  6668 & 1795 & 1.7396521 & 6  & 6  & HC1 & HC & N & N & Macrophages\\\\\n",
       "\t C51 &  5409 & 1657 & 2.1445739 & 2  & 2  & HC1 & HC & N & N & Macrophages\\\\\n",
       "\t C51 &  6898 & 1786 & 2.0585677 & 6  & 6  & HC1 & HC & N & N & Macrophages\\\\\n",
       "\t C51 &  5033 & 1391 & 2.1855752 & 4  & 4  & HC1 & HC & N & N & Macrophages\\\\\n",
       "\t C51 &  2255 &  893 & 1.9955654 & 23 & 23 & HC1 & HC & N & N & mDC        \\\\\n",
       "\t C51 &  8487 & 2190 & 2.0030635 & 3  & 3  & HC1 & HC & N & N & Macrophages\\\\\n",
       "\t C51 &  2984 &  942 & 2.9490617 & 4  & 4  & HC1 & HC & N & N & Macrophages\\\\\n",
       "\t C51 &  4558 & 1264 & 1.9087319 & 3  & 3  & HC1 & HC & N & N & Macrophages\\\\\n",
       "\t C51 &  1245 &  617 & 0.4819277 & 16 & 16 & HC1 & HC & N & N & Macrophages\\\\\n",
       "\t C51 &  7031 & 1609 & 2.3609728 & 13 & 13 & HC1 & HC & N & N & Macrophages\\\\\n",
       "\t C51 &  3392 & 1138 & 1.4150943 & 2  & 2  & HC1 & HC & N & N & Macrophages\\\\\n",
       "\t C51 &  4839 & 1512 & 2.7071709 & 6  & 6  & HC1 & HC & N & N & Macrophages\\\\\n",
       "\t ⋮ & ⋮ & ⋮ & ⋮ & ⋮ & ⋮ & ⋮ & ⋮ & ⋮ & ⋮ & ⋮\\\\\n",
       "\t C152 &  2300 &  537 & 7.304348 & 19 & 19 & S5 & S & Y & N & NA\\\\\n",
       "\t C152 & 23879 & 4186 & 7.110851 & 15 & 15 & S5 & S & Y & N & NA\\\\\n",
       "\t C152 &  1649 &  618 & 6.549424 & 19 & 19 & S5 & S & Y & N & NA\\\\\n",
       "\t C152 &  4028 & 1769 & 3.301887 & 10 & 10 & S5 & S & Y & N & NA\\\\\n",
       "\t C152 &  1354 &  660 & 6.129985 & 0  & 0  & S5 & S & Y & N & NA\\\\\n",
       "\t C152 &  2706 & 1062 & 5.284553 & 0  & 0  & S5 & S & Y & N & NA\\\\\n",
       "\t C152 &  1909 &  933 & 8.328968 & 15 & 15 & S5 & S & Y & N & NA\\\\\n",
       "\t C152 &  6612 & 2491 & 5.051422 & 14 & 14 & S5 & S & Y & N & NA\\\\\n",
       "\t C152 &  1951 &  834 & 7.124552 & 14 & 14 & S5 & S & Y & N & NA\\\\\n",
       "\t C152 &  1174 &  494 & 3.662692 & 19 & 19 & S5 & S & Y & N & NA\\\\\n",
       "\t C152 &  4034 & 1400 & 9.791770 & 5  & 5  & S5 & S & Y & N & NA\\\\\n",
       "\t C152 & 22478 & 4601 & 5.222885 & 5  & 5  & S5 & S & Y & N & NA\\\\\n",
       "\t C152 &  8040 & 2804 & 9.875622 & 21 & 21 & S5 & S & Y & N & NA\\\\\n",
       "\t C152 & 21713 & 3566 & 2.574495 & 19 & 19 & S5 & S & Y & N & NA\\\\\n",
       "\t C152 &  1624 &  510 & 9.236453 & 19 & 19 & S5 & S & Y & N & NA\\\\\n",
       "\t C152 &  4789 & 1978 & 2.276049 & 10 & 10 & S5 & S & Y & N & NA\\\\\n",
       "\t C152 &  1567 &  846 & 9.700064 & 14 & 14 & S5 & S & Y & N & NA\\\\\n",
       "\t C152 & 11612 & 2679 & 2.239063 & 4  & 4  & S5 & S & Y & N & NA\\\\\n",
       "\t C152 &  2591 & 1160 & 5.017368 & 0  & 0  & S5 & S & Y & N & NA\\\\\n",
       "\t C152 &  1878 &  923 & 5.857295 & 0  & 0  & S5 & S & Y & N & NA\\\\\n",
       "\t C152 &  6063 & 2097 & 3.282204 & 0  & 0  & S5 & S & Y & N & NA\\\\\n",
       "\t C152 &  7536 & 2640 & 5.055732 & 14 & 14 & S5 & S & Y & N & NA\\\\\n",
       "\t C152 &  4104 & 1450 & 7.090643 & 0  & 0  & S5 & S & Y & N & NA\\\\\n",
       "\t C152 &  3916 & 1451 & 8.401430 & 0  & 0  & S5 & S & Y & N & NA\\\\\n",
       "\t C152 & 19312 & 3783 & 5.944490 & 15 & 15 & S5 & S & Y & N & NA\\\\\n",
       "\t C152 &  1116 &  641 & 8.602151 & 1  & 1  & S5 & S & Y & N & NA\\\\\n",
       "\t C152 & 12869 & 3507 & 3.178180 & 14 & 14 & S5 & S & Y & N & NA\\\\\n",
       "\t C152 &  1347 &  556 & 8.685969 & 19 & 19 & S5 & S & Y & N & NA\\\\\n",
       "\t C152 & 21274 & 3373 & 4.474946 & 19 & 19 & S5 & S & Y & N & NA\\\\\n",
       "\t C152 &  4301 & 1705 & 6.254359 & 5  & 5  & S5 & S & Y & N & NA\\\\\n",
       "\\end{tabular}\n"
      ],
      "text/markdown": [
       "\n",
       "A data.frame: 63734 × 11\n",
       "\n",
       "| orig.ident &lt;chr&gt; | nCount_RNA &lt;dbl&gt; | nFeature_RNA &lt;int&gt; | percent.mito &lt;dbl&gt; | integrated_snn_res.1.2 &lt;fct&gt; | seurat_clusters &lt;fct&gt; | sample_new &lt;chr&gt; | group &lt;chr&gt; | disease &lt;chr&gt; | hasnCoV &lt;chr&gt; | celltype &lt;chr&gt; |\n",
       "|---|---|---|---|---|---|---|---|---|---|---|\n",
       "| C51 |  5228 | 1635 | 1.5493497 | 2  | 2  | HC1 | HC | N | N | Macrophages |\n",
       "| C51 |  5071 | 1385 | 1.7945178 | 12 | 12 | HC1 | HC | N | N | Macrophages |\n",
       "| C51 |  5531 | 1729 | 1.6271922 | 2  | 2  | HC1 | HC | N | N | Macrophages |\n",
       "| C51 |  5630 | 1639 | 1.9538188 | 2  | 2  | HC1 | HC | N | N | Macrophages |\n",
       "| C51 |  7358 | 1722 | 2.7724925 | 6  | 6  | HC1 | HC | N | N | Macrophages |\n",
       "| C51 |  4615 | 1312 | 1.4734561 | 2  | 2  | HC1 | HC | N | N | Macrophages |\n",
       "| C51 |  4260 | 1307 | 2.4647887 | 4  | 4  | HC1 | HC | N | N | Macrophages |\n",
       "| C51 | 10112 | 2211 | 1.5031646 | 13 | 13 | HC1 | HC | N | N | Macrophages |\n",
       "| C51 |  6748 | 1859 | 1.8079431 | 13 | 13 | HC1 | HC | N | N | Macrophages |\n",
       "| C51 |  6713 | 1835 | 2.2195740 | 13 | 13 | HC1 | HC | N | N | Macrophages |\n",
       "| C51 |  4148 | 1385 | 1.4705882 | 2  | 2  | HC1 | HC | N | N | Macrophages |\n",
       "| C51 |  5470 | 1673 | 2.4314442 | 18 | 18 | HC1 | HC | N | N | Macrophages |\n",
       "| C51 |  8344 | 1843 | 1.6179291 | 6  | 6  | HC1 | HC | N | N | Macrophages |\n",
       "| C51 |  3075 |  975 | 1.6585366 | 0  | 0  | HC1 | HC | N | N | Macrophages |\n",
       "| C51 |  5684 | 1565 | 1.8472906 | 6  | 6  | HC1 | HC | N | N | Macrophages |\n",
       "| C51 |  7632 | 1994 | 1.0089099 | 2  | 2  | HC1 | HC | N | N | Macrophages |\n",
       "| C51 |  4865 | 1509 | 2.0143885 | 2  | 2  | HC1 | HC | N | N | Macrophages |\n",
       "| C51 |  2381 |  747 | 1.3859723 | 23 | 23 | HC1 | HC | N | N | mDC         |\n",
       "| C51 |  6668 | 1795 | 1.7396521 | 6  | 6  | HC1 | HC | N | N | Macrophages |\n",
       "| C51 |  5409 | 1657 | 2.1445739 | 2  | 2  | HC1 | HC | N | N | Macrophages |\n",
       "| C51 |  6898 | 1786 | 2.0585677 | 6  | 6  | HC1 | HC | N | N | Macrophages |\n",
       "| C51 |  5033 | 1391 | 2.1855752 | 4  | 4  | HC1 | HC | N | N | Macrophages |\n",
       "| C51 |  2255 |  893 | 1.9955654 | 23 | 23 | HC1 | HC | N | N | mDC         |\n",
       "| C51 |  8487 | 2190 | 2.0030635 | 3  | 3  | HC1 | HC | N | N | Macrophages |\n",
       "| C51 |  2984 |  942 | 2.9490617 | 4  | 4  | HC1 | HC | N | N | Macrophages |\n",
       "| C51 |  4558 | 1264 | 1.9087319 | 3  | 3  | HC1 | HC | N | N | Macrophages |\n",
       "| C51 |  1245 |  617 | 0.4819277 | 16 | 16 | HC1 | HC | N | N | Macrophages |\n",
       "| C51 |  7031 | 1609 | 2.3609728 | 13 | 13 | HC1 | HC | N | N | Macrophages |\n",
       "| C51 |  3392 | 1138 | 1.4150943 | 2  | 2  | HC1 | HC | N | N | Macrophages |\n",
       "| C51 |  4839 | 1512 | 2.7071709 | 6  | 6  | HC1 | HC | N | N | Macrophages |\n",
       "| ⋮ | ⋮ | ⋮ | ⋮ | ⋮ | ⋮ | ⋮ | ⋮ | ⋮ | ⋮ | ⋮ |\n",
       "| C152 |  2300 |  537 | 7.304348 | 19 | 19 | S5 | S | Y | N | NA |\n",
       "| C152 | 23879 | 4186 | 7.110851 | 15 | 15 | S5 | S | Y | N | NA |\n",
       "| C152 |  1649 |  618 | 6.549424 | 19 | 19 | S5 | S | Y | N | NA |\n",
       "| C152 |  4028 | 1769 | 3.301887 | 10 | 10 | S5 | S | Y | N | NA |\n",
       "| C152 |  1354 |  660 | 6.129985 | 0  | 0  | S5 | S | Y | N | NA |\n",
       "| C152 |  2706 | 1062 | 5.284553 | 0  | 0  | S5 | S | Y | N | NA |\n",
       "| C152 |  1909 |  933 | 8.328968 | 15 | 15 | S5 | S | Y | N | NA |\n",
       "| C152 |  6612 | 2491 | 5.051422 | 14 | 14 | S5 | S | Y | N | NA |\n",
       "| C152 |  1951 |  834 | 7.124552 | 14 | 14 | S5 | S | Y | N | NA |\n",
       "| C152 |  1174 |  494 | 3.662692 | 19 | 19 | S5 | S | Y | N | NA |\n",
       "| C152 |  4034 | 1400 | 9.791770 | 5  | 5  | S5 | S | Y | N | NA |\n",
       "| C152 | 22478 | 4601 | 5.222885 | 5  | 5  | S5 | S | Y | N | NA |\n",
       "| C152 |  8040 | 2804 | 9.875622 | 21 | 21 | S5 | S | Y | N | NA |\n",
       "| C152 | 21713 | 3566 | 2.574495 | 19 | 19 | S5 | S | Y | N | NA |\n",
       "| C152 |  1624 |  510 | 9.236453 | 19 | 19 | S5 | S | Y | N | NA |\n",
       "| C152 |  4789 | 1978 | 2.276049 | 10 | 10 | S5 | S | Y | N | NA |\n",
       "| C152 |  1567 |  846 | 9.700064 | 14 | 14 | S5 | S | Y | N | NA |\n",
       "| C152 | 11612 | 2679 | 2.239063 | 4  | 4  | S5 | S | Y | N | NA |\n",
       "| C152 |  2591 | 1160 | 5.017368 | 0  | 0  | S5 | S | Y | N | NA |\n",
       "| C152 |  1878 |  923 | 5.857295 | 0  | 0  | S5 | S | Y | N | NA |\n",
       "| C152 |  6063 | 2097 | 3.282204 | 0  | 0  | S5 | S | Y | N | NA |\n",
       "| C152 |  7536 | 2640 | 5.055732 | 14 | 14 | S5 | S | Y | N | NA |\n",
       "| C152 |  4104 | 1450 | 7.090643 | 0  | 0  | S5 | S | Y | N | NA |\n",
       "| C152 |  3916 | 1451 | 8.401430 | 0  | 0  | S5 | S | Y | N | NA |\n",
       "| C152 | 19312 | 3783 | 5.944490 | 15 | 15 | S5 | S | Y | N | NA |\n",
       "| C152 |  1116 |  641 | 8.602151 | 1  | 1  | S5 | S | Y | N | NA |\n",
       "| C152 | 12869 | 3507 | 3.178180 | 14 | 14 | S5 | S | Y | N | NA |\n",
       "| C152 |  1347 |  556 | 8.685969 | 19 | 19 | S5 | S | Y | N | NA |\n",
       "| C152 | 21274 | 3373 | 4.474946 | 19 | 19 | S5 | S | Y | N | NA |\n",
       "| C152 |  4301 | 1705 | 6.254359 | 5  | 5  | S5 | S | Y | N | NA |\n",
       "\n"
      ],
      "text/plain": [
       "      orig.ident nCount_RNA nFeature_RNA percent.mito integrated_snn_res.1.2\n",
       "1     C51         5228      1635         1.5493497    2                     \n",
       "2     C51         5071      1385         1.7945178    12                    \n",
       "3     C51         5531      1729         1.6271922    2                     \n",
       "4     C51         5630      1639         1.9538188    2                     \n",
       "5     C51         7358      1722         2.7724925    6                     \n",
       "6     C51         4615      1312         1.4734561    2                     \n",
       "7     C51         4260      1307         2.4647887    4                     \n",
       "8     C51        10112      2211         1.5031646    13                    \n",
       "9     C51         6748      1859         1.8079431    13                    \n",
       "10    C51         6713      1835         2.2195740    13                    \n",
       "11    C51         4148      1385         1.4705882    2                     \n",
       "12    C51         5470      1673         2.4314442    18                    \n",
       "13    C51         8344      1843         1.6179291    6                     \n",
       "14    C51         3075       975         1.6585366    0                     \n",
       "15    C51         5684      1565         1.8472906    6                     \n",
       "16    C51         7632      1994         1.0089099    2                     \n",
       "17    C51         4865      1509         2.0143885    2                     \n",
       "18    C51         2381       747         1.3859723    23                    \n",
       "19    C51         6668      1795         1.7396521    6                     \n",
       "20    C51         5409      1657         2.1445739    2                     \n",
       "21    C51         6898      1786         2.0585677    6                     \n",
       "22    C51         5033      1391         2.1855752    4                     \n",
       "23    C51         2255       893         1.9955654    23                    \n",
       "24    C51         8487      2190         2.0030635    3                     \n",
       "25    C51         2984       942         2.9490617    4                     \n",
       "26    C51         4558      1264         1.9087319    3                     \n",
       "27    C51         1245       617         0.4819277    16                    \n",
       "28    C51         7031      1609         2.3609728    13                    \n",
       "29    C51         3392      1138         1.4150943    2                     \n",
       "30    C51         4839      1512         2.7071709    6                     \n",
       "⋮     ⋮          ⋮          ⋮            ⋮            ⋮                     \n",
       "63705 C152        2300       537         7.304348     19                    \n",
       "63706 C152       23879      4186         7.110851     15                    \n",
       "63707 C152        1649       618         6.549424     19                    \n",
       "63708 C152        4028      1769         3.301887     10                    \n",
       "63709 C152        1354       660         6.129985     0                     \n",
       "63710 C152        2706      1062         5.284553     0                     \n",
       "63711 C152        1909       933         8.328968     15                    \n",
       "63712 C152        6612      2491         5.051422     14                    \n",
       "63713 C152        1951       834         7.124552     14                    \n",
       "63714 C152        1174       494         3.662692     19                    \n",
       "63715 C152        4034      1400         9.791770     5                     \n",
       "63716 C152       22478      4601         5.222885     5                     \n",
       "63717 C152        8040      2804         9.875622     21                    \n",
       "63718 C152       21713      3566         2.574495     19                    \n",
       "63719 C152        1624       510         9.236453     19                    \n",
       "63720 C152        4789      1978         2.276049     10                    \n",
       "63721 C152        1567       846         9.700064     14                    \n",
       "63722 C152       11612      2679         2.239063     4                     \n",
       "63723 C152        2591      1160         5.017368     0                     \n",
       "63724 C152        1878       923         5.857295     0                     \n",
       "63725 C152        6063      2097         3.282204     0                     \n",
       "63726 C152        7536      2640         5.055732     14                    \n",
       "63727 C152        4104      1450         7.090643     0                     \n",
       "63728 C152        3916      1451         8.401430     0                     \n",
       "63729 C152       19312      3783         5.944490     15                    \n",
       "63730 C152        1116       641         8.602151     1                     \n",
       "63731 C152       12869      3507         3.178180     14                    \n",
       "63732 C152        1347       556         8.685969     19                    \n",
       "63733 C152       21274      3373         4.474946     19                    \n",
       "63734 C152        4301      1705         6.254359     5                     \n",
       "      seurat_clusters sample_new group disease hasnCoV celltype   \n",
       "1     2               HC1        HC    N       N       Macrophages\n",
       "2     12              HC1        HC    N       N       Macrophages\n",
       "3     2               HC1        HC    N       N       Macrophages\n",
       "4     2               HC1        HC    N       N       Macrophages\n",
       "5     6               HC1        HC    N       N       Macrophages\n",
       "6     2               HC1        HC    N       N       Macrophages\n",
       "7     4               HC1        HC    N       N       Macrophages\n",
       "8     13              HC1        HC    N       N       Macrophages\n",
       "9     13              HC1        HC    N       N       Macrophages\n",
       "10    13              HC1        HC    N       N       Macrophages\n",
       "11    2               HC1        HC    N       N       Macrophages\n",
       "12    18              HC1        HC    N       N       Macrophages\n",
       "13    6               HC1        HC    N       N       Macrophages\n",
       "14    0               HC1        HC    N       N       Macrophages\n",
       "15    6               HC1        HC    N       N       Macrophages\n",
       "16    2               HC1        HC    N       N       Macrophages\n",
       "17    2               HC1        HC    N       N       Macrophages\n",
       "18    23              HC1        HC    N       N       mDC        \n",
       "19    6               HC1        HC    N       N       Macrophages\n",
       "20    2               HC1        HC    N       N       Macrophages\n",
       "21    6               HC1        HC    N       N       Macrophages\n",
       "22    4               HC1        HC    N       N       Macrophages\n",
       "23    23              HC1        HC    N       N       mDC        \n",
       "24    3               HC1        HC    N       N       Macrophages\n",
       "25    4               HC1        HC    N       N       Macrophages\n",
       "26    3               HC1        HC    N       N       Macrophages\n",
       "27    16              HC1        HC    N       N       Macrophages\n",
       "28    13              HC1        HC    N       N       Macrophages\n",
       "29    2               HC1        HC    N       N       Macrophages\n",
       "30    6               HC1        HC    N       N       Macrophages\n",
       "⋮     ⋮               ⋮          ⋮     ⋮       ⋮       ⋮          \n",
       "63705 19              S5         S     Y       N       NA         \n",
       "63706 15              S5         S     Y       N       NA         \n",
       "63707 19              S5         S     Y       N       NA         \n",
       "63708 10              S5         S     Y       N       NA         \n",
       "63709 0               S5         S     Y       N       NA         \n",
       "63710 0               S5         S     Y       N       NA         \n",
       "63711 15              S5         S     Y       N       NA         \n",
       "63712 14              S5         S     Y       N       NA         \n",
       "63713 14              S5         S     Y       N       NA         \n",
       "63714 19              S5         S     Y       N       NA         \n",
       "63715 5               S5         S     Y       N       NA         \n",
       "63716 5               S5         S     Y       N       NA         \n",
       "63717 21              S5         S     Y       N       NA         \n",
       "63718 19              S5         S     Y       N       NA         \n",
       "63719 19              S5         S     Y       N       NA         \n",
       "63720 10              S5         S     Y       N       NA         \n",
       "63721 14              S5         S     Y       N       NA         \n",
       "63722 4               S5         S     Y       N       NA         \n",
       "63723 0               S5         S     Y       N       NA         \n",
       "63724 0               S5         S     Y       N       NA         \n",
       "63725 0               S5         S     Y       N       NA         \n",
       "63726 14              S5         S     Y       N       NA         \n",
       "63727 0               S5         S     Y       N       NA         \n",
       "63728 0               S5         S     Y       N       NA         \n",
       "63729 15              S5         S     Y       N       NA         \n",
       "63730 1               S5         S     Y       N       NA         \n",
       "63731 14              S5         S     Y       N       NA         \n",
       "63732 19              S5         S     Y       N       NA         \n",
       "63733 19              S5         S     Y       N       NA         \n",
       "63734 5               S5         S     Y       N       NA         "
      ]
     },
     "metadata": {},
     "output_type": "display_data"
    }
   ],
   "source": [
    "nCoV.integrated@meta.data"
   ]
  },
  {
   "cell_type": "code",
   "execution_count": 62,
   "id": "82f183dd-04d3-43d3-a72f-33241502ac5e",
   "metadata": {},
   "outputs": [],
   "source": [
    "nCoV.integrated <- AddMetaData(object = nCoV.integrated,\n",
    "                     metadata = good)"
   ]
  },
  {
   "cell_type": "code",
   "execution_count": 65,
   "id": "42f82c63-926d-4763-97b6-b4f8a4099a26",
   "metadata": {},
   "outputs": [],
   "source": [
    "nCoV.integrated@meta.data$ID <- NULL"
   ]
  },
  {
   "cell_type": "code",
   "execution_count": 77,
   "id": "091cdd58-c3d5-4db0-b774-148edd261e73",
   "metadata": {},
   "outputs": [],
   "source": [
    "nCoV.integrated@meta.data$celltype <- NULL"
   ]
  },
  {
   "cell_type": "code",
   "execution_count": 63,
   "id": "dd3b2352-7bab-4966-8b4a-e85c3a9c2669",
   "metadata": {},
   "outputs": [
    {
     "data": {
      "text/html": [
       "<strong>png:</strong> 2"
      ],
      "text/latex": [
       "\\textbf{png:} 2"
      ],
      "text/markdown": [
       "**png:** 2"
      ],
      "text/plain": [
       "png \n",
       "  2 "
      ]
     },
     "metadata": {},
     "output_type": "display_data"
    },
    {
     "name": "stderr",
     "output_type": "stream",
     "text": [
      "Warning message:\n",
      "“Removed 29 rows containing missing values (geom_text).”\n"
     ]
    },
    {
     "data": {
      "text/html": [
       "<strong>png:</strong> 2"
      ],
      "text/latex": [
       "\\textbf{png:} 2"
      ],
      "text/markdown": [
       "**png:** 2"
      ],
      "text/plain": [
       "png \n",
       "  2 "
      ]
     },
     "metadata": {},
     "output_type": "display_data"
    },
    {
     "data": {
      "text/html": [
       "<strong>png:</strong> 2"
      ],
      "text/latex": [
       "\\textbf{png:} 2"
      ],
      "text/markdown": [
       "**png:** 2"
      ],
      "text/plain": [
       "png \n",
       "  2 "
      ]
     },
     "metadata": {},
     "output_type": "display_data"
    },
    {
     "name": "stderr",
     "output_type": "stream",
     "text": [
      "Warning message:\n",
      "“Removed 29 rows containing missing values (geom_text).”\n"
     ]
    },
    {
     "data": {
      "text/html": [
       "<strong>png:</strong> 2"
      ],
      "text/latex": [
       "\\textbf{png:} 2"
      ],
      "text/markdown": [
       "**png:** 2"
      ],
      "text/plain": [
       "png \n",
       "  2 "
      ]
     },
     "metadata": {},
     "output_type": "display_data"
    },
    {
     "data": {
      "text/html": [
       "<strong>png:</strong> 2"
      ],
      "text/latex": [
       "\\textbf{png:} 2"
      ],
      "text/markdown": [
       "**png:** 2"
      ],
      "text/plain": [
       "png \n",
       "  2 "
      ]
     },
     "metadata": {},
     "output_type": "display_data"
    },
    {
     "name": "stderr",
     "output_type": "stream",
     "text": [
      "Warning message:\n",
      "“Removed 29 rows containing missing values (geom_text).”\n"
     ]
    },
    {
     "data": {
      "text/html": [
       "<strong>png:</strong> 2"
      ],
      "text/latex": [
       "\\textbf{png:} 2"
      ],
      "text/markdown": [
       "**png:** 2"
      ],
      "text/plain": [
       "png \n",
       "  2 "
      ]
     },
     "metadata": {},
     "output_type": "display_data"
    }
   ],
   "source": [
    "dpi <- 300\n",
    "png(file=\"nCoV-umap-group-sample.png\", width = dpi*8, height = dpi*6, units = \"px\",res = dpi,type='cairo')\n",
    "DimPlot(object = nCoV.integrated, reduction = 'umap',label = FALSE, group.by = 'sample_new')\n",
    "dev.off()\n",
    "\n",
    "png(file=\"nCoV-umap-split-sample.png\", width = dpi*16, height = dpi*16, units = \"px\",res = dpi,type='cairo')\n",
    "DimPlot(object = nCoV.integrated, reduction = 'umap',label = TRUE, split.by = 'sample_new', ncol = 4)\n",
    "dev.off()\n",
    "\n",
    "png(file=\"nCoV-umap-group-group.png\", width = dpi*8, height = dpi*6, units = \"px\",res = dpi,type='cairo')\n",
    "DimPlot(object = nCoV.integrated, reduction = 'umap',label = FALSE, group.by = 'group')\n",
    "dev.off()\n",
    "\n",
    "png(file=\"nCoV-umap-split-group.png\", width = dpi*12, height = dpi*4, units = \"px\",res = dpi,type='cairo')\n",
    "DimPlot(object = nCoV.integrated, reduction = 'umap',label = TRUE, split.by = 'group', ncol = 3)\n",
    "dev.off()\n",
    "#\n",
    "png(file=\"nCoV-umap-group-disease.png\", width = dpi*8, height = dpi*6, units = \"px\",res = dpi,type='cairo')\n",
    "DimPlot(object = nCoV.integrated, reduction = 'umap',label = FALSE, group.by = 'disease')\n",
    "dev.off()\n",
    "#\n",
    "png(file=\"nCoV-umap-split-disease.png\", width = dpi*10, height = dpi*4.5, units = \"px\",res = dpi,type='cairo')\n",
    "DimPlot(object = nCoV.integrated, reduction = 'umap',label = TRUE, split.by = 'disease', ncol = 2)\n",
    "dev.off()"
   ]
  },
  {
   "cell_type": "markdown",
   "id": "84a6235a-d497-44cc-8765-75f3c9c2a42c",
   "metadata": {},
   "source": [
    "### After integration and sample annotation, we do the EDAs on the distinct cluster"
   ]
  },
  {
   "cell_type": "code",
   "execution_count": null,
   "id": "cd907003-6329-40bc-b2cc-de6d299675d5",
   "metadata": {},
   "outputs": [],
   "source": [
    "nCoV.integrated$disease"
   ]
  },
  {
   "cell_type": "code",
   "execution_count": 284,
   "id": "b3355d8a-21a9-4386-b1ee-70c445c4699c",
   "metadata": {},
   "outputs": [
    {
     "data": {
      "text/html": [
       "<strong>png:</strong> 2"
      ],
      "text/latex": [
       "\\textbf{png:} 2"
      ],
      "text/markdown": [
       "**png:** 2"
      ],
      "text/plain": [
       "png \n",
       "  2 "
      ]
     },
     "metadata": {},
     "output_type": "display_data"
    }
   ],
   "source": [
    "dpi <- 300\n",
    "pt <- table(nCoV.integrated$seurat_clusters, nCoV.integrated$disease)\n",
    "pt <- as.data.frame(pt)\n",
    "pt$Var1 <- as.character(pt$Var1)\n",
    "\n",
    "png(file=\"proportion_disease.png\", width = dpi*7, height = dpi*5, units = \"px\",res = dpi,type='cairo')\n",
    "ggplot(pt, aes(x = Var2, y = Freq, fill = Var1)) +\n",
    "  theme_bw(base_size = 15) +\n",
    "  geom_col(position = \"fill\", width = 0.5) +\n",
    "  xlab(\"Disease\") +\n",
    "  ylab(\"Proportion\") +\n",
    "  scale_colour_brewer() +\n",
    "  theme(legend.title = element_blank())\n",
    "dev.off()"
   ]
  },
  {
   "cell_type": "code",
   "execution_count": 225,
   "id": "600be108-aaa1-43ea-b820-130144d07685",
   "metadata": {},
   "outputs": [
    {
     "name": "stderr",
     "output_type": "stream",
     "text": [
      "Removing cells with NA for 1 or more grouping variables\n",
      "\n",
      "Warning message:\n",
      "“The following arguments are not used: row.names”\n",
      "Centering and scaling data matrix\n",
      "\n"
     ]
    },
    {
     "data": {
      "text/html": [
       "'Average'"
      ],
      "text/latex": [
       "'Average'"
      ],
      "text/markdown": [
       "'Average'"
      ],
      "text/plain": [
       "[1] \"Average\""
      ]
     },
     "metadata": {},
     "output_type": "display_data"
    },
    {
     "data": {
      "text/html": [
       "<style>\n",
       ".list-inline {list-style: none; margin:0; padding: 0}\n",
       ".list-inline>li {display: inline-block}\n",
       ".list-inline>li:not(:last-child)::after {content: \"\\00b7\"; padding: 0 .5ex}\n",
       "</style>\n",
       "<ol class=list-inline><li>'HC1'</li><li>'HC2'</li><li>'HC3'</li><li>NA</li><li>'M1'</li><li>'M2'</li><li>'M3'</li><li>'S2'</li><li>'S1'</li><li>'S3'</li><li>'S4'</li></ol>\n"
      ],
      "text/latex": [
       "\\begin{enumerate*}\n",
       "\\item 'HC1'\n",
       "\\item 'HC2'\n",
       "\\item 'HC3'\n",
       "\\item NA\n",
       "\\item 'M1'\n",
       "\\item 'M2'\n",
       "\\item 'M3'\n",
       "\\item 'S2'\n",
       "\\item 'S1'\n",
       "\\item 'S3'\n",
       "\\item 'S4'\n",
       "\\end{enumerate*}\n"
      ],
      "text/markdown": [
       "1. 'HC1'\n",
       "2. 'HC2'\n",
       "3. 'HC3'\n",
       "4. NA\n",
       "5. 'M1'\n",
       "6. 'M2'\n",
       "7. 'M3'\n",
       "8. 'S2'\n",
       "9. 'S1'\n",
       "10. 'S3'\n",
       "11. 'S4'\n",
       "\n",
       "\n"
      ],
      "text/plain": [
       " [1] \"HC1\" \"HC2\" \"HC3\" NA    \"M1\"  \"M2\"  \"M3\"  \"S2\"  \"S1\"  \"S3\"  \"S4\" "
      ]
     },
     "metadata": {},
     "output_type": "display_data"
    },
    {
     "name": "stderr",
     "output_type": "stream",
     "text": [
      "Warning message:\n",
      "“Removed 40 rows containing missing values (geom_point).”\n"
     ]
    },
    {
     "data": {
      "text/html": [
       "<strong>png:</strong> 2"
      ],
      "text/latex": [
       "\\textbf{png:} 2"
      ],
      "text/markdown": [
       "**png:** 2"
      ],
      "text/plain": [
       "png \n",
       "  2 "
      ]
     },
     "metadata": {},
     "output_type": "display_data"
    },
    {
     "name": "stderr",
     "output_type": "stream",
     "text": [
      "Scale for 'fill' is already present. Adding another scale for 'fill', which\n",
      "will replace the existing scale.\n",
      "\n",
      "Warning message:\n",
      "“Removed 40 rows containing missing values (geom_point).”\n"
     ]
    },
    {
     "data": {
      "text/html": [
       "<strong>png:</strong> 2"
      ],
      "text/latex": [
       "\\textbf{png:} 2"
      ],
      "text/markdown": [
       "**png:** 2"
      ],
      "text/plain": [
       "png \n",
       "  2 "
      ]
     },
     "metadata": {},
     "output_type": "display_data"
    },
    {
     "name": "stderr",
     "output_type": "stream",
     "text": [
      "Warning message:\n",
      "“Ignoring unknown parameters: xmax”\n",
      "Warning message:\n",
      "“Transformation introduced infinite values in continuous x-axis”\n",
      "Warning message:\n",
      "“Transformation introduced infinite values in continuous x-axis”\n"
     ]
    },
    {
     "data": {
      "text/html": [
       "<strong>png:</strong> 2"
      ],
      "text/latex": [
       "\\textbf{png:} 2"
      ],
      "text/markdown": [
       "**png:** 2"
      ],
      "text/plain": [
       "png \n",
       "  2 "
      ]
     },
     "metadata": {},
     "output_type": "display_data"
    }
   ],
   "source": [
    "cluster12 <- subset(x = nCoV.integrated, subset = seurat_clusters == 12)\n",
    "cluster.averages <- AverageExpression(cluster12,\n",
    "                                     return.seurat = TRUE,\n",
    "                                     group.by = 'sample_new')\n",
    "sample_new <- unique(cluster12@meta.data[['sample_new']])\n",
    "#\n",
    "levels(cluster.averages)\n",
    "#\n",
    "Idents(cluster.averages) <- unlist(sample_new)\n",
    "#\n",
    "unlist(as.character(Idents(cluster.averages)))\n",
    "#\n",
    "dpi <- 300\n",
    "png(file=\"cluster12_integrated_top.png\", width = dpi*10, height = dpi*10, units = \"px\",res = dpi,type='cairo')\n",
    "DoHeatmap(cluster.averages, \n",
    "         features = unlist(TopFeatures(cluster12[['pca']],\n",
    "                          balanced = FALSE)),\n",
    "          size =3, draw.lines = TRUE,\n",
    "         group.by = 'ident',\n",
    "         label = FALSE)\n",
    "dev.off()\n",
    "\n",
    "feature_points <- TopFeatures(cluster12[['pca']])\n",
    "#\n",
    "dpi <- 300\n",
    "png(file=\"cluster12_integrated_heatmap_variable.png\", width = dpi*10, height = dpi*10, units = \"px\",res = dpi,type='cairo')\n",
    "DoHeatmap(cluster.averages, features = feature_points, raster=F,\n",
    "         label= FALSE) + scale_fill_gradientn(colors = rev(RColorBrewer::brewer.pal(n = 10, name = \"RdBu\")) ) + guides(color=FALSE)\n",
    "dev.off()\n",
    "\n",
    "top10 <- head(VariableFeatures(cluster12), 10)\n",
    "\n",
    "options(ggrepel.max.overlaps = Inf)\n",
    "\n",
    "dpi <- 300\n",
    "plot1 <- VariableFeaturePlot(cluster12) \n",
    "plot2 <- LabelPoints(plot = plot1, points = top10, repel = TRUE,\n",
    "                    xnudge = 0, ynudge = 0, xmax = Inf) \n",
    "png(file=\"cluster12_integrated.png\", width = dpi*10, height = dpi*15, units = \"px\",res = dpi,type='cairo')\n",
    "plot1/plot2\n",
    "dev.off()"
   ]
  },
  {
   "cell_type": "code",
   "execution_count": 226,
   "id": "cb7e49ec-5e6d-4546-9e2f-06f4a53fa27b",
   "metadata": {},
   "outputs": [
    {
     "name": "stderr",
     "output_type": "stream",
     "text": [
      "Warning message in RColorBrewer::brewer.pal(n = 40, name = \"RdBu\"):\n",
      "“n too large, allowed maximum for palette RdBu is 11\n",
      "Returning the palette you asked for with that many colors\n",
      "”\n"
     ]
    },
    {
     "data": {
      "text/html": [
       "<strong>png:</strong> 2"
      ],
      "text/latex": [
       "\\textbf{png:} 2"
      ],
      "text/markdown": [
       "**png:** 2"
      ],
      "text/plain": [
       "png \n",
       "  2 "
      ]
     },
     "metadata": {},
     "output_type": "display_data"
    }
   ],
   "source": [
    "mypalette <- RColorBrewer::brewer.pal(n = 40, name = \"RdBu\")\n",
    "features <- TopFeatures(cluster12[['pca']])\n",
    "png(file=\"cluster12_dotplot.png\", width = dpi*20, height = dpi*5, units = \"px\",res = dpi,type='cairo')\n",
    "DotPlot(cluster12, features = features, cols = mypalette, dot.scale = 9, col.max = 40, split.by = 'group') + \n",
    "       RotatedAxis()\n",
    "dev.off()"
   ]
  },
  {
   "cell_type": "code",
   "execution_count": 228,
   "id": "e997bd16-4f70-48c0-8ab6-0abc1233e4cc",
   "metadata": {},
   "outputs": [
    {
     "name": "stderr",
     "output_type": "stream",
     "text": [
      "Removing cells with NA for 1 or more grouping variables\n",
      "\n",
      "Warning message:\n",
      "“The following arguments are not used: row.names”\n",
      "Centering and scaling data matrix\n",
      "\n"
     ]
    },
    {
     "data": {
      "text/html": [
       "'Average'"
      ],
      "text/latex": [
       "'Average'"
      ],
      "text/markdown": [
       "'Average'"
      ],
      "text/plain": [
       "[1] \"Average\""
      ]
     },
     "metadata": {},
     "output_type": "display_data"
    },
    {
     "data": {
      "text/html": [
       "<style>\n",
       ".list-inline {list-style: none; margin:0; padding: 0}\n",
       ".list-inline>li {display: inline-block}\n",
       ".list-inline>li:not(:last-child)::after {content: \"\\00b7\"; padding: 0 .5ex}\n",
       "</style>\n",
       "<ol class=list-inline><li>'HC1'</li><li>'HC2'</li><li>'HC3'</li><li>NA</li><li>'M1'</li><li>'M2'</li><li>'M3'</li><li>'S2'</li><li>'S1'</li><li>'S3'</li><li>'S4'</li></ol>\n"
      ],
      "text/latex": [
       "\\begin{enumerate*}\n",
       "\\item 'HC1'\n",
       "\\item 'HC2'\n",
       "\\item 'HC3'\n",
       "\\item NA\n",
       "\\item 'M1'\n",
       "\\item 'M2'\n",
       "\\item 'M3'\n",
       "\\item 'S2'\n",
       "\\item 'S1'\n",
       "\\item 'S3'\n",
       "\\item 'S4'\n",
       "\\end{enumerate*}\n"
      ],
      "text/markdown": [
       "1. 'HC1'\n",
       "2. 'HC2'\n",
       "3. 'HC3'\n",
       "4. NA\n",
       "5. 'M1'\n",
       "6. 'M2'\n",
       "7. 'M3'\n",
       "8. 'S2'\n",
       "9. 'S1'\n",
       "10. 'S3'\n",
       "11. 'S4'\n",
       "\n",
       "\n"
      ],
      "text/plain": [
       " [1] \"HC1\" \"HC2\" \"HC3\" NA    \"M1\"  \"M2\"  \"M3\"  \"S2\"  \"S1\"  \"S3\"  \"S4\" "
      ]
     },
     "metadata": {},
     "output_type": "display_data"
    },
    {
     "name": "stderr",
     "output_type": "stream",
     "text": [
      "Warning message:\n",
      "“Removed 40 rows containing missing values (geom_point).”\n"
     ]
    },
    {
     "data": {
      "text/html": [
       "<strong>png:</strong> 2"
      ],
      "text/latex": [
       "\\textbf{png:} 2"
      ],
      "text/markdown": [
       "**png:** 2"
      ],
      "text/plain": [
       "png \n",
       "  2 "
      ]
     },
     "metadata": {},
     "output_type": "display_data"
    },
    {
     "name": "stderr",
     "output_type": "stream",
     "text": [
      "Scale for 'fill' is already present. Adding another scale for 'fill', which\n",
      "will replace the existing scale.\n",
      "\n",
      "Warning message:\n",
      "“Removed 40 rows containing missing values (geom_point).”\n"
     ]
    },
    {
     "data": {
      "text/html": [
       "<strong>png:</strong> 2"
      ],
      "text/latex": [
       "\\textbf{png:} 2"
      ],
      "text/markdown": [
       "**png:** 2"
      ],
      "text/plain": [
       "png \n",
       "  2 "
      ]
     },
     "metadata": {},
     "output_type": "display_data"
    },
    {
     "name": "stderr",
     "output_type": "stream",
     "text": [
      "Warning message:\n",
      "“Ignoring unknown parameters: xmax”\n",
      "Warning message:\n",
      "“Transformation introduced infinite values in continuous x-axis”\n",
      "Warning message:\n",
      "“Transformation introduced infinite values in continuous x-axis”\n"
     ]
    },
    {
     "data": {
      "text/html": [
       "<strong>png:</strong> 2"
      ],
      "text/latex": [
       "\\textbf{png:} 2"
      ],
      "text/markdown": [
       "**png:** 2"
      ],
      "text/plain": [
       "png \n",
       "  2 "
      ]
     },
     "metadata": {},
     "output_type": "display_data"
    }
   ],
   "source": [
    "cluster0 <- subset(x = nCoV.integrated, subset = seurat_clusters == 0)\n",
    "cluster.averages <- AverageExpression(cluster0,\n",
    "                                     return.seurat = TRUE,\n",
    "                                     group.by = 'sample_new')\n",
    "sample_new <- unique(cluster0@meta.data[['sample_new']])\n",
    "#\n",
    "Idents(cluster.averages) <- unlist(sample_new)\n",
    "#\n",
    "dpi <- 300\n",
    "png(file=\"cluster0_integrated_top.png\", width = dpi*10, height = dpi*10, units = \"px\",res = dpi,type='cairo')\n",
    "DoHeatmap(cluster.averages, \n",
    "         features = unlist(TopFeatures(cluster0[['pca']],\n",
    "                          balanced = FALSE)),\n",
    "          size =3, draw.lines = TRUE,\n",
    "         group.by = 'ident',\n",
    "         label = FALSE)\n",
    "dev.off()\n",
    "\n",
    "feature_points <- TopFeatures(cluster0[['pca']])\n",
    "#\n",
    "dpi <- 300\n",
    "png(file=\"cluster0_integrated_heatmap_variable.png\", width = dpi*10, height = dpi*10, units = \"px\",res = dpi,type='cairo')\n",
    "DoHeatmap(cluster.averages, features = feature_points, raster=F,\n",
    "         label= FALSE) + scale_fill_gradientn(colors = rev(RColorBrewer::brewer.pal(n = 10, name = \"RdBu\")) ) + guides(color=FALSE)\n",
    "dev.off()\n",
    "\n",
    "top10 <- head(VariableFeatures(cluster0), 10)\n",
    "\n",
    "options(ggrepel.max.overlaps = Inf)\n",
    "\n",
    "dpi <- 300\n",
    "plot1 <- VariableFeaturePlot(cluster0) \n",
    "plot2 <- LabelPoints(plot = plot1, points = top10, repel = TRUE,\n",
    "                    xnudge = 0, ynudge = 0, xmax = Inf) \n",
    "png(file=\"cluster0_integrated.png\", width = dpi*10, height = dpi*15, units = \"px\",res = dpi,type='cairo')\n",
    "plot1/plot2\n",
    "dev.off()"
   ]
  },
  {
   "cell_type": "code",
   "execution_count": 285,
   "id": "6c3ae8b7-935b-4c3f-bc6c-f6a673fa073f",
   "metadata": {},
   "outputs": [
    {
     "name": "stderr",
     "output_type": "stream",
     "text": [
      "Warning message in RColorBrewer::brewer.pal(n = 40, name = \"RdBu\"):\n",
      "“n too large, allowed maximum for palette RdBu is 11\n",
      "Returning the palette you asked for with that many colors\n",
      "”\n"
     ]
    },
    {
     "data": {
      "image/png": "[encoded data removed]",
      "text/plain": [
       "plot without title"
      ]
     },
     "metadata": {
      "image/png": {
       "height": 420,
       "width": 420
      }
     },
     "output_type": "display_data"
    }
   ],
   "source": [
    "mypalette <- RColorBrewer::brewer.pal(n = 40, name = \"RdBu\")\n",
    "features <- TopFeatures(cluster0[['pca']])\n",
    "#png(file=\"cluster0_dotplot.png\", width = dpi*20, height = dpi*5, units = \"px\",res = dpi,type='cairo')\n",
    "DotPlot(cluster0, features = features, cols = mypalette, dot.scale = 9, col.max = 40, split.by = 'group') + \n",
    "       RotatedAxis()\n",
    "#dev.off()"
   ]
  },
  {
   "cell_type": "code",
   "execution_count": 230,
   "id": "f40600da-2778-4fcf-bf96-8cdef6e107cb",
   "metadata": {},
   "outputs": [],
   "source": [
    "cluster2 <- subset(x = nCoV.integrated, subset = seurat_clusters == 2)"
   ]
  },
  {
   "cell_type": "code",
   "execution_count": 286,
   "id": "2ac16ba0-4fed-40c8-980b-dc664ab67862",
   "metadata": {},
   "outputs": [
    {
     "name": "stderr",
     "output_type": "stream",
     "text": [
      "Warning message in RColorBrewer::brewer.pal(n = 40, name = \"RdBu\"):\n",
      "“n too large, allowed maximum for palette RdBu is 11\n",
      "Returning the palette you asked for with that many colors\n",
      "”\n"
     ]
    },
    {
     "data": {
      "text/html": [
       "<strong>png:</strong> 2"
      ],
      "text/latex": [
       "\\textbf{png:} 2"
      ],
      "text/markdown": [
       "**png:** 2"
      ],
      "text/plain": [
       "png \n",
       "  2 "
      ]
     },
     "metadata": {},
     "output_type": "display_data"
    }
   ],
   "source": [
    "mypalette <- RColorBrewer::brewer.pal(n = 40, name = \"RdBu\")\n",
    "features <- TopFeatures(cluster2[['pca']])\n",
    "png(file=\"cluster2_dotplot.png\", width = dpi*20, height = dpi*5, units = \"px\",res = dpi,type='cairo')\n",
    "DotPlot(cluster2, features = features, cols = mypalette, dot.scale = 9, col.max = 40, split.by = 'group') + \n",
    "       RotatedAxis()\n",
    "dev.off()"
   ]
  },
  {
   "cell_type": "code",
   "execution_count": 244,
   "id": "4515c10b-ff31-4dd9-938d-b9c58d02491f",
   "metadata": {},
   "outputs": [],
   "source": [
    "DoHeatmap(cluster.averages, \n",
    "         features = unlist(TopFeatures(cluster0[['pca']],\n",
    "                          balanced = FALSE)),\n",
    "          size =3, draw.lines = TRUE,\n",
    "         group.by = 'ident',\n",
    "         label = FALSE)"
   ]
  },
  {
   "cell_type": "code",
   "execution_count": 278,
   "id": "780cb1aa-f838-42e2-9d67-e4ce1bcefab4",
   "metadata": {},
   "outputs": [
    {
     "name": "stderr",
     "output_type": "stream",
     "text": [
      "Removing cells with NA for 1 or more grouping variables\n",
      "\n",
      "Warning message:\n",
      "“The following arguments are not used: row.names”\n",
      "Centering and scaling data matrix\n",
      "\n",
      "Warning message:\n",
      "“Transformation introduced infinite values in continuous x-axis”\n",
      "Warning message:\n",
      "“Transformation introduced infinite values in continuous x-axis”\n"
     ]
    },
    {
     "data": {
      "text/html": [
       "<strong>png:</strong> 2"
      ],
      "text/latex": [
       "\\textbf{png:} 2"
      ],
      "text/markdown": [
       "**png:** 2"
      ],
      "text/plain": [
       "png \n",
       "  2 "
      ]
     },
     "metadata": {},
     "output_type": "display_data"
    }
   ],
   "source": [
    "#\n",
    "cluster0 <- subset(x = nCoV.integrated, subset = seurat_clusters == 0)\n",
    "cluster.averages <- AverageExpression(cluster0,\n",
    "                                     return.seurat = TRUE,\n",
    "                                     group.by = 'sample_new')\n",
    "\n",
    "sample_new <- unique(cluster0@meta.data[['sample_new']])\n",
    "Idents(cluster.averages) <- unlist(sample_new)\n",
    "\n",
    "features <- c('MARCO', 'CD68', 'FCGR3A', 'TREM2', 'FCN1', 'SPP1', 'FABP4', 'CD8A')\n",
    "dpi <- 300\n",
    "options(ggrepel.max.overlaps = Inf)\n",
    "plot1 <- VariableFeaturePlot(cluster0) \n",
    "plot2 <- LabelPoints(plot = plot1, points = features, repel = TRUE,\n",
    "                    xnudge = 0, ynudge = 0) \n",
    "png(file=\"cluster0_integrated_curated.png\", width = dpi*10, height = dpi*15, units = \"px\",res = dpi,type='cairo')\n",
    "plot1/plot2\n",
    "dev.off()"
   ]
  },
  {
   "cell_type": "code",
   "execution_count": 281,
   "id": "8084be25-55bb-4cfd-b26c-b2c57b280dee",
   "metadata": {},
   "outputs": [
    {
     "data": {
      "text/html": [
       "<strong>png:</strong> 2"
      ],
      "text/latex": [
       "\\textbf{png:} 2"
      ],
      "text/markdown": [
       "**png:** 2"
      ],
      "text/plain": [
       "png \n",
       "  2 "
      ]
     },
     "metadata": {},
     "output_type": "display_data"
    }
   ],
   "source": [
    "mypalette <- RColorBrewer::brewer.pal(n = 11, name = \"RdBu\")\n",
    "features <- c('MARCO', 'CD68', 'FCGR3A', 'TREM2', 'FCN1', 'SPP1', 'FABP4','CD8A')\n",
    "png(file=\"cluster0_integrated_curated_dotplot.png\", width = dpi*10, height = dpi*15, units = \"px\",res = dpi,type='cairo')\n",
    "DotPlot(cluster0, features = features, cols = mypalette, dot.scale = 9, col.max = 40, split.by = 'group') + \n",
    "       RotatedAxis()\n",
    "dev.off()"
   ]
  },
  {
   "cell_type": "code",
   "execution_count": 282,
   "id": "53931b5c-c9f8-460f-9aeb-4c9d98c6eb76",
   "metadata": {},
   "outputs": [
    {
     "name": "stderr",
     "output_type": "stream",
     "text": [
      "Removing cells with NA for 1 or more grouping variables\n",
      "\n",
      "Warning message:\n",
      "“The following arguments are not used: row.names”\n",
      "Centering and scaling data matrix\n",
      "\n",
      "Warning message:\n",
      "“Transformation introduced infinite values in continuous x-axis”\n",
      "Warning message:\n",
      "“Transformation introduced infinite values in continuous x-axis”\n"
     ]
    },
    {
     "data": {
      "text/html": [
       "<strong>png:</strong> 2"
      ],
      "text/latex": [
       "\\textbf{png:} 2"
      ],
      "text/markdown": [
       "**png:** 2"
      ],
      "text/plain": [
       "png \n",
       "  2 "
      ]
     },
     "metadata": {},
     "output_type": "display_data"
    },
    {
     "data": {
      "text/html": [
       "<strong>png:</strong> 2"
      ],
      "text/latex": [
       "\\textbf{png:} 2"
      ],
      "text/markdown": [
       "**png:** 2"
      ],
      "text/plain": [
       "png \n",
       "  2 "
      ]
     },
     "metadata": {},
     "output_type": "display_data"
    }
   ],
   "source": [
    "#\n",
    "cluster2 <- subset(x = nCoV.integrated, subset = seurat_clusters == 2)\n",
    "cluster.averages <- AverageExpression(cluster2,\n",
    "                                     return.seurat = TRUE,\n",
    "                                     group.by = 'sample_new')\n",
    "\n",
    "sample_new <- unique(cluster2@meta.data[['sample_new']])\n",
    "Idents(cluster.averages) <- unlist(sample_new)\n",
    "\n",
    "features <- c('MARCO', 'CD68', 'FCGR3A', 'TREM2', 'FCN1', 'SPP1', 'FABP4', 'CD8A')\n",
    "dpi <- 300\n",
    "options(ggrepel.max.overlaps = Inf)\n",
    "plot1 <- VariableFeaturePlot(cluster2) \n",
    "plot2 <- LabelPoints(plot = plot1, points = features, repel = TRUE,\n",
    "                    xnudge = 0, ynudge = 0) \n",
    "png(file=\"cluster2_integrated_curated.png\", width = dpi*10, height = dpi*15, units = \"px\",res = dpi,type='cairo')\n",
    "plot1/plot2\n",
    "dev.off()\n",
    "mypalette <- RColorBrewer::brewer.pal(n = 11, name = \"RdBu\")\n",
    "png(file=\"cluster2_integrated_curated_dotplot.png\", width = dpi*10, height = dpi*15, units = \"px\",res = dpi,type='cairo')\n",
    "DotPlot(cluster2, features = features, cols = mypalette, dot.scale = 9, col.max = 40, split.by = 'group') + \n",
    "       RotatedAxis()\n",
    "dev.off()"
   ]
  },
  {
   "cell_type": "code",
   "execution_count": 283,
   "id": "3626f002-b260-49cb-955c-03c5d0361d0a",
   "metadata": {},
   "outputs": [
    {
     "name": "stderr",
     "output_type": "stream",
     "text": [
      "Removing cells with NA for 1 or more grouping variables\n",
      "\n",
      "Warning message:\n",
      "“The following arguments are not used: row.names”\n",
      "Centering and scaling data matrix\n",
      "\n",
      "Warning message:\n",
      "“Transformation introduced infinite values in continuous x-axis”\n",
      "Warning message:\n",
      "“Transformation introduced infinite values in continuous x-axis”\n"
     ]
    },
    {
     "data": {
      "text/html": [
       "<strong>png:</strong> 2"
      ],
      "text/latex": [
       "\\textbf{png:} 2"
      ],
      "text/markdown": [
       "**png:** 2"
      ],
      "text/plain": [
       "png \n",
       "  2 "
      ]
     },
     "metadata": {},
     "output_type": "display_data"
    },
    {
     "data": {
      "text/html": [
       "<strong>png:</strong> 2"
      ],
      "text/latex": [
       "\\textbf{png:} 2"
      ],
      "text/markdown": [
       "**png:** 2"
      ],
      "text/plain": [
       "png \n",
       "  2 "
      ]
     },
     "metadata": {},
     "output_type": "display_data"
    }
   ],
   "source": [
    "#\n",
    "cluster12 <- subset(x = nCoV.integrated, subset = seurat_clusters == 12)\n",
    "cluster.averages <- AverageExpression(cluster12,\n",
    "                                     return.seurat = TRUE,\n",
    "                                     group.by = 'sample_new')\n",
    "\n",
    "sample_new <- unique(cluster12@meta.data[['sample_new']])\n",
    "Idents(cluster.averages) <- unlist(sample_new)\n",
    "\n",
    "features <- c('MARCO', 'CD68', 'FCGR3A', 'TREM2', 'FCN1', 'SPP1', 'FABP4', 'CD8A')\n",
    "\n",
    "dpi <- 300\n",
    "options(ggrepel.max.overlaps = Inf)\n",
    "plot1 <- VariableFeaturePlot(cluster12) \n",
    "plot2 <- LabelPoints(plot = plot1, points = features, repel = TRUE,\n",
    "                    xnudge = 0, ynudge = 0) \n",
    "png(file=\"cluster12_integrated_curated.png\", width = dpi*10, height = dpi*15, units = \"px\",res = dpi,type='cairo')\n",
    "plot1/plot2\n",
    "dev.off()\n",
    "mypalette <- RColorBrewer::brewer.pal(n = 11, name = \"RdBu\")\n",
    "png(file=\"cluster12_integrated_curated_dotplot.png\", width = dpi*10, height = dpi*15, units = \"px\",res = dpi,type='cairo')\n",
    "DotPlot(cluster12, features = features, cols = mypalette, dot.scale = 9, col.max = 40, split.by = 'group') + \n",
    "       RotatedAxis()\n",
    "dev.off()"
   ]
  },
  {
   "cell_type": "code",
   "execution_count": null,
   "id": "f4ef2e81-f531-4980-a1cc-73d935bb9d52",
   "metadata": {},
   "outputs": [],
   "source": []
  }
 ],
 "metadata": {
  "kernelspec": {
   "display_name": "R [conda env:r_bioinfo]",
   "language": "R",
   "name": "conda-env-r_bioinfo-r"
  },
  "language_info": {
   "codemirror_mode": "r",
   "file_extension": ".r",
   "mimetype": "text/x-r-source",
   "name": "R",
   "pygments_lexer": "r",
   "version": "4.0.5"
  }
 },
 "nbformat": 4,
 "nbformat_minor": 5
}
